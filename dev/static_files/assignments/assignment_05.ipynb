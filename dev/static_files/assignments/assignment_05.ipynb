{
  "nbformat": 4,
  "nbformat_minor": 0,
  "metadata": {
    "colab": {
      "name": "assignment_05.ipynb",
      "version": "0.3.2",
      "provenance": [],
      "collapsed_sections": [],
      "toc_visible": true
    },
    "kernelspec": {
      "name": "python3",
      "display_name": "Python 3"
    },
    "accelerator": "GPU"
  },
  "cells": [
    {
      "cell_type": "markdown",
      "metadata": {
        "id": "-woU4Sodh6ND",
        "colab_type": "text"
      },
      "source": [
        "# Assignment #5\n",
        "\n",
        "\n",
        "Deep Learning / Spring 1398, Iran University of Science and Technology\n",
        "\n",
        "\n",
        "\n",
        "---\n",
        "\n"
      ]
    },
    {
      "cell_type": "markdown",
      "metadata": {
        "id": "JWitIy1viFuD",
        "colab_type": "text"
      },
      "source": [
        "**Please pay attention to these notes:**\n",
        "\n",
        "<br/>\n",
        "\n",
        "- **Assignment Due:**  1398/04/19 23:59\n",
        "- If you need any additional information, please review the assignment page on the course website.\n",
        "- The items you need to answer are highlighted in red and the coding parts you need to implement are denoted by:\n",
        "```\n",
        "########################################\n",
        "#     Put your implementation here     #\n",
        "########################################\n",
        "```\n",
        "- We always recommend co-operation and discussion in groups for assignments. However, each student has to finish all the questions by him/herself. If our matching system identifies any sort of copying, you'll be responsible for consequences. So, please mention his/her name if you have a team-mate.\n",
        "- Students who audit this course should submit their assignments like other students to be qualified for attending the rest of the sessions.\n",
        "- Finding any sort of copying will zero down that assignment grade and also will be counted as two negative assignment for your final score.\n",
        "- When you are ready to submit, please follow the instructions at the end of this notebook.\n",
        "- If you have any questions about this assignment, feel free to drop us a line. You may also post your questions on the course's forum page.\n",
        "- You must run this notebook on Google Colab platform; there are some dependencies to Google Colab VM for some of the libraries.\n",
        "- **Before starting to work on the assignment please fill your name in the next section AND Remember to RUN the cell.**\n",
        "\n",
        "<br/>\n",
        "\n",
        "\n",
        "Assignment Page: https://iust-deep-learning.github.io/972/assignments/05_rnn_in_depth\n",
        "\n",
        "Course Forum: [https://groups.google.com/forum/#!forum/dl972/](https://groups.google.com/forum/#!forum/dl972/)"
      ]
    },
    {
      "cell_type": "markdown",
      "metadata": {
        "id": "0ejALNiDCWnd",
        "colab_type": "text"
      },
      "source": [
        "\n",
        "\n",
        "---\n",
        "\n"
      ]
    },
    {
      "cell_type": "markdown",
      "metadata": {
        "id": "Vjwf6dWNCIQP",
        "colab_type": "text"
      },
      "source": [
        "Fill your information here & run the cell"
      ]
    },
    {
      "cell_type": "code",
      "metadata": {
        "id": "NeLkOPE6Qwr7",
        "colab_type": "code",
        "cellView": "form",
        "colab": {}
      },
      "source": [
        "#@title Enter your information & \"RUN the cell!!\"\n",
        "student_id = 0 #@param {type:\"integer\"}\n",
        "student_name = \"\" #@param {type:\"string\"}\n",
        "Your_Github_account_Email = \"\" #@param {type:\"string\"}\n",
        "\n",
        "print(\"your student id:\", student_id)\n",
        "print(\"your name:\", student_name)\n",
        "\n",
        "\n",
        "from pathlib import Path\n",
        "\n",
        "ASSIGNMENT_PATH = Path('asg05')\n",
        "ASSIGNMENT_PATH.mkdir(parents=True, exist_ok=True)"
      ],
      "execution_count": 0,
      "outputs": []
    },
    {
      "cell_type": "markdown",
      "metadata": {
        "colab_type": "text",
        "id": "QjjwwkNThk29"
      },
      "source": [
        "# 1. RNN in depth"
      ]
    },
    {
      "cell_type": "markdown",
      "metadata": {
        "id": "rQjCMlHwjpeo",
        "colab_type": "text"
      },
      "source": [
        "We have investigated some text-based neural network in the previous assignment. Now we want actually to implement an advanced, research-ready LSTM network. We will train it in a memory-friendly setup, and bring *residual connection* and *pooling layer* from Computer vision to improve its performance."
      ]
    },
    {
      "cell_type": "markdown",
      "metadata": {
        "id": "hIot0KTazvca",
        "colab_type": "text"
      },
      "source": [
        "## 1.1 RNN input"
      ]
    },
    {
      "cell_type": "markdown",
      "metadata": {
        "id": "9m5fcwbc6W4r",
        "colab_type": "text"
      },
      "source": [
        "In this section, we will go through all the details until we reach at a complete RNN pipeline implementation. Three conditions need to be taken into consideration when we're thinking about the RNN input. \n",
        "1. Formally, neural networks have inputs which are fixed in both size and shape, e.g., a 32x32 image, but in contrast inputs to an RNN network are variable-length sequences. \n",
        "2. Size and shape of any tensor in our neural network should be precisely defined at run time. \n",
        "\n",
        "So far, so good. We can feed one sample at a time to pass those conditions. But this is when the third condition appears.\n",
        "3. Generally, Stochastic Gradient Descent is referred to as a practical solution in the machine learning vocabulary, but actually, it is a theoretical approach which was first introduced in 1951 [1] as a stochastic gradient approximation technique, In other words, we cannot train a neural network with batch size = 1, we need more samples in each traning step to have a reasonable gradient approximation. So feeding one variable length input at a time will not work.\n",
        "\n",
        "As you may know, one possible solution is to pad the inputs to have the same lengths. First, we find the maximum possible length by looking at our dataset; then we pad any other samples with zeros to have the same length as the sample with maximum length. Here is an example from our codes in the class:\n"
      ]
    },
    {
      "cell_type": "code",
      "metadata": {
        "id": "ew-N3pv-WSHA",
        "colab_type": "code",
        "colab": {}
      },
      "source": [
        "import random\n",
        "import numpy as np\n",
        "from pprint import pprint\n",
        "from keras.preprocessing.sequence import pad_sequences\n",
        "\n",
        "MAX_LEN = 12\n",
        "MIN_LEN = 1\n",
        "\n",
        "# Create variable length sequence dataset\n",
        "seq_list = [[random.randint(0, 100) for _ in range(random.randint(MIN_LEN, MAX_LEN))] for _ in range(15)]\n",
        "print(\"# Un-padded dataset\")\n",
        "pprint(seq_list)\n",
        "\n",
        "# Create a padded version\n",
        "print(\"\\n # Padded version\")\n",
        "padded_seq_list = pad_sequences(seq_list, padding='post')\n",
        "padded_seq_list"
      ],
      "execution_count": 0,
      "outputs": []
    },
    {
      "cell_type": "markdown",
      "metadata": {
        "id": "Wc7OpKlRYdcx",
        "colab_type": "text"
      },
      "source": [
        "Batching is also easy. We can directly create the chunks from `padded_seq_list`. All of them have a fixed `[batch_size, MAX_LEN]` shape."
      ]
    },
    {
      "cell_type": "code",
      "metadata": {
        "id": "iLJlNKulZY7d",
        "colab_type": "code",
        "colab": {}
      },
      "source": [
        "BATCH_SIZE = 5\n",
        "\n",
        "for i in range(0, len(padded_seq_list), BATCH_SIZE):\n",
        "  batch = padded_seq_list[i:i+BATCH_SIZE]\n",
        "  print(\"# Batch #%s, shape = %s\"%(i//BATCH_SIZE, batch.shape))\n",
        "  pprint(padded_seq_list[i:i+BATCH_SIZE])"
      ],
      "execution_count": 0,
      "outputs": []
    },
    {
      "cell_type": "markdown",
      "metadata": {
        "id": "Om5TBcciaGw8",
        "colab_type": "text"
      },
      "source": [
        "It seems everything is alright, and we can jump straight into the implementation. But can you spot the huge waste of space? Do all of the batches have some sequence with the maximum length? Of course not! Let's imagine a real-world example; Generally, a text classification corpus has a large number of sentences. However, their length roughly follows the normal distribution (say $\\mu = 40$). That is, most of our sentences are within the distribution mean range. But always we have long sentences with a length even bigger than 100. Now you can guess how much space we would have lost if we had set the `MAX_LEN = 100`."
      ]
    },
    {
      "cell_type": "markdown",
      "metadata": {
        "id": "RU_Vc9RYgrN-",
        "colab_type": "text"
      },
      "source": [
        "## 1.2 Solution: Batching with variable `MAX_LEN`"
      ]
    },
    {
      "cell_type": "markdown",
      "metadata": {
        "id": "ojCOagxMhDIZ",
        "colab_type": "text"
      },
      "source": [
        "So instead of setting max_len to the dataset's maximum, we can set it for each individual batch. In other words, we will have different max_len across our batches. In this case, we not only pass the 3-fold conditions, but also are much more memory efficient. Let's rewrite the above example to illustrate this idea."
      ]
    },
    {
      "cell_type": "code",
      "metadata": {
        "id": "mZIEeciYiZsn",
        "colab_type": "code",
        "colab": {}
      },
      "source": [
        "BATCH_SIZE = 5\n",
        "\n",
        "for i in range(0, len(padded_seq_list), BATCH_SIZE):\n",
        "  batch = seq_list[i:i + BATCH_SIZE]\n",
        "  padded_batch = pad_sequences(batch, padding='post')\n",
        "\n",
        "  print(\"# Batch #%s, shape = %s\"%(i//BATCH_SIZE, padded_batch.shape))\n",
        "  pprint(padded_batch)"
      ],
      "execution_count": 0,
      "outputs": []
    },
    {
      "cell_type": "markdown",
      "metadata": {
        "id": "yL-5558krv2O",
        "colab_type": "text"
      },
      "source": [
        "As you can see, we've saved some memory in our artificial example. Let's jump back to our case when the sequences are real sentences. What does this input tensor really mean? Recall that the RNN input is a 3d tensor, but here we have 2d arrays. Actually, this 2d array is simply small number of sentences gathered together to construct one batch, and each word is replaced with its ID from the vocabulary \n",
        "\n",
        "<p align=\"center\"><img src=\"https://iust-deep-learning.github.io/972/static_files/assignments/asg05_assets/01_lstm_input_2d.png\" width=\"850\"/>   \n",
        "</p>\n",
        "<p align=\"center\">Figure 1. Batch size = 3, and W<sub>i</sub> = Word ID assigned by the vocabulary, and 0 is reserved for padding; Here max_len = 6, and sentence 1 and 3 are padded to match up with the longest sentence</p>"
      ]
    },
    {
      "cell_type": "markdown",
      "metadata": {
        "id": "Wht4IR-O-B4n",
        "colab_type": "text"
      },
      "source": [
        "This 2d array is the actual input that we feed into our network. However, there is one more step. As mentioned earlier, an RNN input must be a 3d tensor. A typical input shape for an RNN is something like `[batch, max_len, features]`. Up to this point, we have `[batch, max_len]` with another dimension left. In NLP, features are simply the word embeddings. So let's bring our embedding layer to create the final tensor:\n",
        "\n",
        "</br>\n",
        "<p align=\"center\"><img src=\"https://iust-deep-learning.github.io/972/static_files/assignments/asg05_assets/02_lstm_input_3d.png\" />   \n",
        "</p>\n",
        "</br>\n",
        "<p align=\"center\">Figure 2. E<SUB>i</SUB> is the embedding vector for word W<sub>i</sub>. This tensor has [batch = 3, max_len = 6, features = 300 ] shape, and is ready to be fed into an RNN network directly.  </p>\n",
        "\n",
        "Some time steps are grayed out by the masking layer. It simply hides these steps from the upcoming layers (here the upcoming layer is the RNN network). By masking these inputs we tell the RNN network to skip the grayed out inputs and continue the computation on the remaining sequences.\n",
        "\n",
        "As the figure denotes it, this 3D tensor is then split into its time steps so that each RNN step will receive a vertical 2d slice. With that said, the shape of an RNN cell input is `[batch, word_dim]` as well as its previous hidden state which has `[batch, hidden_dim] ` shape."
      ]
    },
    {
      "cell_type": "markdown",
      "metadata": {
        "id": "Hdnp17cOSHPs",
        "colab_type": "text"
      },
      "source": [
        " ## 1.3 Batches with variable MAX_LEN Implementation"
      ]
    },
    {
      "cell_type": "markdown",
      "metadata": {
        "id": "41T95o_jSOoE",
        "colab_type": "text"
      },
      "source": [
        "To implement the batching system with variable time-steps, we need to use handy tools that come with the Keras framework. As you might remember, the whole dataset has to be passed to `model.fit(...)` when we want to train the model. However, Keras provides another way to train our model. Indeed, `model.fit_generator(generator, ...)` is useful when we want to feed the data batches manually and one-by-one. \n",
        "\n",
        "As explained by [Keras documentations](https://keras.io/models/model/), the generator parameter must output a tuple `(inputs, targets)` where `inputs` are model's inputs, and `targets` are the labels corresponding to the inputs. This tuple forms a single batch. Naturally, the length for the input and output array should be similar for every batch but can have completely different sizes and shapes across all batches. Implement described batching system in the following class:"
      ]
    },
    {
      "cell_type": "code",
      "metadata": {
        "id": "HzcSExW7bK9-",
        "colab_type": "code",
        "colab": {}
      },
      "source": [
        "import numpy as np\n",
        "from keras.utils import Sequence\n",
        "\n",
        "\n",
        "class VariableLengthGenerator(Sequence):\n",
        "  \"\"\"Implements an efficient variable-length batch generator.\n",
        "    The value of Time step dimension is calculated accroding to the longest sequence \n",
        "    in each batch.\n",
        "  \"\"\"\n",
        "  def __init__(self, X, Y, batch_size, num_classes, shuffle=False):\n",
        "    \"\"\"\n",
        "    the class instructor.\n",
        "    Args:\n",
        "      X (list[list[int/float]]): A sequence input data\n",
        "      Y (list[int]): Target labels coresponding to ith element\n",
        "      batch_size (int): Pre-defined batch size\n",
        "      num_classes (int): Number of target classes. \n",
        "         To use with keras.utils.to_categorical\n",
        "      shuffle (boolean): Enable dataset shuffling after each epoch\n",
        "    \"\"\"\n",
        "    ########################################\n",
        "    #     Put your implementation here     #\n",
        "    ########################################\n",
        "    \n",
        "  \n",
        "  def __len__(self):\n",
        "    \"\"\"\n",
        "    Denotes the number of batches per epoch\n",
        "    Returns:\n",
        "      len (int): number of batches per epoch\n",
        "    \"\"\"\n",
        "    ########################################\n",
        "    #     Put your implementation here     #\n",
        "    ########################################\n",
        "    \n",
        "    return 0\n",
        "  \n",
        "  def __getitem__(self, idx):\n",
        "    \"\"\"\n",
        "    Generate idx-th batch of dataset.\n",
        "    \n",
        "    Args:\n",
        "      idx (int): the batch index\n",
        "      \n",
        "    Returns:\n",
        "      A tuple: (\n",
        "        input batch (numpy.array(shape=[batch_size, batch_max_len])),\n",
        "        target batch (numpu.array(shape=[batch_size, num_classes], dtype=np.int))\n",
        "      )\n",
        "      \n",
        "    Hint: First find the sentence with the maximum length within the batch (batch_max_len). \n",
        "      then pad any other sentence with zero to match up with the batch_max_len\n",
        "    \"\"\"\n",
        "    \n",
        "    x = None\n",
        "    y = None\n",
        "    \n",
        "    ########################################\n",
        "    #     Put your implementation here     #\n",
        "    ########################################\n",
        "    \n",
        "    return (x, y)\n",
        "  \n",
        "  def on_epoch_end(self):\n",
        "    \"\"\"\n",
        "    This method is called after each epoch,\n",
        "      you can use it to shuffle dataset on every epoch.\n",
        "    \"\"\"\n",
        "    ########################################\n",
        "    #     Put your implementation here     #\n",
        "    ########################################"
      ],
      "execution_count": 0,
      "outputs": []
    },
    {
      "cell_type": "code",
      "metadata": {
        "id": "70DGzqmGp0Co",
        "colab_type": "code",
        "colab": {}
      },
      "source": [
        "# Test your implementation\n",
        "fake_input = [[1,3,4,3,4,5,2,3], [34,38,3], [93,499,5,95,3],[93,4,2,3], [4,3,94,4,5]]\n",
        "fake_target = [0,2,2,1,3]\n",
        "fake_gen = VariableLengthGenerator(fake_input, fake_target, 2, 5)\n",
        "\n",
        "batch_1_inputs, batch_1_targets = fake_gen[0]\n",
        "\n",
        "assert len(fake_gen) == 3\n",
        "assert batch_1_inputs.shape == (2, 8)\n",
        "assert batch_1_targets.shape == (2, 5)\n",
        "\n",
        "ref_batch_1_inp = np.array(\n",
        "    [[1,3,4,3,4,5,2,3],\n",
        "     [34,38,3,0,0,0,0,0]], dtype=np.int32)\n",
        "\n",
        "are_equal = ref_batch_1_inp == batch_1_inputs\n",
        "assert np.all(are_equal)\n",
        "\n",
        "ref_batch_1_tgts = np.array(\n",
        "    [[1,0,0,0,0],\n",
        "     [0,0,1,0,0]], dtype=np.int32)\n",
        "\n",
        "are_equal = ref_batch_1_tgts == batch_1_targets\n",
        "assert np.all(are_equal)\n",
        "print('Passed!')"
      ],
      "execution_count": 0,
      "outputs": []
    },
    {
      "cell_type": "markdown",
      "metadata": {
        "id": "3DquVku4so5c",
        "colab_type": "text"
      },
      "source": [
        "## 1.4 Residual LSTM cell"
      ]
    },
    {
      "cell_type": "markdown",
      "metadata": {
        "id": "mzQjFaatLSrP",
        "colab_type": "text"
      },
      "source": [
        "In neural networks, we believe that every new additional layer is adding more representation power to the model. More layers mean more abstractions and hopefully, better performance. But can we go deep and deeper as we want?\n",
        "Unfortunately the answer to this question is \"no\"; In practice, It is proven that naively making our model deep will always result in worse performance. The problem here is rooted in the training algorithm, i.e., Backpropagation. Having more layers result in more dimmed, vanished error signals. Therefore, early layers will have no idea about what they are doing wrong since the received error signal is quite faded.\n",
        "\n",
        "One of the simple but smart ideas to address this problem is Residual connections. It directly connects every single layer to the final output, which is considered as the primary source of the error signal. In other words, it makes the error signal propagation more efficient. In other words, it creates some kind of *highway* for neural network blocks to put their input on and receive high-quality error signal in the backward pass. In residual connections, ther input is added to the output along with neural network block result. i. e.  $y = F(x) + x$ where $F(x)$ is some neural network building block. \n",
        "\n",
        "</br>\n",
        "<p align=\"center\"><img src=\"https://iust-deep-learning.github.io/972/static_files/assignments/asg05_assets/03_residual_connection.png\" width=\"400\" />   \n",
        "</p>\n",
        "\n",
        "<p align=\"center\">Figure 3. A residual connection with two neural network blocks.  </p>\n",
        "\n",
        "Residual connections were originally introduced in 2015 \\[2], primarily for image recognition networks. However, recurrent neural networks are no different from deep networks in terms of their deepness. In fact, RNNs unfold themselves to match their input sequence, which consequently creates a deep network. So, why not try residual connections on RNNs?\n",
        "\n",
        "\n",
        "<p align=\"center\"><img src=\"https://iust-deep-learning.github.io/972/static_files/assignments/asg05_assets/04_residual_lstm.png\" width=\"400\" />   \n",
        "</p>\n",
        "\n",
        "<p align=\"center\">Figure 4. Residual recuarrent neural network with multi layer LSTM cells.  </p>\n",
        "\n",
        "In an LSTM network, we can add residual connections between distinct layers to make dataflow simpler. Note that this connection is restricted to a single feedforward step of RNN. That is, LSTM cells cannot be connected across steps. It is intresting to know that Google has trained a huge deep neural machine translation system with 8 LSTM layers by incorporating this architecture for Google Translate. \n",
        "\n",
        "There are no residual connections in the first layer. Why? How can you fix this?\n"
      ]
    },
    {
      "cell_type": "markdown",
      "metadata": {
        "id": "3Z9xIUtzFqKK",
        "colab_type": "text"
      },
      "source": [
        "$\\color{red}{\\text{Write your answer here}}$\n"
      ]
    },
    {
      "cell_type": "markdown",
      "metadata": {
        "id": "PHHJEeJ2HdQt",
        "colab_type": "text"
      },
      "source": [
        "### Implementation\n",
        "\n",
        "In this section, our goal is to implement a Residual LSTM cell to be used with `keras.layer.RNN` class. `RNN` class is a handy tool from Keras library; it simply unfolds the network with the given **cell**. This **cell** parameter could be anything such as LSTM, GRU, or even SimpleRNN cell. We will leverage this functionality to create a residual wrapper around the LSTM cell. The idea for the wrapper is to first run the LSTM cell with the provided input and then create its output by summing over the input and the LSTM output.\n",
        "\n",
        "To make things easier, we skip the wrapper function and directly inherit our cell from `LSTMCell`. By using this approach, we'll lose some flexibility in exchange for convenience. Please remember the context for `call(..)` method is a single running RNN step, and its input is consequently a 2d slice of the whole RNN input which makes its shape in the form of  `[batch, features]`"
      ]
    },
    {
      "cell_type": "code",
      "metadata": {
        "id": "wm7BjUuQM5zC",
        "colab_type": "code",
        "colab": {}
      },
      "source": [
        "from keras.layers import LSTMCell\n",
        "\n",
        "class ResidualLSTMCell(LSTMCell):\n",
        "  \"\"\"LSTM extension to with residual connection\"\"\"\n",
        "  \n",
        "  def __init__(self,units, **kwargs):\n",
        "      super(ResidualLSTMCell, self).__init__(units, **kwargs)\n",
        "      \n",
        "  def call(self, inputs, states, training=None):\n",
        "    \"\"\"Run single step of RNN.\n",
        "    \n",
        "    Args:\n",
        "      inputs (Tensor): input for this step x_t. Shape: [batch, features]\n",
        "      states: An lstm internal state data structure\n",
        "    \n",
        "    Returns:\n",
        "      (outputs, states): A tuple representing cell output, and the modified state\n",
        "       \n",
        "    Hints: call the parent class method, and then \n",
        "      create the final output from the original input and\n",
        "      actual lstm cell output. Do not touch the states parameter.\n",
        "    \"\"\"\n",
        "    \n",
        "    output = None\n",
        "    new_states = None\n",
        "    \n",
        "    ########################################\n",
        "    #     Put your implementation here     #\n",
        "    ########################################\n",
        "    \n",
        "    return output, new_states"
      ],
      "execution_count": 0,
      "outputs": []
    },
    {
      "cell_type": "markdown",
      "metadata": {
        "id": "ByHkX1BEbCrT",
        "colab_type": "text"
      },
      "source": [
        "Test your implementation"
      ]
    },
    {
      "cell_type": "code",
      "metadata": {
        "id": "p6ytbgKhQay5",
        "colab_type": "code",
        "colab": {}
      },
      "source": [
        "import numpy as np\n",
        "from keras import backend as K\n",
        "\n",
        "lcell = LSTMCell(3, activation=None, recurrent_activation=None, use_bias=True,\n",
        "                kernel_initializer='ones', recurrent_initializer='ones',\n",
        "                bias_initializer='zeros')\n",
        "\n",
        "rcell = ResidualLSTMCell(3, activation=None, recurrent_activation=None, use_bias=True,\n",
        "                kernel_initializer='ones', recurrent_initializer='ones',\n",
        "                bias_initializer='zeros')\n",
        "\n",
        "states = (K.constant(np.zeros([1,3])),K.constant(np.zeros([1,3])))\n",
        "inputs = K.constant(np.ones([1,3]))\n",
        "\n",
        "lcell.build(input_shape=(1, 3))\n",
        "rcell.build(input_shape=(1, 3))\n",
        "\n",
        "loutput, _ = lcell.call(inputs, states)\n",
        "routput, _ = rcell.call(inputs, states)\n",
        "\n",
        "assert K.eval(K.all(K.equal(routput-loutput,inputs)))\n",
        "print(\"Passed\")"
      ],
      "execution_count": 0,
      "outputs": []
    },
    {
      "cell_type": "markdown",
      "metadata": {
        "id": "eyY9pF8XstSa",
        "colab_type": "text"
      },
      "source": [
        "## 1.5 Max-pooling through time"
      ]
    },
    {
      "cell_type": "markdown",
      "metadata": {
        "id": "o7Ecc6cQ1L9F",
        "colab_type": "text"
      },
      "source": [
        "Another technique that originates from Computer Vision is called Max pooling. As you might remember, this technique reduces the impact of spatial information in the image. For example, If your CNN says, \"Yay! I found a wheel at the position (x,y).\", your Max-pooling will convert this sentence to \"Yay! I found a wheel in this image.\"  Intuitively We can use the max-pooling procedure in any configuration beside an image. Here is an example of Max-pooling application in recurrent networks:\n",
        "\n",
        "<p align=\"center\"><img src=\"https://iust-deep-learning.github.io/972/static_files/assignments/asg05_assets/05_rnn_max_pooling.png\" width=\"450\" />   \n",
        "</p>\n",
        "<p align=\"center\">Figure 5. Max-pooling through an RNN's hidden states.  </p>\n",
        "\n",
        "In this setup, we'd like to perform max-pooling over the hidden states $\\hat{h} = MaxPool([h^{(1)}, ..., h^{(n)}])$ where $\\hat{h}$ is the max-pooled version. Every dim of $\\hat{h}$ is the maximum of that particular dim across all of the hidden states.\n",
        "\n",
        "$$\n",
        "\\hat{h}_i =\\max_{1\\le k \\le n} h^{(k)}_i\n",
        "$$\n",
        "\n",
        "Explain why do you think max-pooling through time will help model's performance?"
      ]
    },
    {
      "cell_type": "markdown",
      "metadata": {
        "id": "6EH-ASSyo8eJ",
        "colab_type": "text"
      },
      "source": [
        "$\\color{red}{\\text{Write you answer here}}$"
      ]
    },
    {
      "cell_type": "markdown",
      "metadata": {
        "id": "z5ZDlY2OD4QH",
        "colab_type": "text"
      },
      "source": [
        "### Implementation"
      ]
    },
    {
      "cell_type": "markdown",
      "metadata": {
        "id": "_MMzo2tyEPtr",
        "colab_type": "text"
      },
      "source": [
        "The default Keras framework provides the implementation but unfortunately it doesn't support masking. We need to max pool only over valid time steps. Implement this mechanism as a Keras layer."
      ]
    },
    {
      "cell_type": "code",
      "metadata": {
        "id": "X3Y1lWjVX4XK",
        "colab_type": "code",
        "colab": {}
      },
      "source": [
        "from keras.layers import Layer\n",
        "\n",
        "class MaskedGlobalMaxPooling1D(Layer):\n",
        "  \"\"\"\n",
        "  Max pooling over time steps\n",
        "  \"\"\"\n",
        "  def __init__(self, **kwargs):\n",
        "    super().__init__(**kwargs)\n",
        "    self.supports_masking = True\n",
        "  \n",
        "  def compute_output_shape(self, input_shape):\n",
        "    return (input_shape[0], input_shape[-1])\n",
        "\n",
        "  def compute_mask(self, input, input_mask=None):\n",
        "    return None\n",
        "  \n",
        "  def call(self, inputs, mask=None):\n",
        "    \"\"\"\n",
        "    Args:\n",
        "      inputs (Tensor(dtype=float32)): shape = [batch, timesteps, featurs]\n",
        "      mask (Tensor(dtype=bool)): shape = [batch, timesteps]\n",
        "      \n",
        "    Returns\n",
        "      output (Tensor(dtype=float32)): shape = [batch, features]\n",
        "      \n",
        "    Hint: K.tf.where, K.tile, K.max could be helpful.\n",
        "    \"\"\"\n",
        "    \n",
        "    output = None\n",
        "    \n",
        "    ########################################\n",
        "    #     Put your implementation here     #\n",
        "    ########################################\n",
        "    \n",
        "    return output"
      ],
      "execution_count": 0,
      "outputs": []
    },
    {
      "cell_type": "markdown",
      "metadata": {
        "id": "XYr5iMRix-Dt",
        "colab_type": "text"
      },
      "source": [
        "Test your implementation"
      ]
    },
    {
      "cell_type": "code",
      "metadata": {
        "id": "WWQpEjlhG6Ra",
        "colab_type": "code",
        "colab": {}
      },
      "source": [
        "import numpy as np\n",
        "from keras import backend as K\n",
        "\n",
        "seq = K.constant( [ \n",
        "    [[1, 3],\n",
        "     [4, -2],\n",
        "     [0, 11]],\n",
        "    \n",
        "    [[9, -3],\n",
        "     [8, -2],\n",
        "     [100, -5]]\n",
        "])\n",
        "mask = K.constant([\n",
        "    [True, True, True],\n",
        "    [True, True, False]\n",
        "], dtype='bool')\n",
        "\n",
        "max_pooled = MaskedGlobalMaxPooling1D()(seq, mask=mask)\n",
        "max_pooled = K.eval(max_pooled)\n",
        "\n",
        "print(max_pooled)\n",
        "assert np.all(max_pooled == np.array([[ 4., 11.],\n",
        "       [ 9., -2.]]))\n",
        "print(\"Passed!\")"
      ],
      "execution_count": 0,
      "outputs": []
    },
    {
      "cell_type": "markdown",
      "metadata": {
        "id": "XaV5IrU_Mghj",
        "colab_type": "text"
      },
      "source": [
        "## 1.6 Trainable initial state"
      ]
    },
    {
      "cell_type": "markdown",
      "metadata": {
        "id": "GSsB5R0qSklU",
        "colab_type": "text"
      },
      "source": [
        "RNNs are stateful neural networks. They use this state to represent and store context information. They can add, delete, and modify their states in each step; yet, the initial value for this state vector is kind of unknown. A common approach is to start it with all-zero tensor. However, it is proved that this approach has some drawbacks. Another method is to consider the initial state as a trainable parameter, which means that the initial state can likely reach an optimal value to start the RNN.\n",
        "\n",
        "Fortunately You can specify the initial state in keras `RNN` class."
      ]
    },
    {
      "cell_type": "code",
      "metadata": {
        "id": "5On8r12ES2fK",
        "colab_type": "code",
        "colab": {}
      },
      "source": [
        "from keras import backend as K\n",
        "from keras.layers import Input, RNN, LSTMCell, Lambda, concatenate\n",
        "\n",
        "word_dim = 300\n",
        "hidden_dim = 200\n",
        "\n",
        "inp = Input((None, word_dim))\n",
        "\n",
        "# Fake identity layer to use its add_weights(...) method\n",
        "# We need to create this layer because of Keras limitations\n",
        "iden = Lambda(lambda x: x)\n",
        "x = iden(inp)\n",
        "batch_size = K.shape(x)[0]\n",
        "\n",
        "def create_trainable_initial_state(name_prefix):\n",
        "  h = iden.add_weight('%s_h' % name_prefix, shape=(1, hidden_dim), initializer='zeros')\n",
        "  c = iden.add_weight('%s_c' % name_prefix, shape=(1, hidden_dim), initializer='zeros')\n",
        "\n",
        "  # Make sure they match with shape [batch_size, hidden_dim]\n",
        "  h = K.tile(h, [batch_size, 1])\n",
        "  c = K.tile(c, [batch_size, 1])\n",
        "\n",
        "  return h, c\n",
        "\n",
        "# Create trainable variables for initial states\n",
        "# Forward\n",
        "fw_h, fw_c = create_trainable_initial_state('fw')\n",
        "# Backward\n",
        "bw_h, bw_c = create_trainable_initial_state('bw')\n",
        "\n",
        "# Create simple single layer RNN\n",
        "fw_rnn = RNN(LSTMCell(hidden_dim), return_sequences=True)\n",
        "bw_rnn = RNN(LSTMCell(hidden_dim), return_sequences=True, go_backwards=True)\n",
        "y_fw = fw_rnn(x, initial_state=[fw_h, fw_c])\n",
        "y_bw = bw_rnn(x, initial_state=[bw_h, bw_h])\n",
        "y = concatenate([y_fw, y_bw], axis=-1)\n",
        "y"
      ],
      "execution_count": 0,
      "outputs": []
    },
    {
      "cell_type": "markdown",
      "metadata": {
        "id": "huEh9fQJs5XT",
        "colab_type": "text"
      },
      "source": [
        "## 1.7 Train"
      ]
    },
    {
      "cell_type": "markdown",
      "metadata": {
        "id": "MZQaX8PzIKm1",
        "colab_type": "text"
      },
      "source": [
        "### Putting it all together "
      ]
    },
    {
      "cell_type": "markdown",
      "metadata": {
        "id": "elvuaq-zIuJw",
        "colab_type": "text"
      },
      "source": [
        "Having all parts ready, we can now build our advanced deep memory efficient RNN classifier. You should first implement a multi-layer LSTM bidirectional recurrent neural network with residual connections. Set its initial states to a trainable parameter. Then put Max-pooling layer on top of that in order to reduce all hidden states in a single vector, and finally Feed the computed vector into a multi-layer dense network to get the final predicted label. Here is a complete figure for our advanced model:\n",
        "\n",
        "<p align=\"center\"><img src=\"https://iust-deep-learning.github.io/972/static_files/assignments/asg05_assets/06_final_network.png\" width=\"800\" /> </p>\n",
        "\n",
        "\n",
        "Hints:\n",
        "1. Create an Embedding layer to convert word ids to thier corresponding embeddings. Use `layers.Embedding` class and remember to pass `mask_zero=True` in its paramters.\n",
        "2. Create the RNN part:\n",
        " 1. Unfortunately Keras `Bidirectional` layer is corrupted. You need to create two separate RNNs, one for forward (`fw_rnn = RNN(..., goes_backwards=False)`) and one for the backward direction (`bw_rnn = RNN(..., goes_backwards=True)`).\n",
        " 2. Make sure that you've created two sets of Residual LSTM cells (`fw_cells, bw_cells`) and two sets of initial states (`fw_initial_states, bw_initial_states`).\n",
        " 3. Then concatenate both hidden states to create the final output of a bidirectional multi-layer residual LSTM network (you may find `keras.layers.concatenate([...], axis=-1) useful`.\n",
        "3. Reduce hidden states to the max pooled version via our `MaskedGlobalMaxPooling1D` layer.\n",
        "4. Create a dense multilayer network to predict the output label from the max-pooled hidden state."
      ]
    },
    {
      "cell_type": "markdown",
      "metadata": {
        "id": "2vLK71W9fVx2",
        "colab_type": "text"
      },
      "source": [
        "Hyperpramaneters definition"
      ]
    },
    {
      "cell_type": "code",
      "metadata": {
        "id": "9kzQVcBEfT47",
        "colab_type": "code",
        "colab": {}
      },
      "source": [
        "HIDDEN_NUM = 128\n",
        "NUM_RNN_LAYERS = 3\n",
        "EMBEDDING_DIM = 300\n",
        "DENSE_HIDDEN_LAYERS = [64, 32]\n",
        "DROPOUT_RATE = 0.4\n",
        "VOCAB_SIZE = 10*1000\n",
        "BATCH_SIZE = 128\n",
        "NUM_CLASSES = 4"
      ],
      "execution_count": 0,
      "outputs": []
    },
    {
      "cell_type": "code",
      "metadata": {
        "id": "TpJPHu2mfG5t",
        "colab_type": "code",
        "colab": {}
      },
      "source": [
        "from keras.models import Model\n",
        "from keras.layers import Input, Lambda\n",
        "\n",
        "def create_advanced_rnn(embedding_matrix, num_classes):\n",
        "  \"\"\"Create an advanced LSTM text classifier\n",
        "  \n",
        "  Args:\n",
        "    embedding_matrix (np.array(shape=(vocab, EMBEDDING_DIM))): word embedding matrix\n",
        "    num_classes (int): num of tar classes\n",
        "    \n",
        "  Returns:\n",
        "    model (keras.Model)\n",
        "  \"\"\"\n",
        "  # Input specs\n",
        "  x = Input((None,))\n",
        "  \n",
        "  # Fake layer to add any additional weights\n",
        "  iden = Lambda(lambda x:x)\n",
        "  \n",
        "  # The real input, shape: [batch_size, time_steps]\n",
        "  word_ids = iden(x)\n",
        "  \n",
        "  ########################################\n",
        "  #     Put your implementation here     #\n",
        "  ########################################\n",
        "  \n",
        "  y = None\n",
        "  model = Model(inputs=x, outputs=y)  \n",
        "  \n",
        "  return model"
      ],
      "execution_count": 0,
      "outputs": []
    },
    {
      "cell_type": "markdown",
      "metadata": {
        "id": "KC7dLYG_s6AF",
        "colab_type": "text"
      },
      "source": [
        "Check your implementation"
      ]
    },
    {
      "cell_type": "code",
      "metadata": {
        "id": "V3GbJQKCy7hK",
        "colab_type": "code",
        "colab": {}
      },
      "source": [
        "import numpy as np\n",
        "\n",
        "from IPython.display import SVG\n",
        "from keras.utils.vis_utils import model_to_dot\n",
        "\n",
        "m = create_advanced_rnn(np.zeros((10, EMBEDDING_DIM)), 5)\n",
        "m.summary()\n",
        "\n",
        "SVG(model_to_dot(m).create(prog='dot', format='svg'))"
      ],
      "execution_count": 0,
      "outputs": []
    },
    {
      "cell_type": "markdown",
      "metadata": {
        "id": "FDiZQ-FxY_BX",
        "colab_type": "text"
      },
      "source": [
        "### Data Preparation "
      ]
    },
    {
      "cell_type": "markdown",
      "metadata": {
        "id": "p-z6OoCFy_7t",
        "colab_type": "text"
      },
      "source": [
        "Similarly to the previous assignment, we will use AG News dataset to train our model. Here a description from assignment 04:\n",
        "\n",
        "`The task is text classification on the AG News corpus, which consists of news articles from more than 2000 news sources. Our split has 110K samples for the training and 10k for the validation set. Dataset examples are classified into 4 major topics: {World, Sports, Business, Sci/Tech}`\n",
        "\n",
        "</br>\n",
        "\n",
        "Let's download the dataset"
      ]
    },
    {
      "cell_type": "code",
      "metadata": {
        "id": "PFuaDvw4ZDhw",
        "colab_type": "code",
        "colab": {}
      },
      "source": [
        "! wget -q https://iust-deep-learning.github.io/972/static_files/assignments/asg04_assets/data.tar.gz\n",
        "! tar xvfz data.tar.gz > /dev/null\n",
        "\n",
        "from ag_news_util import read_ag_news, AG_NEWS_LBLS\n",
        "\n",
        "! pip install -q tqdm flair\n",
        "from tqdm import tqdm\n",
        "from flair.data import Sentence"
      ],
      "execution_count": 0,
      "outputs": []
    },
    {
      "cell_type": "markdown",
      "metadata": {
        "id": "_pGGuKFU0MJE",
        "colab_type": "text"
      },
      "source": [
        "In contrast to assignment 04, the processing step is minimal here; we just need to tokenize sentences and convert words to their lower case version."
      ]
    },
    {
      "cell_type": "code",
      "metadata": {
        "id": "51vmcPH5a94m",
        "colab_type": "code",
        "colab": {}
      },
      "source": [
        "def tokenize(sent):\n",
        "  sent = Sentence(sent, use_tokenizer=True)\n",
        "  str_tokens = [t.text.lower() for t in sent.tokens]\n",
        "  return str_tokens\n",
        "\n",
        "(train_sents, train_lbls), (valid_sents, valid_lbls) = read_ag_news()\n",
        "\n",
        "train_tok_sents = list(map(tokenize, train_sents))\n",
        "valid_tok_sents = list(map(tokenize, valid_sents))"
      ],
      "execution_count": 0,
      "outputs": []
    },
    {
      "cell_type": "markdown",
      "metadata": {
        "id": "Nd97Fzof0zCo",
        "colab_type": "text"
      },
      "source": [
        "Download glove pre-trained word embedddings:"
      ]
    },
    {
      "cell_type": "code",
      "metadata": {
        "id": "gi2zfuIpgK6y",
        "colab_type": "code",
        "colab": {}
      },
      "source": [
        "! wget \"http://nlp.stanford.edu/data/glove.6B.zip\" -O glove.6B.zip && unzip glove.6B.zip\n",
        "\n",
        "word2vec = {}\n",
        "with open('glove.6B.300d.txt') as f:\n",
        "  for line in tqdm(f, total=400000):\n",
        "    values = line.split()\n",
        "    word = values[0]\n",
        "    coefs = np.asarray(values[1:], dtype='float32')\n",
        "    word2vec[word] = coefs\n",
        "\n",
        "print('Found %s word vectors.' % len(word2vec))"
      ],
      "execution_count": 0,
      "outputs": []
    },
    {
      "cell_type": "markdown",
      "metadata": {
        "id": "JDfv-Mck08qW",
        "colab_type": "text"
      },
      "source": [
        "Replace tokens with their ids:"
      ]
    },
    {
      "cell_type": "code",
      "metadata": {
        "id": "cEcWnLJfc_u1",
        "colab_type": "code",
        "colab": {}
      },
      "source": [
        "from collections import Counter\n",
        "\n",
        "PAD_TOK = '<pad>'\n",
        "UNK_TOK = '<unk>'\n",
        "special_toks = [PAD_TOK,UNK_TOK]\n",
        "\n",
        "def create_vocab(lst, vocab_size):\n",
        "  c = Counter()\n",
        "  for s in lst:\n",
        "    c.update(s)\n",
        "  \n",
        "  words = [w for w,_ in c.most_common(vocab_size)] \n",
        "  vocab = special_toks + words\n",
        "  \n",
        "  return vocab\n",
        "\n",
        "# First create the vocabulary\n",
        "vocab = create_vocab(train_tok_sents, VOCAB_SIZE)\n",
        "tok2id = {w:i for i, w in enumerate(vocab)}\n",
        "\n",
        "# It is a good practice to initialize out-of-vocabulary tokens\n",
        "# with the embedding matrix mean\n",
        "mean_embed = np.mean(np.array(list(word2vec.values())), axis=0)\n",
        "\n",
        "# Create the embedding matrix according to the vocabulary\n",
        "embedding_matrix = np.zeros((len(tok2id), EMBEDDING_DIM))\n",
        "for word, i in tok2id.items():\n",
        "  embedding_matrix[i] = word2vec.get(word, mean_embed)\n",
        "\n",
        "# Fill index 0 with zero values: padding word vector\n",
        "embedding_matrix[0] = np.zeros(shape=(EMBEDDING_DIM, ))"
      ],
      "execution_count": 0,
      "outputs": []
    },
    {
      "cell_type": "markdown",
      "metadata": {
        "id": "F2cpsze61ClB",
        "colab_type": "text"
      },
      "source": [
        "And finally, use the `VariableLengthGenerator` to create a variable length input pipeline"
      ]
    },
    {
      "cell_type": "code",
      "metadata": {
        "id": "EJ6lWzG7kz_q",
        "colab_type": "code",
        "colab": {}
      },
      "source": [
        "unk_id = tok2id[UNK_TOK]\n",
        "\n",
        "x_train = [[tok2id.get(w, unk_id) for w in s] for s in train_tok_sents]\n",
        "x_valid = [[tok2id.get(w, unk_id) for w in s] for s in valid_tok_sents]\n",
        "\n",
        "train_gen = VariableLengthGenerator(x_train, train_lbls, BATCH_SIZE, NUM_CLASSES, shuffle=True)\n",
        "valid_gen = VariableLengthGenerator(x_valid, valid_lbls, BATCH_SIZE, NUM_CLASSES, shuffle=True)"
      ],
      "execution_count": 0,
      "outputs": []
    },
    {
      "cell_type": "markdown",
      "metadata": {
        "id": "_bpsoYWb1auq",
        "colab_type": "text"
      },
      "source": [
        "### Train"
      ]
    },
    {
      "cell_type": "code",
      "metadata": {
        "id": "dZolEvZayRBN",
        "colab_type": "code",
        "cellView": "form",
        "colab": {}
      },
      "source": [
        "#@title def visualize_loss_and_acc(history): ... RUN ME!\n",
        "\n",
        "import matplotlib.pyplot as plt\n",
        "\n",
        "def visualize_loss_and_acc(history):\n",
        "  history_dict = history.history\n",
        "  loss_values = history_dict['loss']\n",
        "  val_loss_values = history_dict['val_loss']\n",
        "  acc = history_dict['acc']\n",
        "\n",
        "  epochs = range(1, len(acc) + 1)\n",
        "\n",
        "  f = plt.figure(figsize=(10,3))\n",
        "\n",
        "  plt.subplot(1,2,1)\n",
        "  plt.plot(epochs, loss_values, 'bo', label='Training loss')\n",
        "  plt.plot(epochs, val_loss_values, 'b', label='Validation loss')\n",
        "  plt.title('Training and validation loss')\n",
        "  plt.xlabel('Epochs')\n",
        "  plt.ylabel('Loss')\n",
        "  plt.legend()\n",
        "\n",
        "\n",
        "  acc_values = history_dict['acc']\n",
        "  val_acc = history_dict['val_acc']\n",
        "\n",
        "  plt.subplot(1,2,2)\n",
        "  plt.plot(epochs, acc, 'bo', label='Training acc')\n",
        "  plt.plot(epochs, val_acc, 'b', label='Validation acc')\n",
        "  plt.title('Training and validation accuracy')\n",
        "  plt.xlabel('Epochs')\n",
        "  plt.ylabel('Loss')\n",
        "  plt.legend()\n",
        "\n",
        "  plt.show()"
      ],
      "execution_count": 0,
      "outputs": []
    },
    {
      "cell_type": "markdown",
      "metadata": {
        "id": "BSubO6N011Sz",
        "colab_type": "text"
      },
      "source": [
        "Create an instance of our model"
      ]
    },
    {
      "cell_type": "code",
      "metadata": {
        "id": "P1NRienOm6ob",
        "colab_type": "code",
        "colab": {}
      },
      "source": [
        "advance_rnn = create_advanced_rnn(embedding_matrix, NUM_CLASSES)\n",
        "advance_rnn.compile(optimizer='rmsprop', loss='categorical_crossentropy', metrics=['acc'])\n",
        "advance_rnn.summary()"
      ],
      "execution_count": 0,
      "outputs": []
    },
    {
      "cell_type": "markdown",
      "metadata": {
        "id": "sfJigqdu16rs",
        "colab_type": "text"
      },
      "source": [
        "Train and visualize"
      ]
    },
    {
      "cell_type": "code",
      "metadata": {
        "id": "qxJgI1fru0au",
        "colab_type": "code",
        "colab": {}
      },
      "source": [
        "advance_rnn_hist = advance_rnn.fit_generator(\n",
        "    train_gen, \n",
        "    validation_data=valid_gen,\n",
        "    epochs=10,\n",
        ")\n",
        "visualize_loss_and_acc(advance_rnn_hist)"
      ],
      "execution_count": 0,
      "outputs": []
    },
    {
      "cell_type": "code",
      "metadata": {
        "id": "PaVziYVHT50Q",
        "colab_type": "code",
        "colab": {}
      },
      "source": [
        "# Don't forget to run this cell.\n",
        "# this is a deliverable item of your assignemnt\n",
        "advance_rnn.save_weights(str(ASSIGNMENT_PATH / 'advance_rnn.h5'))"
      ],
      "execution_count": 0,
      "outputs": []
    },
    {
      "cell_type": "markdown",
      "metadata": {
        "id": "Ky2-nHbiqvFK",
        "colab_type": "text"
      },
      "source": [
        "### Analysis (Bonus point)"
      ]
    },
    {
      "cell_type": "markdown",
      "metadata": {
        "id": "Ib4V47w5tJSp",
        "colab_type": "text"
      },
      "source": [
        "As our tradition, an interactive shell is also provided. Tokenization and pre-processing are done for you. You can easily explore the model's output."
      ]
    },
    {
      "cell_type": "code",
      "metadata": {
        "id": "E1TXpFmFq-ml",
        "colab_type": "code",
        "cellView": "form",
        "colab": {}
      },
      "source": [
        "#@title Interactive Shell\n",
        "import numpy as np\n",
        "from pprint import pprint\n",
        "\n",
        "input_sentence = \"Chad asks the IMF for a loan to pay for looking after more than 100,000 refugees from conflict-torn Darfur in western Sudan\"#@param {type:\"string\"}\n",
        "tokens = tokenize(input_sentence)\n",
        "word_ids = np.array( [[tok2id.get(w, unk_id) for w in tokens]])\n",
        "\n",
        "lbl_index = np.argmax(advance_rnn.predict(word_ids)[0])\n",
        "print(\"input tokens:\", tokens)\n",
        "print(\"predicted label:\", AG_NEWS_LBLS[lbl_index])\n"
      ],
      "execution_count": 0,
      "outputs": []
    },
    {
      "cell_type": "markdown",
      "metadata": {
        "id": "kjPZg89utKVd",
        "colab_type": "text"
      },
      "source": [
        "Now we have a relatively complex model, one of the ways that we can compare this new model to the old bag-of-word network is to see if the complex model can handle the old model's mistakes. Find a misclassified example by the BOW model, which can be categorized correctly by this model. Are there any examples for which the former model can find the correct label while the newer one is unable?"
      ]
    },
    {
      "cell_type": "markdown",
      "metadata": {
        "id": "7QVt4KTduk70",
        "colab_type": "text"
      },
      "source": [
        "$\\color{red}{\\text{Write you answer here}}$"
      ]
    },
    {
      "cell_type": "markdown",
      "metadata": {
        "id": "sGzgM-v9lqlq",
        "colab_type": "text"
      },
      "source": [
        "# 2. Byte Pair encoding"
      ]
    },
    {
      "cell_type": "markdown",
      "metadata": {
        "id": "fdc5y3-Gw-q5",
        "colab_type": "text"
      },
      "source": [
        "In many natural language processing tasks, our vocabulary is limited to the vocabulary of our pretrained word embeddings and we have to replace words which are not present in our embedding vocabulary  with `UNK` token. There is a technique caled **Byte pair encoding** which proposes training the embeddings on a bunch of common subword units (e.g. learning embeddings of ##solu and ##tion instead of the word solution). **BPE** creates a list of merges that are used for splitting out-of-vocabulary words. You can find the details of how to find these common subwords and how to find the optimal segmentation for each word here in the original paper  https://arxiv.org/abs/1508.07909 .  We are not going into the detail of the algorithm, instead we are going to just use it and compare the results with the regular case."
      ]
    },
    {
      "cell_type": "markdown",
      "metadata": {
        "id": "P7DPTPHfwtBR",
        "colab_type": "text"
      },
      "source": [
        "##BPEmb\n"
      ]
    },
    {
      "cell_type": "markdown",
      "metadata": {
        "id": "2dy9BHLIw3_P",
        "colab_type": "text"
      },
      "source": [
        "BPEmb is a collection of pre-trained subword embeddings in 275 languages, based on Byte-Pair Encoding (BPE) and trained on Wikipedia.\n",
        "\n",
        "Let's Install BPEmb with pip:"
      ]
    },
    {
      "cell_type": "code",
      "metadata": {
        "id": "YJr2gTiNxIvp",
        "colab_type": "code",
        "colab": {}
      },
      "source": [
        "pip install bpemb"
      ],
      "execution_count": 0,
      "outputs": []
    },
    {
      "cell_type": "markdown",
      "metadata": {
        "id": "kNel7A5cxRTa",
        "colab_type": "text"
      },
      "source": [
        "You can do two main things with BPEmb. The first is subword segmentation, and the second purpose of BPEmb is to provide pretrained subword embeddings:"
      ]
    },
    {
      "cell_type": "code",
      "metadata": {
        "id": "dD50Zwxixif9",
        "colab_type": "code",
        "colab": {}
      },
      "source": [
        "from bpemb import BPEmb\n",
        "from pprint import pprint \n",
        "bpemb_en = BPEmb(lang=\"en\", dim=50)\n",
        "\n",
        "print (\"segmentation of word \\'stratford\\': \", bpemb_en.encode(\"stratford\"))\n",
        "print (\"\\n\")\n",
        "\n",
        "# Embeddings are wrapped in a gensim KeyedVectors object\n",
        "print (\"bpemb.emb is a \", type(bpemb_en.emb))\n",
        "print (\"\\n\")\n",
        "\n",
        "# You can use BPEmb objects like gensim KeyedVectors\n",
        "print (\"most similar words to \\'ford\\': \")\n",
        "pprint (bpemb_en.most_similar(\"ford\"))\n",
        "print (\"\\n\")\n",
        "print (\"bpemb.vectors is a \", type(bpemb_en.vectors))\n",
        "\n",
        "print (\"\\n\\n\")\n"
      ],
      "execution_count": 0,
      "outputs": []
    },
    {
      "cell_type": "markdown",
      "metadata": {
        "id": "OVt7u-r90C8t",
        "colab_type": "text"
      },
      "source": [
        "To use subword embeddings in your neural network, either encode your input into subword IDs:"
      ]
    },
    {
      "cell_type": "code",
      "metadata": {
        "id": "bJo4dpIE0Ik6",
        "colab_type": "code",
        "colab": {}
      },
      "source": [
        "ids = bpemb_en.encode_ids(\"stratford\")\n",
        "print (\"ids :\", ids)\n",
        "print (\"\\n\")\n",
        "\n",
        "print (\"embeddings: \")\n",
        "pprint (bpemb_en.vectors[ids])"
      ],
      "execution_count": 0,
      "outputs": []
    },
    {
      "cell_type": "markdown",
      "metadata": {
        "id": "qCAHe34-0nKM",
        "colab_type": "text"
      },
      "source": [
        "Or use the `embed` method:"
      ]
    },
    {
      "cell_type": "code",
      "metadata": {
        "id": "_gEQbOcc0sgh",
        "colab_type": "code",
        "colab": {}
      },
      "source": [
        "print (\"embeddings: \")\n",
        "pprint (bpemb_en.embed (\"stratford\"))"
      ],
      "execution_count": 0,
      "outputs": []
    },
    {
      "cell_type": "markdown",
      "metadata": {
        "id": "ns2A3NVM1Rqs",
        "colab_type": "text"
      },
      "source": [
        "##Use BPEmb"
      ]
    },
    {
      "cell_type": "markdown",
      "metadata": {
        "id": "1ih9_ZdJ1WUZ",
        "colab_type": "text"
      },
      "source": [
        "Retrain your previuosly implemented RNN network in question1, this time using byte pair embedding instead of glove-word vectors:"
      ]
    },
    {
      "cell_type": "code",
      "metadata": {
        "id": "jYyNCkMM2jWW",
        "colab_type": "code",
        "colab": {}
      },
      "source": [
        "  ########################################\n",
        "  #     Put your implementation here     #\n",
        "  ########################################"
      ],
      "execution_count": 0,
      "outputs": []
    },
    {
      "cell_type": "markdown",
      "metadata": {
        "id": "OI7ae3S32p5H",
        "colab_type": "text"
      },
      "source": [
        "compare the result with previous one and explain why it gets better/worse?"
      ]
    },
    {
      "cell_type": "markdown",
      "metadata": {
        "id": "LuS_bVHI22rW",
        "colab_type": "text"
      },
      "source": [
        "$\\color{red}{\\text{Write you answer here}}$"
      ]
    },
    {
      "cell_type": "markdown",
      "metadata": {
        "id": "2hSzcqgzluB8",
        "colab_type": "text"
      },
      "source": [
        "# 3. Time Series Prediction"
      ]
    },
    {
      "cell_type": "markdown",
      "metadata": {
        "id": "cQoJi3q_I6fg",
        "colab_type": "text"
      },
      "source": [
        "Due to the sequential charasteristics of RNNs, they can be used for time series prediction task. A time series is a series of data points indexed in time order. One example of time series is stock prices at regular intervals of time (hourly, daily, etc.). There have been many attempts to forecast stocks market, some belive predicting the market is impossible because of its total random behaviour, while some (mainly stocks technical analysts) belive not 100% accurate, but it is partly predictable, as they say \"history repeats itself\" (this phrase indicates that there might be some repetitive patterns in market's behaviour). \n",
        "\n",
        "In this practice, we are going to discover ourselves whether it is possible or not, whether we are going to be rich or broke :)  "
      ]
    },
    {
      "cell_type": "markdown",
      "metadata": {
        "id": "tBLpUtW_5Q9K",
        "colab_type": "text"
      },
      "source": [
        "## Stocks Prediction Using LSTM"
      ]
    },
    {
      "cell_type": "markdown",
      "metadata": {
        "id": "EfO4ddWV5ZLS",
        "colab_type": "text"
      },
      "source": [
        "LSTMs can be used for modeling time series (such as stocks market) as they are capable of remembering past information. Stock price prediction is similar to any other machine learning problem where we are given a set of features and we have to predict a corresponding value, in this case our features are the closing prices of stocks in the past 60 days and we want to predict next closing price. We can use LSTM to model this 60 days sequence by a hidden state as we do in all other sequence modeling problems:\n",
        "\n",
        "<p align=\"center\"><img src=\"https://drive.google.com/thumbnail?id=1hml7fG9_GKDLH1068Wq_Jk-D09FtQk17&sz=w1000-h1000\" width=\"800\"/></p>\n",
        "\n",
        "</br>\n",
        "\n",
        "We are going to solve these two following problems:\n",
        "* 1 . Predicting the exact price at time $T_i$ given prices at times $T_{i-60}$, ..., $T_{i-1}$\n",
        "\n",
        "* 2 . A simplified version of previous problem, predicting the direction of price at time $T_i$ (whether it is increasing or decreasing) given prices at times $T_{i-60}$, ..., $T_{i-1}$\n",
        "\n",
        "\n",
        "So the first task is a regression and the second one is a classification problem.\n"
      ]
    },
    {
      "cell_type": "markdown",
      "metadata": {
        "id": "JI0Ub0KuK0wG",
        "colab_type": "text"
      },
      "source": [
        "### 1. Predicting The Exact Price"
      ]
    },
    {
      "cell_type": "markdown",
      "metadata": {
        "id": "LSNVvB-apMAr",
        "colab_type": "text"
      },
      "source": [
        "**DATA:**\n",
        "\n",
        "The data that we are going to use are from ***Yahoo Finance*** (a place to look up stock market data and company news). We can accsess historical market data from *Yahoo Finance* using python ***yfinance*** module. \n",
        "\n",
        "Let's install *yfinance* module first:"
      ]
    },
    {
      "cell_type": "code",
      "metadata": {
        "id": "_zYyq0SlbY_a",
        "colab_type": "code",
        "colab": {}
      },
      "source": [
        "from IPython.display import clear_output\n",
        "\n",
        "!pip install yfinance\n",
        "\n",
        "clear_output()"
      ],
      "execution_count": 0,
      "outputs": []
    },
    {
      "cell_type": "markdown",
      "metadata": {
        "id": "9wAwSxCbbWlt",
        "colab_type": "text"
      },
      "source": [
        "For training our algorithm, we will be using the Apple stock prices from 1st January 2014 to 1st January 2018. In order to evaluate the performance of the algorithm, we will be using the prices from 1st January 2018 to 1st January 2019. \n",
        "\n",
        "Let's get the data and visualise it:"
      ]
    },
    {
      "cell_type": "code",
      "metadata": {
        "id": "U2Q70Xcr3nNR",
        "colab_type": "code",
        "outputId": "d6b68bfd-b47d-4aeb-8ac8-6d4647a3a58b",
        "colab": {
          "base_uri": "https://localhost:8080/",
          "height": 281
        }
      },
      "source": [
        "\n",
        "import matplotlib.pyplot as plt\n",
        "import yfinance as yf  \n",
        "\n",
        "train_data = yf.download('AAPL','2014-01-01','2018-01-01')\n",
        "test_data = yf.download('AAPL','2018-01-01','2019-01-01')\n",
        "\n",
        "train_data.Close.plot()\n",
        "test_data.Close.plot()\n",
        "plt.legend ([\"Train\", \"Test\"])\n",
        "\n",
        "clear_output()\n",
        "plt.show()"
      ],
      "execution_count": 0,
      "outputs": [
        {
          "output_type": "display_data",
          "data": {
            "image/png": "[encoded data removed]",
            "text/plain": [
              "<Figure size 432x288 with 1 Axes>"
            ]
          },
          "metadata": {
            "tags": []
          }
        }
      ]
    },
    {
      "cell_type": "markdown",
      "metadata": {
        "id": "AIIDgdQfcSK3",
        "colab_type": "text"
      },
      "source": [
        "As you can see our data is just a sequence of numbers ordered by time. \n",
        "\n",
        "In order to normalize our data we scale them between 0 and 1: "
      ]
    },
    {
      "cell_type": "code",
      "metadata": {
        "id": "8ge5thz254Kf",
        "colab_type": "code",
        "outputId": "5e3d22e6-5386-4205-86ff-bc1c57400ee2",
        "colab": {
          "base_uri": "https://localhost:8080/",
          "height": 54
        }
      },
      "source": [
        "from sklearn.preprocessing import MinMaxScaler \n",
        "import numpy as np\n",
        "scaler = MinMaxScaler(feature_range = (0, 1)).fit(train_data.Close.values.reshape(-1, 1))\n",
        "\n",
        "train_scaled = scaler.transform(train_data.Close.values.reshape(-1, 1))\n",
        "test_scaled = scaler.transform(test_data.Close.values.reshape(-1, 1))  \n",
        "\n",
        "print (\"train_scaled.shape :\", train_scaled.shape)\n",
        "print (\"test_scaled.shape :\", test_scaled.shape)"
      ],
      "execution_count": 0,
      "outputs": [
        {
          "output_type": "stream",
          "text": [
            "train_scaled.shape : (1007, 1)\n",
            "test_scaled.shape : (251, 1)\n"
          ],
          "name": "stdout"
        }
      ]
    },
    {
      "cell_type": "markdown",
      "metadata": {
        "id": "_9M3_Ch_eRFx",
        "colab_type": "text"
      },
      "source": [
        "Now we create our input output pairs from our sequence:"
      ]
    },
    {
      "cell_type": "code",
      "metadata": {
        "id": "NOs8KBcj6mpG",
        "colab_type": "code",
        "colab": {}
      },
      "source": [
        "train_features_set = []  \n",
        "train_labels = []  \n",
        "for i in range(60, train_scaled.shape[0]):  \n",
        "    train_features_set.append(train_scaled[i-60:i, 0])\n",
        "    train_labels.append(train_scaled[i, 0])"
      ],
      "execution_count": 0,
      "outputs": []
    },
    {
      "cell_type": "markdown",
      "metadata": {
        "id": "zWmPH1aqfdzH",
        "colab_type": "text"
      },
      "source": [
        "We need to convert these lists to the numpy arrays before we can use them for training. Then in order to train LSTM on our data, we need to convert our data into the shape accepted by the LSTM. We need to convert our data into three-dimensional format. The first dimension is the number of records or rows in the dataset which is 1007 in our case. The second dimension is the number of time steps which is 60 while the last dimension is the number of indicators. Since we are only using one feature, i.e Closing price, the number of indicators will be one."
      ]
    },
    {
      "cell_type": "code",
      "metadata": {
        "id": "bVh8Igbrfw8L",
        "colab_type": "code",
        "colab": {}
      },
      "source": [
        "train_features_set, train_labels = np.array(train_features_set), np.array(train_labels)\n",
        "train_features_set = np.reshape(train_features_set, (train_features_set.shape[0], train_features_set.shape[1], 1))"
      ],
      "execution_count": 0,
      "outputs": []
    },
    {
      "cell_type": "markdown",
      "metadata": {
        "id": "tI8HP9NqiYzv",
        "colab_type": "text"
      },
      "source": [
        "Now let's create and train a simple model, our model has a stack of 4 lstm layers and a single output layer: "
      ]
    },
    {
      "cell_type": "code",
      "metadata": {
        "id": "H0UHr-Ef8pHr",
        "colab_type": "code",
        "colab": {}
      },
      "source": [
        "from keras.models import Sequential  \n",
        "from keras.layers import Dense  \n",
        "from keras.layers import LSTM  \n",
        "from keras.layers import Dropout  \n",
        "\n",
        "model = Sequential()\n",
        "model.add(LSTM(units=50, return_sequences=True, input_shape=(train_features_set.shape[1], 1)))\n",
        "model.add(Dropout(0.2))\n",
        "\n",
        "model.add(LSTM(units=50, return_sequences=True))  \n",
        "model.add(Dropout(0.2))\n",
        "\n",
        "model.add(LSTM(units=50, return_sequences=True))  \n",
        "model.add(Dropout(0.2))\n",
        "\n",
        "model.add(LSTM(units=50))  \n",
        "model.add(Dropout(0.2))\n",
        "\n",
        "# we have a single output so this layer has 1 unit\n",
        "model.add(Dense(units = 1))\n",
        "\n",
        "model.compile(optimizer = 'adam', loss = 'mean_squared_error')\n",
        "\n",
        "model.fit(train_features_set, train_labels, epochs = 100, batch_size = 30)\n",
        "\n",
        "clear_output()"
      ],
      "execution_count": 0,
      "outputs": []
    },
    {
      "cell_type": "markdown",
      "metadata": {
        "id": "6n8LuRDDqKkL",
        "colab_type": "text"
      },
      "source": [
        "Now we create our test features set similar to what we did with our training set:"
      ]
    },
    {
      "cell_type": "code",
      "metadata": {
        "id": "8_Z0-AoCqZwV",
        "colab_type": "code",
        "colab": {}
      },
      "source": [
        "test_scaled = scaler.transform(test_data.Close.values.reshape(-1, 1))  \n",
        "\n",
        "test_features_set = []  \n",
        "for i in range(60, test_scaled.shape[0]):  \n",
        "    test_features_set.append(test_scaled[i-60:i, 0])\n",
        "    \n",
        "test_features_set = np.array(test_features_set)  \n",
        "test_features_set = np.reshape(test_features_set, (test_features_set.shape[0], test_features_set.shape[1], 1))"
      ],
      "execution_count": 0,
      "outputs": []
    },
    {
      "cell_type": "markdown",
      "metadata": {
        "id": "19NNvTHHqsdH",
        "colab_type": "text"
      },
      "source": [
        "And finaly let's see the results:"
      ]
    },
    {
      "cell_type": "code",
      "metadata": {
        "id": "nU6kKlck-UAL",
        "colab_type": "code",
        "outputId": "c8ae8f5f-7351-450b-acf8-4802f5d48076",
        "colab": {
          "base_uri": "https://localhost:8080/",
          "height": 281
        }
      },
      "source": [
        "predictions = model.predict(test_features_set)\n",
        "predictions = scaler.inverse_transform(predictions)  \n",
        "  \n",
        "plt.plot(test_data.Close.values[60:], color='blue', label='Actual Apple Stock Price')  \n",
        "plt.plot(predictions , color='red', label='Predicted Apple Stock Price')  \n",
        "plt.title('Apple Stock Price Prediction on Test Set')    \n",
        "plt.ylabel('Apple Stock Price')  \n",
        "plt.legend()  \n",
        "plt.show()"
      ],
      "execution_count": 0,
      "outputs": [
        {
          "output_type": "display_data",
          "data": {
            "image/png": "[encoded data removed]",
            "text/plain": [
              "<Figure size 432x288 with 1 Axes>"
            ]
          },
          "metadata": {
            "tags": []
          }
        }
      ]
    },
    {
      "cell_type": "markdown",
      "metadata": {
        "id": "Ujgd8pNxre8D",
        "colab_type": "text"
      },
      "source": [
        "* At first sight, it seems the predictions are following  pretty well the actual trend. What do you think about the result? Are you willing to risk using this predictions in real world? "
      ]
    },
    {
      "cell_type": "markdown",
      "metadata": {
        "id": "stxlKK1utSvU",
        "colab_type": "text"
      },
      "source": [
        "$\\color{red}{\\text{Write you answer here}}$"
      ]
    },
    {
      "cell_type": "markdown",
      "metadata": {
        "id": "zzlrh1NHtdnS",
        "colab_type": "text"
      },
      "source": [
        "### 2. Predicting The Direction"
      ]
    },
    {
      "cell_type": "markdown",
      "metadata": {
        "id": "VHLBKZxXtpOP",
        "colab_type": "text"
      },
      "source": [
        "Previous model can be evaluated  just visually. We can evaluate a classification task using its special measures (such as f-score or accuracy) much better than a regression task. So in order to finaly decide whether the stocks market prediction is practical or not, we define this second task.\n",
        "\n",
        "Implement a model similar to previous one, this time the task is to predict whether the price is going to increase or decrease (output will be either 1 or 0 respectively) at time $T_i$ given prices at times $T_{i-60}$, ..., $T_{i-1}$ :"
      ]
    },
    {
      "cell_type": "code",
      "metadata": {
        "id": "9a9C84JpuUiV",
        "colab_type": "code",
        "colab": {}
      },
      "source": [
        "########################################\n",
        "#     Put your implementation here     #\n",
        "########################################"
      ],
      "execution_count": 0,
      "outputs": []
    },
    {
      "cell_type": "markdown",
      "metadata": {
        "id": "FhvzyKn_ucd0",
        "colab_type": "text"
      },
      "source": [
        "Evaluate your trained model using the test set and report accuracy and f1-score your model archived: "
      ]
    },
    {
      "cell_type": "code",
      "metadata": {
        "id": "NW-MGFhgu4Lk",
        "colab_type": "code",
        "colab": {}
      },
      "source": [
        "########################################\n",
        "#     Put your implementation here     #\n",
        "########################################"
      ],
      "execution_count": 0,
      "outputs": []
    },
    {
      "cell_type": "markdown",
      "metadata": {
        "id": "DaFxn4MR_4-4",
        "colab_type": "text"
      },
      "source": [
        "Do not worry if your results are not as promising as before :))\n",
        "* Comparing new results with previuos ones, why do you think this happens? Doesn't this task supposed to be an easier version of the previous one (if you are able to predict the actual price, you are already able to predict the direction of price trend)? Explain your toughts:\n"
      ]
    },
    {
      "cell_type": "markdown",
      "metadata": {
        "id": "byIh3cwmBLt9",
        "colab_type": "text"
      },
      "source": [
        "$\\color{red}{\\text{Write you answer here}}$"
      ]
    },
    {
      "cell_type": "markdown",
      "metadata": {
        "id": "v-ekiL12B6th",
        "colab_type": "text"
      },
      "source": [
        "* Intuitively explain what kind of properties do you think a time series need to have in order to be predictable? "
      ]
    },
    {
      "cell_type": "markdown",
      "metadata": {
        "id": "uAtpWmGFEIG4",
        "colab_type": "text"
      },
      "source": [
        "$\\color{red}{\\text{Write you answer here}}$"
      ]
    },
    {
      "cell_type": "markdown",
      "metadata": {
        "id": "pBjq-MvamPXO",
        "colab_type": "text"
      },
      "source": [
        "# Submission"
      ]
    },
    {
      "cell_type": "markdown",
      "metadata": {
        "id": "7o4q5LiFiOx1",
        "colab_type": "text"
      },
      "source": [
        "Congratulations! You finished the assignment & you're ready to submit your work. Please follow the instruction:\n",
        "\n",
        "1. Check and review your answers. Make sure all of the cell outputs are what you want. \n",
        "2. Select File > Save.\n",
        "3. Run **Create Submission** cell, It may take several minutes and it may ask you for your credential.\n",
        "4. Run **Download Submission** cell to obtain your submission as a zip file.\n",
        "5. Grab downloaded file (`dl_asg05__xx__xx.zip`) and submit it via https://forms.gle/CwxHWdgkjB4xfduw9."
      ]
    },
    {
      "cell_type": "markdown",
      "metadata": {
        "id": "iWRUf35av3ZP",
        "colab_type": "text"
      },
      "source": [
        "**Note:** We need your Github token to create a new repository  (if it doesn't exist previously) in order to store learned model data. Also Google Drive token enables us to download the current notebook and Create the submission. If you are interested, feel free to check our code."
      ]
    },
    {
      "cell_type": "markdown",
      "metadata": {
        "id": "cTytERc-vlaK",
        "colab_type": "text"
      },
      "source": [
        "## Create Submission (Run the cell)"
      ]
    },
    {
      "cell_type": "code",
      "metadata": {
        "id": "kf1s5OvZVGHI",
        "colab_type": "code",
        "cellView": "form",
        "colab": {}
      },
      "source": [
        "#@title\n",
        "! pip install -U --quiet PyDrive > /dev/null\n",
        "! wget -q https://github.com/github/hub/releases/download/v2.10.0/hub-linux-amd64-2.10.0.tgz \n",
        "  \n",
        "import os\n",
        "import time\n",
        "import yaml\n",
        "import json\n",
        "\n",
        "from google.colab import files\n",
        "from IPython.display import Javascript\n",
        "from pydrive.auth import GoogleAuth\n",
        "from pydrive.drive import GoogleDrive\n",
        "from google.colab import auth\n",
        "from oauth2client.client import GoogleCredentials\n",
        "\n",
        "asg_name = 'assignment_05'\n",
        "script_save = '''\n",
        "require([\"base/js/namespace\"],function(Jupyter) {\n",
        "    Jupyter.notebook.save_checkpoint();\n",
        "});\n",
        "'''\n",
        "repo_name = 'iust-deep-learning-assignments'\n",
        "submission_file_name = 'dl_asg05__%s__%s.zip'%(student_id, student_name.lower().replace(' ',  '_'))\n",
        "course_url = 'https://iust-deep-learning.github.io/972/'\n",
        "\n",
        "! tar xf hub-linux-amd64-2.10.0.tgz\n",
        "! cd hub-linux-amd64-2.10.0/ && chmod a+x install && ./install\n",
        "! hub config --global hub.protocol https\n",
        "! hub config --global user.email \"$Your_Github_account_Email\"\n",
        "! hub config --global user.name \"$student_name\"\n",
        "! hub api -X GET /user\n",
        "! hub api -X GET /user > user_info.json\n",
        "! hub api -F affiliation=owner -X GET /user/repos > repos.json\n",
        "\n",
        "user_info = json.load(open('user_info.json'))\n",
        "repos = json.load(open('repos.json'))\n",
        "repo_names = [r['name'] for r in repos]\n",
        "has_repository = repo_name in repo_names\n",
        "if not has_repository:\n",
        "  get_ipython().system_raw('! hub api -X POST -F name=%s /user/repos homepage=\"%s\" > repo_info.json' % (repo_name, course_url))\n",
        "  repo_info = json.load(open('repo_info.json')) \n",
        "  repo_url = repo_info['clone_url']\n",
        "else:\n",
        "  username = user_info['login']\n",
        "  ! hub api -F homepage=\"$course_url\" -X PATCH /repos/$username/$repo_name\n",
        "  for r in repos:\n",
        "    if r['name'] == repo_name:\n",
        "      repo_url = r['clone_url']\n",
        "  \n",
        "stream = open(\"/root/.config/hub\", \"r\")\n",
        "token = list(yaml.load_all(stream))[0]['github.com'][0]['oauth_token']\n",
        "repo_url_with_token = 'https://'+token+\"@\" +repo_url.split('https://')[1]\n",
        "\n",
        "! git clone \"$repo_url_with_token\"\n",
        "! cp -r \"$ASSIGNMENT_PATH\" \"$repo_name\"/\n",
        "! cd \"$repo_name\" && git add -A\n",
        "! cd \"$repo_name\" && git commit -m \"Add assignment 05 results\"\n",
        "! cd \"$repo_name\" && git push -u origin master\n",
        "\n",
        "sub_info = {\n",
        "    'student_id': student_id,\n",
        "    'student_name': student_name, \n",
        "    'repo_url': repo_url,\n",
        "    'asg_dir_contents': os.listdir(str(ASSIGNMENT_PATH)),\n",
        "    'datetime': str(time.time()),\n",
        "    'asg_name': asg_name\n",
        "}\n",
        "json.dump(sub_info, open('info.json', 'w'))\n",
        "\n",
        "Javascript(script_save)\n",
        "\n",
        "auth.authenticate_user()\n",
        "gauth = GoogleAuth()\n",
        "gauth.credentials = GoogleCredentials.get_application_default()\n",
        "drive = GoogleDrive(gauth)\n",
        "file_id = drive.ListFile({'q':\"title='%s.ipynb'\"%asg_name}).GetList()[0]['id']\n",
        "downloaded = drive.CreateFile({'id': file_id})\n",
        "downloaded.GetContentFile('%s.ipynb'%asg_name) \n",
        "\n",
        "! jupyter nbconvert --to script \"$asg_name\".ipynb > /dev/null\n",
        "! jupyter nbconvert --to html \"$asg_name\".ipynb > /dev/null\n",
        "! zip \"$submission_file_name\" \"$asg_name\".ipynb \"$asg_name\".html \"$asg_name\".txt info.json > /dev/null\n",
        "\n",
        "print(\"##########################################\")\n",
        "print(\"Done! Submisson created, Please download using the bellow cell!\")"
      ],
      "execution_count": 0,
      "outputs": []
    },
    {
      "cell_type": "markdown",
      "metadata": {
        "id": "mX9OFzaLtYu_",
        "colab_type": "text"
      },
      "source": [
        "## Download Submission (Run the cell)"
      ]
    },
    {
      "cell_type": "code",
      "metadata": {
        "id": "PUzTlnX1nS8X",
        "colab_type": "code",
        "cellView": "form",
        "colab": {}
      },
      "source": [
        "#@title\n",
        "files.download(submission_file_name)"
      ],
      "execution_count": 0,
      "outputs": []
    },
    {
      "cell_type": "markdown",
      "metadata": {
        "id": "oJLRl0DL5aSO",
        "colab_type": "text"
      },
      "source": [
        "# References\n"
      ]
    },
    {
      "cell_type": "markdown",
      "metadata": {
        "id": "LCQPkvV83Kn0",
        "colab_type": "text"
      },
      "source": [
        "\n",
        "1. Robbins, Herbert E. “A Stochastic Approximation Method,” 2007. https://doi.org/10.1214/aoms/1177729586.\n",
        "2. He, K., X. Zhang, S. Ren, and J. Sun. “Deep Residual Learning for Image Recognition.” In 2016 IEEE Conference on Computer Vision and Pattern Recognition (CVPR), 770–78, 2016. https://doi.org/10.1109/CVPR.2016.90.\n",
        "3. Wu, Yonghui, Mike Schuster, Zhifeng Chen, Quoc V. Le, Mohammad Norouzi, Wolfgang Macherey, Maxim Krikun, et al. “Google’s Neural Machine Translation System: Bridging the Gap between Human and Machine Translation.” ArXiv:1609.08144 [Cs], September 26, 2016. http://arxiv.org/abs/1609.08144.\n",
        "\n",
        "\n"
      ]
    }
  ]
}