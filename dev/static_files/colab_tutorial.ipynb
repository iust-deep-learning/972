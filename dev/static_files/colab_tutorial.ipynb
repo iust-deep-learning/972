{
  "nbformat": 4,
  "nbformat_minor": 0,
  "metadata": {
    "colab": {
      "name": "Colab Intro.ipynb",
      "version": "0.3.2",
      "provenance": [],
      "collapsed_sections": []
    },
    "kernelspec": {
      "name": "python3",
      "display_name": "Python 3"
    },
    "accelerator": "GPU"
  },
  "cells": [
    {
      "metadata": {
        "id": "ImdQ0Idk-3pe",
        "colab_type": "text"
      },
      "cell_type": "markdown",
      "source": [
        "# Google Colab Introduction "
      ]
    },
    {
      "metadata": {
        "id": "z6Y2lUbc_B39",
        "colab_type": "text"
      },
      "cell_type": "markdown",
      "source": [
        "## Cells"
      ]
    },
    {
      "metadata": {
        "id": "hdbLQP1D_6TK",
        "colab_type": "text"
      },
      "cell_type": "markdown",
      "source": [
        "Python instructions:"
      ]
    },
    {
      "metadata": {
        "id": "KhwENu6h_ZGK",
        "colab_type": "code",
        "outputId": "d8d8bcef-8090-4633-91e1-0e6485df4ec5",
        "colab": {
          "base_uri": "https://localhost:8080/",
          "height": 41
        }
      },
      "cell_type": "code",
      "source": [
        "print(\"Hello world\")"
      ],
      "execution_count": 0,
      "outputs": [
        {
          "output_type": "stream",
          "text": [
            "Hello world\n"
          ],
          "name": "stdout"
        }
      ]
    },
    {
      "metadata": {
        "id": "XAVqBZTu_-ZT",
        "colab_type": "text"
      },
      "cell_type": "markdown",
      "source": [
        "Linux commands (bash):"
      ]
    },
    {
      "metadata": {
        "id": "ZhijMPjNABvn",
        "colab_type": "code",
        "outputId": "ce6691ef-ef4b-4e44-cbed-60d3bc4a60e2",
        "colab": {
          "base_uri": "https://localhost:8080/",
          "height": 160
        }
      },
      "cell_type": "code",
      "source": [
        "!ls /"
      ],
      "execution_count": 0,
      "outputs": [
        {
          "output_type": "stream",
          "text": [
            "bin   content  dev  home  lib32  media\topt   root  sbin  swift  tmp\tusr\n",
            "boot  datalab  etc  lib   lib64  mnt\tproc  run   srv   sys\t tools\tvar\n"
          ],
          "name": "stdout"
        }
      ]
    },
    {
      "metadata": {
        "id": "xqJ2jZYYAXCy",
        "colab_type": "text"
      },
      "cell_type": "markdown",
      "source": [
        "### This is heading"
      ]
    },
    {
      "metadata": {
        "id": "qWvirSRQAj4Y",
        "colab_type": "text"
      },
      "cell_type": "markdown",
      "source": [
        "This is some Text"
      ]
    },
    {
      "metadata": {
        "id": "hxxvaU9xAktU",
        "colab_type": "text"
      },
      "cell_type": "markdown",
      "source": [
        "- this\n",
        "- is\n",
        "- a \n",
        "- list"
      ]
    },
    {
      "metadata": {
        "id": "JyvUYd3jAs4e",
        "colab_type": "text"
      },
      "cell_type": "markdown",
      "source": [
        "Formula:"
      ]
    },
    {
      "metadata": {
        "id": "nzJNuiwf4nIJ",
        "colab_type": "text"
      },
      "cell_type": "markdown",
      "source": [
        "$$ \\int_0^\\infty x^2 dx $$"
      ]
    },
    {
      "metadata": {
        "id": "t_PnyPoMHgGo",
        "colab_type": "text"
      },
      "cell_type": "markdown",
      "source": [
        "Visualization "
      ]
    },
    {
      "metadata": {
        "id": "Nx7vhYpG43Fr",
        "colab_type": "code",
        "outputId": "ae98576a-d8fa-4353-fb07-ab40e244770c",
        "colab": {
          "base_uri": "https://localhost:8080/",
          "height": 554
        }
      },
      "cell_type": "code",
      "source": [
        "# load an example dataset\n",
        "from vega_datasets import data\n",
        "cars = data.cars()\n",
        "\n",
        "import altair as alt\n",
        "\n",
        "interval = alt.selection_interval()\n",
        "\n",
        "base = alt.Chart(cars).mark_point().encode(\n",
        "  y='Miles_per_Gallon',\n",
        "  color=alt.condition(interval, 'Origin', alt.value('lightgray'))\n",
        ").properties(\n",
        "  selection=interval\n",
        ")\n",
        "\n",
        "base.encode(x='Acceleration') | base.encode(x='Horsepower')"
      ],
      "execution_count": 0,
      "outputs": [
        {
          "output_type": "execute_result",
          "data": {
            "text/plain": [
              "HConcatChart({\n",
              "  hconcat: [Chart({\n",
              "    data:      Acceleration  Cylinders  Displacement  Horsepower  Miles_per_Gallon  \\\n",
              "    0            12.0          8         307.0       130.0              18.0   \n",
              "    1            11.5          8         350.0       165.0              15.0   \n",
              "    2            11.0          8         318.0       150.0              18.0   \n",
              "    3            12.0          8         304.0       150.0              16.0   \n",
              "    4            10.5          8         302.0       140.0              17.0   \n",
              "    5            10.0          8         429.0       198.0              15.0   \n",
              "    6             9.0          8         454.0       220.0              14.0   \n",
              "    7             8.5          8         440.0       215.0              14.0   \n",
              "    8            10.0          8         455.0       225.0              14.0   \n",
              "    9             8.5          8         390.0       190.0              15.0   \n",
              "    10           17.5          4         133.0       115.0               NaN   \n",
              "    11           11.5          8         350.0       165.0               NaN   \n",
              "    12           11.0          8         351.0       153.0               NaN   \n",
              "    13           10.5          8         383.0       175.0               NaN   \n",
              "    14           11.0          8         360.0       175.0               NaN   \n",
              "    15           10.0          8         383.0       170.0              15.0   \n",
              "    16            8.0          8         340.0       160.0              14.0   \n",
              "    17            8.0          8         302.0       140.0               NaN   \n",
              "    18            9.5          8         400.0       150.0              15.0   \n",
              "    19           10.0          8         455.0       225.0              14.0   \n",
              "    20           15.0          4         113.0        95.0              24.0   \n",
              "    21           15.5          6         198.0        95.0              22.0   \n",
              "    22           15.5          6         199.0        97.0              18.0   \n",
              "    23           16.0          6         200.0        85.0              21.0   \n",
              "    24           14.5          4          97.0        88.0              27.0   \n",
              "    25           20.5          4          97.0        46.0              26.0   \n",
              "    26           17.5          4         110.0        87.0              25.0   \n",
              "    27           14.5          4         107.0        90.0              24.0   \n",
              "    28           17.5          4         104.0        95.0              25.0   \n",
              "    29           12.5          4         121.0       113.0              26.0   \n",
              "    ..            ...        ...           ...         ...               ...   \n",
              "    376          18.6          4         112.0        88.0              27.0   \n",
              "    377          18.0          4         112.0        88.0              34.0   \n",
              "    378          16.2          4         112.0        85.0              31.0   \n",
              "    379          16.0          4         135.0        84.0              29.0   \n",
              "    380          18.0          4         151.0        90.0              27.0   \n",
              "    381          16.4          4         140.0        92.0              24.0   \n",
              "    382          20.5          4         151.0         NaN              23.0   \n",
              "    383          15.3          4         105.0        74.0              36.0   \n",
              "    384          18.2          4          91.0        68.0              37.0   \n",
              "    385          17.6          4          91.0        68.0              31.0   \n",
              "    386          14.7          4         105.0        63.0              38.0   \n",
              "    387          17.3          4          98.0        70.0              36.0   \n",
              "    388          14.5          4         120.0        88.0              36.0   \n",
              "    389          14.5          4         107.0        75.0              36.0   \n",
              "    390          16.9          4         108.0        70.0              34.0   \n",
              "    391          15.0          4          91.0        67.0              38.0   \n",
              "    392          15.7          4          91.0        67.0              32.0   \n",
              "    393          16.2          4          91.0        67.0              38.0   \n",
              "    394          16.4          6         181.0       110.0              25.0   \n",
              "    395          17.0          6         262.0        85.0              38.0   \n",
              "    396          14.5          4         156.0        92.0              26.0   \n",
              "    397          14.7          6         232.0       112.0              22.0   \n",
              "    398          13.9          4         144.0        96.0              32.0   \n",
              "    399          13.0          4         135.0        84.0              36.0   \n",
              "    400          17.3          4         151.0        90.0              27.0   \n",
              "    401          15.6          4         140.0        86.0              27.0   \n",
              "    402          24.6          4          97.0        52.0              44.0   \n",
              "    403          11.6          4         135.0        84.0              32.0   \n",
              "    404          18.6          4         120.0        79.0              28.0   \n",
              "    405          19.4          4         119.0        82.0              31.0   \n",
              "    \n",
              "                                      Name  Origin  Weight_in_lbs       Year  \n",
              "    0            chevrolet chevelle malibu     USA           3504 1970-01-01  \n",
              "    1                    buick skylark 320     USA           3693 1970-01-01  \n",
              "    2                   plymouth satellite     USA           3436 1970-01-01  \n",
              "    3                        amc rebel sst     USA           3433 1970-01-01  \n",
              "    4                          ford torino     USA           3449 1970-01-01  \n",
              "    5                     ford galaxie 500     USA           4341 1970-01-01  \n",
              "    6                     chevrolet impala     USA           4354 1970-01-01  \n",
              "    7                    plymouth fury iii     USA           4312 1970-01-01  \n",
              "    8                     pontiac catalina     USA           4425 1970-01-01  \n",
              "    9                   amc ambassador dpl     USA           3850 1970-01-01  \n",
              "    10                citroen ds-21 pallas  Europe           3090 1970-01-01  \n",
              "    11    chevrolet chevelle concours (sw)     USA           4142 1970-01-01  \n",
              "    12                    ford torino (sw)     USA           4034 1970-01-01  \n",
              "    13             plymouth satellite (sw)     USA           4166 1970-01-01  \n",
              "    14                  amc rebel sst (sw)     USA           3850 1970-01-01  \n",
              "    15                 dodge challenger se     USA           3563 1970-01-01  \n",
              "    16                  plymouth 'cuda 340     USA           3609 1970-01-01  \n",
              "    17               ford mustang boss 302     USA           3353 1970-01-01  \n",
              "    18               chevrolet monte carlo     USA           3761 1970-01-01  \n",
              "    19             buick estate wagon (sw)     USA           3086 1970-01-01  \n",
              "    20               toyota corona mark ii   Japan           2372 1970-01-01  \n",
              "    21                     plymouth duster     USA           2833 1970-01-01  \n",
              "    22                          amc hornet     USA           2774 1970-01-01  \n",
              "    23                       ford maverick     USA           2587 1970-01-01  \n",
              "    24                        datsun pl510   Japan           2130 1970-01-01  \n",
              "    25        volkswagen 1131 deluxe sedan  Europe           1835 1970-01-01  \n",
              "    26                         peugeot 504  Europe           2672 1970-01-01  \n",
              "    27                         audi 100 ls  Europe           2430 1970-01-01  \n",
              "    28                            saab 99e  Europe           2375 1970-01-01  \n",
              "    29                            bmw 2002  Europe           2234 1970-01-01  \n",
              "    ..                                 ...     ...            ...        ...  \n",
              "    376           chevrolet cavalier wagon     USA           2640 1982-01-01  \n",
              "    377          chevrolet cavalier 2-door     USA           2395 1982-01-01  \n",
              "    378         pontiac j2000 se hatchback     USA           2575 1982-01-01  \n",
              "    379                     dodge aries se     USA           2525 1982-01-01  \n",
              "    380                    pontiac phoenix     USA           2735 1982-01-01  \n",
              "    381               ford fairmont futura     USA           2865 1982-01-01  \n",
              "    382                     amc concord dl     USA           3035 1982-01-01  \n",
              "    383                volkswagen rabbit l  Europe           1980 1982-01-01  \n",
              "    384                 mazda glc custom l   Japan           2025 1982-01-01  \n",
              "    385                   mazda glc custom   Japan           1970 1982-01-01  \n",
              "    386             plymouth horizon miser     USA           2125 1982-01-01  \n",
              "    387                     mercury lynx l     USA           2125 1982-01-01  \n",
              "    388                   nissan stanza xe   Japan           2160 1982-01-01  \n",
              "    389              honda Accelerationord   Japan           2205 1982-01-01  \n",
              "    390                     toyota corolla   Japan           2245 1982-01-01  \n",
              "    391                        honda civic   Japan           1965 1982-01-01  \n",
              "    392                 honda civic (auto)   Japan           1965 1982-01-01  \n",
              "    393                      datsun 310 gx   Japan           1995 1982-01-01  \n",
              "    394              buick century limited     USA           2945 1982-01-01  \n",
              "    395  oldsmobile cutlass ciera (diesel)     USA           3015 1982-01-01  \n",
              "    396         chrysler lebaron medallion     USA           2585 1982-01-01  \n",
              "    397                     ford granada l     USA           2835 1982-01-01  \n",
              "    398                   toyota celica gt   Japan           2665 1982-01-01  \n",
              "    399                  dodge charger 2.2     USA           2370 1982-01-01  \n",
              "    400                   chevrolet camaro     USA           2950 1982-01-01  \n",
              "    401                    ford mustang gl     USA           2790 1982-01-01  \n",
              "    402                          vw pickup  Europe           2130 1982-01-01  \n",
              "    403                      dodge rampage     USA           2295 1982-01-01  \n",
              "    404                        ford ranger     USA           2625 1982-01-01  \n",
              "    405                         chevy s-10     USA           2720 1982-01-01  \n",
              "    \n",
              "    [406 rows x 9 columns],\n",
              "    encoding: EncodingWithFacet({\n",
              "      color: ColorValue({\n",
              "        condition: Color({\n",
              "          selection: 'selector001',\n",
              "          shorthand: 'Origin'\n",
              "        }),\n",
              "        value: 'lightgray'\n",
              "      }),\n",
              "      x: X({\n",
              "        shorthand: 'Acceleration'\n",
              "      }),\n",
              "      y: Y({\n",
              "        shorthand: 'Miles_per_Gallon'\n",
              "      })\n",
              "    }),\n",
              "    mark: 'point',\n",
              "    selection: NamedSelection({\n",
              "      selector001: SelectionDef({\n",
              "        type: 'interval'\n",
              "      })\n",
              "    })\n",
              "  }), Chart({\n",
              "    data:      Acceleration  Cylinders  Displacement  Horsepower  Miles_per_Gallon  \\\n",
              "    0            12.0          8         307.0       130.0              18.0   \n",
              "    1            11.5          8         350.0       165.0              15.0   \n",
              "    2            11.0          8         318.0       150.0              18.0   \n",
              "    3            12.0          8         304.0       150.0              16.0   \n",
              "    4            10.5          8         302.0       140.0              17.0   \n",
              "    5            10.0          8         429.0       198.0              15.0   \n",
              "    6             9.0          8         454.0       220.0              14.0   \n",
              "    7             8.5          8         440.0       215.0              14.0   \n",
              "    8            10.0          8         455.0       225.0              14.0   \n",
              "    9             8.5          8         390.0       190.0              15.0   \n",
              "    10           17.5          4         133.0       115.0               NaN   \n",
              "    11           11.5          8         350.0       165.0               NaN   \n",
              "    12           11.0          8         351.0       153.0               NaN   \n",
              "    13           10.5          8         383.0       175.0               NaN   \n",
              "    14           11.0          8         360.0       175.0               NaN   \n",
              "    15           10.0          8         383.0       170.0              15.0   \n",
              "    16            8.0          8         340.0       160.0              14.0   \n",
              "    17            8.0          8         302.0       140.0               NaN   \n",
              "    18            9.5          8         400.0       150.0              15.0   \n",
              "    19           10.0          8         455.0       225.0              14.0   \n",
              "    20           15.0          4         113.0        95.0              24.0   \n",
              "    21           15.5          6         198.0        95.0              22.0   \n",
              "    22           15.5          6         199.0        97.0              18.0   \n",
              "    23           16.0          6         200.0        85.0              21.0   \n",
              "    24           14.5          4          97.0        88.0              27.0   \n",
              "    25           20.5          4          97.0        46.0              26.0   \n",
              "    26           17.5          4         110.0        87.0              25.0   \n",
              "    27           14.5          4         107.0        90.0              24.0   \n",
              "    28           17.5          4         104.0        95.0              25.0   \n",
              "    29           12.5          4         121.0       113.0              26.0   \n",
              "    ..            ...        ...           ...         ...               ...   \n",
              "    376          18.6          4         112.0        88.0              27.0   \n",
              "    377          18.0          4         112.0        88.0              34.0   \n",
              "    378          16.2          4         112.0        85.0              31.0   \n",
              "    379          16.0          4         135.0        84.0              29.0   \n",
              "    380          18.0          4         151.0        90.0              27.0   \n",
              "    381          16.4          4         140.0        92.0              24.0   \n",
              "    382          20.5          4         151.0         NaN              23.0   \n",
              "    383          15.3          4         105.0        74.0              36.0   \n",
              "    384          18.2          4          91.0        68.0              37.0   \n",
              "    385          17.6          4          91.0        68.0              31.0   \n",
              "    386          14.7          4         105.0        63.0              38.0   \n",
              "    387          17.3          4          98.0        70.0              36.0   \n",
              "    388          14.5          4         120.0        88.0              36.0   \n",
              "    389          14.5          4         107.0        75.0              36.0   \n",
              "    390          16.9          4         108.0        70.0              34.0   \n",
              "    391          15.0          4          91.0        67.0              38.0   \n",
              "    392          15.7          4          91.0        67.0              32.0   \n",
              "    393          16.2          4          91.0        67.0              38.0   \n",
              "    394          16.4          6         181.0       110.0              25.0   \n",
              "    395          17.0          6         262.0        85.0              38.0   \n",
              "    396          14.5          4         156.0        92.0              26.0   \n",
              "    397          14.7          6         232.0       112.0              22.0   \n",
              "    398          13.9          4         144.0        96.0              32.0   \n",
              "    399          13.0          4         135.0        84.0              36.0   \n",
              "    400          17.3          4         151.0        90.0              27.0   \n",
              "    401          15.6          4         140.0        86.0              27.0   \n",
              "    402          24.6          4          97.0        52.0              44.0   \n",
              "    403          11.6          4         135.0        84.0              32.0   \n",
              "    404          18.6          4         120.0        79.0              28.0   \n",
              "    405          19.4          4         119.0        82.0              31.0   \n",
              "    \n",
              "                                      Name  Origin  Weight_in_lbs       Year  \n",
              "    0            chevrolet chevelle malibu     USA           3504 1970-01-01  \n",
              "    1                    buick skylark 320     USA           3693 1970-01-01  \n",
              "    2                   plymouth satellite     USA           3436 1970-01-01  \n",
              "    3                        amc rebel sst     USA           3433 1970-01-01  \n",
              "    4                          ford torino     USA           3449 1970-01-01  \n",
              "    5                     ford galaxie 500     USA           4341 1970-01-01  \n",
              "    6                     chevrolet impala     USA           4354 1970-01-01  \n",
              "    7                    plymouth fury iii     USA           4312 1970-01-01  \n",
              "    8                     pontiac catalina     USA           4425 1970-01-01  \n",
              "    9                   amc ambassador dpl     USA           3850 1970-01-01  \n",
              "    10                citroen ds-21 pallas  Europe           3090 1970-01-01  \n",
              "    11    chevrolet chevelle concours (sw)     USA           4142 1970-01-01  \n",
              "    12                    ford torino (sw)     USA           4034 1970-01-01  \n",
              "    13             plymouth satellite (sw)     USA           4166 1970-01-01  \n",
              "    14                  amc rebel sst (sw)     USA           3850 1970-01-01  \n",
              "    15                 dodge challenger se     USA           3563 1970-01-01  \n",
              "    16                  plymouth 'cuda 340     USA           3609 1970-01-01  \n",
              "    17               ford mustang boss 302     USA           3353 1970-01-01  \n",
              "    18               chevrolet monte carlo     USA           3761 1970-01-01  \n",
              "    19             buick estate wagon (sw)     USA           3086 1970-01-01  \n",
              "    20               toyota corona mark ii   Japan           2372 1970-01-01  \n",
              "    21                     plymouth duster     USA           2833 1970-01-01  \n",
              "    22                          amc hornet     USA           2774 1970-01-01  \n",
              "    23                       ford maverick     USA           2587 1970-01-01  \n",
              "    24                        datsun pl510   Japan           2130 1970-01-01  \n",
              "    25        volkswagen 1131 deluxe sedan  Europe           1835 1970-01-01  \n",
              "    26                         peugeot 504  Europe           2672 1970-01-01  \n",
              "    27                         audi 100 ls  Europe           2430 1970-01-01  \n",
              "    28                            saab 99e  Europe           2375 1970-01-01  \n",
              "    29                            bmw 2002  Europe           2234 1970-01-01  \n",
              "    ..                                 ...     ...            ...        ...  \n",
              "    376           chevrolet cavalier wagon     USA           2640 1982-01-01  \n",
              "    377          chevrolet cavalier 2-door     USA           2395 1982-01-01  \n",
              "    378         pontiac j2000 se hatchback     USA           2575 1982-01-01  \n",
              "    379                     dodge aries se     USA           2525 1982-01-01  \n",
              "    380                    pontiac phoenix     USA           2735 1982-01-01  \n",
              "    381               ford fairmont futura     USA           2865 1982-01-01  \n",
              "    382                     amc concord dl     USA           3035 1982-01-01  \n",
              "    383                volkswagen rabbit l  Europe           1980 1982-01-01  \n",
              "    384                 mazda glc custom l   Japan           2025 1982-01-01  \n",
              "    385                   mazda glc custom   Japan           1970 1982-01-01  \n",
              "    386             plymouth horizon miser     USA           2125 1982-01-01  \n",
              "    387                     mercury lynx l     USA           2125 1982-01-01  \n",
              "    388                   nissan stanza xe   Japan           2160 1982-01-01  \n",
              "    389              honda Accelerationord   Japan           2205 1982-01-01  \n",
              "    390                     toyota corolla   Japan           2245 1982-01-01  \n",
              "    391                        honda civic   Japan           1965 1982-01-01  \n",
              "    392                 honda civic (auto)   Japan           1965 1982-01-01  \n",
              "    393                      datsun 310 gx   Japan           1995 1982-01-01  \n",
              "    394              buick century limited     USA           2945 1982-01-01  \n",
              "    395  oldsmobile cutlass ciera (diesel)     USA           3015 1982-01-01  \n",
              "    396         chrysler lebaron medallion     USA           2585 1982-01-01  \n",
              "    397                     ford granada l     USA           2835 1982-01-01  \n",
              "    398                   toyota celica gt   Japan           2665 1982-01-01  \n",
              "    399                  dodge charger 2.2     USA           2370 1982-01-01  \n",
              "    400                   chevrolet camaro     USA           2950 1982-01-01  \n",
              "    401                    ford mustang gl     USA           2790 1982-01-01  \n",
              "    402                          vw pickup  Europe           2130 1982-01-01  \n",
              "    403                      dodge rampage     USA           2295 1982-01-01  \n",
              "    404                        ford ranger     USA           2625 1982-01-01  \n",
              "    405                         chevy s-10     USA           2720 1982-01-01  \n",
              "    \n",
              "    [406 rows x 9 columns],\n",
              "    encoding: EncodingWithFacet({\n",
              "      color: ColorValue({\n",
              "        condition: Color({\n",
              "          selection: 'selector001',\n",
              "          shorthand: 'Origin'\n",
              "        }),\n",
              "        value: 'lightgray'\n",
              "      }),\n",
              "      x: X({\n",
              "        shorthand: 'Horsepower'\n",
              "      }),\n",
              "      y: Y({\n",
              "        shorthand: 'Miles_per_Gallon'\n",
              "      })\n",
              "    }),\n",
              "    mark: 'point',\n",
              "    selection: NamedSelection({\n",
              "      selector001: SelectionDef({\n",
              "        type: 'interval'\n",
              "      })\n",
              "    })\n",
              "  })]\n",
              "})"
            ],
            "text/html": [
              "<!DOCTYPE html>\n",
              "<html>\n",
              "<head>\n",
              "  <style>\n",
              "    .vega-actions a {\n",
              "        margin-right: 12px;\n",
              "        color: #757575;\n",
              "        font-weight: normal;\n",
              "        font-size: 13px;\n",
              "    }\n",
              "    .error {\n",
              "        color: red;\n",
              "    }\n",
              "  </style>\n",
              "  <script type=\"text/javascript\" src=\"https://cdn.jsdelivr.net/npm//vega@4\"></script>\n",
              "  <script type=\"text/javascript\" src=\"https://cdn.jsdelivr.net/npm//vega-lite@2.6.0\"></script>\n",
              "  <script type=\"text/javascript\" src=\"https://cdn.jsdelivr.net/npm//vega-embed@3\"></script>\n",
              "</head>\n",
              "<body>\n",
              "  <div id=\"altair-viz\"></div>\n",
              "  <script>\n",
              "      var spec = {\"config\": {\"view\": {\"width\": 400, \"height\": 300}}, \"hconcat\": [{\"data\": {\"name\": \"data-f02450ab61490a1363517a0190416235\"}, \"mark\": \"point\", \"encoding\": {\"color\": {\"condition\": {\"type\": \"nominal\", \"field\": \"Origin\", \"selection\": \"selector001\"}, \"value\": \"lightgray\"}, \"x\": {\"type\": \"quantitative\", \"field\": \"Acceleration\"}, \"y\": {\"type\": \"quantitative\", \"field\": \"Miles_per_Gallon\"}}, \"selection\": {\"selector001\": {\"type\": \"interval\"}}}, {\"data\": {\"name\": \"data-f02450ab61490a1363517a0190416235\"}, \"mark\": \"point\", \"encoding\": {\"color\": {\"condition\": {\"type\": \"nominal\", \"field\": \"Origin\", \"selection\": \"selector001\"}, \"value\": \"lightgray\"}, \"x\": {\"type\": \"quantitative\", \"field\": \"Horsepower\"}, \"y\": {\"type\": \"quantitative\", \"field\": \"Miles_per_Gallon\"}}, \"selection\": {\"selector001\": {\"type\": \"interval\"}}}], \"$schema\": \"https://vega.github.io/schema/vega-lite/v2.6.0.json\", \"datasets\": {\"data-f02450ab61490a1363517a0190416235\": [{\"Acceleration\": 12.0, \"Cylinders\": 8, \"Displacement\": 307.0, \"Horsepower\": 130.0, \"Miles_per_Gallon\": 18.0, \"Name\": \"chevrolet chevelle malibu\", \"Origin\": \"USA\", \"Weight_in_lbs\": 3504, \"Year\": \"1970-01-01T00:00:00\"}, {\"Acceleration\": 11.5, \"Cylinders\": 8, \"Displacement\": 350.0, \"Horsepower\": 165.0, \"Miles_per_Gallon\": 15.0, \"Name\": \"buick skylark 320\", \"Origin\": \"USA\", \"Weight_in_lbs\": 3693, \"Year\": \"1970-01-01T00:00:00\"}, {\"Acceleration\": 11.0, \"Cylinders\": 8, \"Displacement\": 318.0, \"Horsepower\": 150.0, \"Miles_per_Gallon\": 18.0, \"Name\": \"plymouth satellite\", \"Origin\": \"USA\", \"Weight_in_lbs\": 3436, \"Year\": \"1970-01-01T00:00:00\"}, {\"Acceleration\": 12.0, \"Cylinders\": 8, \"Displacement\": 304.0, \"Horsepower\": 150.0, \"Miles_per_Gallon\": 16.0, \"Name\": \"amc rebel sst\", \"Origin\": \"USA\", \"Weight_in_lbs\": 3433, \"Year\": \"1970-01-01T00:00:00\"}, {\"Acceleration\": 10.5, \"Cylinders\": 8, \"Displacement\": 302.0, \"Horsepower\": 140.0, \"Miles_per_Gallon\": 17.0, \"Name\": \"ford torino\", \"Origin\": \"USA\", \"Weight_in_lbs\": 3449, \"Year\": \"1970-01-01T00:00:00\"}, {\"Acceleration\": 10.0, \"Cylinders\": 8, \"Displacement\": 429.0, \"Horsepower\": 198.0, \"Miles_per_Gallon\": 15.0, \"Name\": \"ford galaxie 500\", \"Origin\": \"USA\", \"Weight_in_lbs\": 4341, \"Year\": \"1970-01-01T00:00:00\"}, {\"Acceleration\": 9.0, \"Cylinders\": 8, \"Displacement\": 454.0, \"Horsepower\": 220.0, \"Miles_per_Gallon\": 14.0, \"Name\": \"chevrolet impala\", \"Origin\": \"USA\", \"Weight_in_lbs\": 4354, \"Year\": \"1970-01-01T00:00:00\"}, {\"Acceleration\": 8.5, \"Cylinders\": 8, \"Displacement\": 440.0, \"Horsepower\": 215.0, \"Miles_per_Gallon\": 14.0, \"Name\": \"plymouth fury iii\", \"Origin\": \"USA\", \"Weight_in_lbs\": 4312, \"Year\": \"1970-01-01T00:00:00\"}, {\"Acceleration\": 10.0, \"Cylinders\": 8, \"Displacement\": 455.0, \"Horsepower\": 225.0, \"Miles_per_Gallon\": 14.0, \"Name\": \"pontiac catalina\", \"Origin\": \"USA\", \"Weight_in_lbs\": 4425, \"Year\": \"1970-01-01T00:00:00\"}, {\"Acceleration\": 8.5, \"Cylinders\": 8, \"Displacement\": 390.0, \"Horsepower\": 190.0, \"Miles_per_Gallon\": 15.0, \"Name\": \"amc ambassador dpl\", \"Origin\": \"USA\", \"Weight_in_lbs\": 3850, \"Year\": \"1970-01-01T00:00:00\"}, {\"Acceleration\": 17.5, \"Cylinders\": 4, \"Displacement\": 133.0, \"Horsepower\": 115.0, \"Miles_per_Gallon\": null, \"Name\": \"citroen ds-21 pallas\", \"Origin\": \"Europe\", \"Weight_in_lbs\": 3090, \"Year\": \"1970-01-01T00:00:00\"}, {\"Acceleration\": 11.5, \"Cylinders\": 8, \"Displacement\": 350.0, \"Horsepower\": 165.0, \"Miles_per_Gallon\": null, \"Name\": \"chevrolet chevelle concours (sw)\", \"Origin\": \"USA\", \"Weight_in_lbs\": 4142, \"Year\": \"1970-01-01T00:00:00\"}, {\"Acceleration\": 11.0, \"Cylinders\": 8, \"Displacement\": 351.0, \"Horsepower\": 153.0, \"Miles_per_Gallon\": null, \"Name\": \"ford torino (sw)\", \"Origin\": \"USA\", \"Weight_in_lbs\": 4034, \"Year\": \"1970-01-01T00:00:00\"}, {\"Acceleration\": 10.5, \"Cylinders\": 8, \"Displacement\": 383.0, \"Horsepower\": 175.0, \"Miles_per_Gallon\": null, \"Name\": \"plymouth satellite (sw)\", \"Origin\": \"USA\", \"Weight_in_lbs\": 4166, \"Year\": \"1970-01-01T00:00:00\"}, {\"Acceleration\": 11.0, \"Cylinders\": 8, \"Displacement\": 360.0, \"Horsepower\": 175.0, \"Miles_per_Gallon\": null, \"Name\": \"amc rebel sst (sw)\", \"Origin\": \"USA\", \"Weight_in_lbs\": 3850, \"Year\": \"1970-01-01T00:00:00\"}, {\"Acceleration\": 10.0, \"Cylinders\": 8, \"Displacement\": 383.0, \"Horsepower\": 170.0, \"Miles_per_Gallon\": 15.0, \"Name\": \"dodge challenger se\", \"Origin\": \"USA\", \"Weight_in_lbs\": 3563, \"Year\": \"1970-01-01T00:00:00\"}, {\"Acceleration\": 8.0, \"Cylinders\": 8, \"Displacement\": 340.0, \"Horsepower\": 160.0, \"Miles_per_Gallon\": 14.0, \"Name\": \"plymouth 'cuda 340\", \"Origin\": \"USA\", \"Weight_in_lbs\": 3609, \"Year\": \"1970-01-01T00:00:00\"}, {\"Acceleration\": 8.0, \"Cylinders\": 8, \"Displacement\": 302.0, \"Horsepower\": 140.0, \"Miles_per_Gallon\": null, \"Name\": \"ford mustang boss 302\", \"Origin\": \"USA\", \"Weight_in_lbs\": 3353, \"Year\": \"1970-01-01T00:00:00\"}, {\"Acceleration\": 9.5, \"Cylinders\": 8, \"Displacement\": 400.0, \"Horsepower\": 150.0, \"Miles_per_Gallon\": 15.0, \"Name\": \"chevrolet monte carlo\", \"Origin\": \"USA\", \"Weight_in_lbs\": 3761, \"Year\": \"1970-01-01T00:00:00\"}, {\"Acceleration\": 10.0, \"Cylinders\": 8, \"Displacement\": 455.0, \"Horsepower\": 225.0, \"Miles_per_Gallon\": 14.0, \"Name\": \"buick estate wagon (sw)\", \"Origin\": \"USA\", \"Weight_in_lbs\": 3086, \"Year\": \"1970-01-01T00:00:00\"}, {\"Acceleration\": 15.0, \"Cylinders\": 4, \"Displacement\": 113.0, \"Horsepower\": 95.0, \"Miles_per_Gallon\": 24.0, \"Name\": \"toyota corona mark ii\", \"Origin\": \"Japan\", \"Weight_in_lbs\": 2372, \"Year\": \"1970-01-01T00:00:00\"}, {\"Acceleration\": 15.5, \"Cylinders\": 6, \"Displacement\": 198.0, \"Horsepower\": 95.0, \"Miles_per_Gallon\": 22.0, \"Name\": \"plymouth duster\", \"Origin\": \"USA\", \"Weight_in_lbs\": 2833, \"Year\": \"1970-01-01T00:00:00\"}, {\"Acceleration\": 15.5, \"Cylinders\": 6, \"Displacement\": 199.0, \"Horsepower\": 97.0, \"Miles_per_Gallon\": 18.0, \"Name\": \"amc hornet\", \"Origin\": \"USA\", \"Weight_in_lbs\": 2774, \"Year\": \"1970-01-01T00:00:00\"}, {\"Acceleration\": 16.0, \"Cylinders\": 6, \"Displacement\": 200.0, \"Horsepower\": 85.0, \"Miles_per_Gallon\": 21.0, \"Name\": \"ford maverick\", \"Origin\": \"USA\", \"Weight_in_lbs\": 2587, \"Year\": \"1970-01-01T00:00:00\"}, {\"Acceleration\": 14.5, \"Cylinders\": 4, \"Displacement\": 97.0, \"Horsepower\": 88.0, \"Miles_per_Gallon\": 27.0, \"Name\": \"datsun pl510\", \"Origin\": \"Japan\", \"Weight_in_lbs\": 2130, \"Year\": \"1970-01-01T00:00:00\"}, {\"Acceleration\": 20.5, \"Cylinders\": 4, \"Displacement\": 97.0, \"Horsepower\": 46.0, \"Miles_per_Gallon\": 26.0, \"Name\": \"volkswagen 1131 deluxe sedan\", \"Origin\": \"Europe\", \"Weight_in_lbs\": 1835, \"Year\": \"1970-01-01T00:00:00\"}, {\"Acceleration\": 17.5, \"Cylinders\": 4, \"Displacement\": 110.0, \"Horsepower\": 87.0, \"Miles_per_Gallon\": 25.0, \"Name\": \"peugeot 504\", \"Origin\": \"Europe\", \"Weight_in_lbs\": 2672, \"Year\": \"1970-01-01T00:00:00\"}, {\"Acceleration\": 14.5, \"Cylinders\": 4, \"Displacement\": 107.0, \"Horsepower\": 90.0, \"Miles_per_Gallon\": 24.0, \"Name\": \"audi 100 ls\", \"Origin\": \"Europe\", \"Weight_in_lbs\": 2430, \"Year\": \"1970-01-01T00:00:00\"}, {\"Acceleration\": 17.5, \"Cylinders\": 4, \"Displacement\": 104.0, \"Horsepower\": 95.0, \"Miles_per_Gallon\": 25.0, \"Name\": \"saab 99e\", \"Origin\": \"Europe\", \"Weight_in_lbs\": 2375, \"Year\": \"1970-01-01T00:00:00\"}, {\"Acceleration\": 12.5, \"Cylinders\": 4, \"Displacement\": 121.0, \"Horsepower\": 113.0, \"Miles_per_Gallon\": 26.0, \"Name\": \"bmw 2002\", \"Origin\": \"Europe\", \"Weight_in_lbs\": 2234, \"Year\": \"1970-01-01T00:00:00\"}, {\"Acceleration\": 15.0, \"Cylinders\": 6, \"Displacement\": 199.0, \"Horsepower\": 90.0, \"Miles_per_Gallon\": 21.0, \"Name\": \"amc gremlin\", \"Origin\": \"USA\", \"Weight_in_lbs\": 2648, \"Year\": \"1970-01-01T00:00:00\"}, {\"Acceleration\": 14.0, \"Cylinders\": 8, \"Displacement\": 360.0, \"Horsepower\": 215.0, \"Miles_per_Gallon\": 10.0, \"Name\": \"ford f250\", \"Origin\": \"USA\", \"Weight_in_lbs\": 4615, \"Year\": \"1970-01-01T00:00:00\"}, {\"Acceleration\": 15.0, \"Cylinders\": 8, \"Displacement\": 307.0, \"Horsepower\": 200.0, \"Miles_per_Gallon\": 10.0, \"Name\": \"chevy c20\", \"Origin\": \"USA\", \"Weight_in_lbs\": 4376, \"Year\": \"1970-01-01T00:00:00\"}, {\"Acceleration\": 13.5, \"Cylinders\": 8, \"Displacement\": 318.0, \"Horsepower\": 210.0, \"Miles_per_Gallon\": 11.0, \"Name\": \"dodge d200\", \"Origin\": \"USA\", \"Weight_in_lbs\": 4382, \"Year\": \"1970-01-01T00:00:00\"}, {\"Acceleration\": 18.5, \"Cylinders\": 8, \"Displacement\": 304.0, \"Horsepower\": 193.0, \"Miles_per_Gallon\": 9.0, \"Name\": \"hi 1200d\", \"Origin\": \"USA\", \"Weight_in_lbs\": 4732, \"Year\": \"1970-01-01T00:00:00\"}, {\"Acceleration\": 14.5, \"Cylinders\": 4, \"Displacement\": 97.0, \"Horsepower\": 88.0, \"Miles_per_Gallon\": 27.0, \"Name\": \"datsun pl510\", \"Origin\": \"Japan\", \"Weight_in_lbs\": 2130, \"Year\": \"1971-01-01T00:00:00\"}, {\"Acceleration\": 15.5, \"Cylinders\": 4, \"Displacement\": 140.0, \"Horsepower\": 90.0, \"Miles_per_Gallon\": 28.0, \"Name\": \"chevrolet vega 2300\", \"Origin\": \"USA\", \"Weight_in_lbs\": 2264, \"Year\": \"1971-01-01T00:00:00\"}, {\"Acceleration\": 14.0, \"Cylinders\": 4, \"Displacement\": 113.0, \"Horsepower\": 95.0, \"Miles_per_Gallon\": 25.0, \"Name\": \"toyota corona\", \"Origin\": \"Japan\", \"Weight_in_lbs\": 2228, \"Year\": \"1971-01-01T00:00:00\"}, {\"Acceleration\": 19.0, \"Cylinders\": 4, \"Displacement\": 98.0, \"Horsepower\": null, \"Miles_per_Gallon\": 25.0, \"Name\": \"ford pinto\", \"Origin\": \"USA\", \"Weight_in_lbs\": 2046, \"Year\": \"1971-01-01T00:00:00\"}, {\"Acceleration\": 20.0, \"Cylinders\": 4, \"Displacement\": 97.0, \"Horsepower\": 48.0, \"Miles_per_Gallon\": null, \"Name\": \"volkswagen super beetle 117\", \"Origin\": \"Europe\", \"Weight_in_lbs\": 1978, \"Year\": \"1971-01-01T00:00:00\"}, {\"Acceleration\": 13.0, \"Cylinders\": 6, \"Displacement\": 232.0, \"Horsepower\": 100.0, \"Miles_per_Gallon\": 19.0, \"Name\": \"amc gremlin\", \"Origin\": \"USA\", \"Weight_in_lbs\": 2634, \"Year\": \"1971-01-01T00:00:00\"}, {\"Acceleration\": 15.5, \"Cylinders\": 6, \"Displacement\": 225.0, \"Horsepower\": 105.0, \"Miles_per_Gallon\": 16.0, \"Name\": \"plymouth satellite custom\", \"Origin\": \"USA\", \"Weight_in_lbs\": 3439, \"Year\": \"1971-01-01T00:00:00\"}, {\"Acceleration\": 15.5, \"Cylinders\": 6, \"Displacement\": 250.0, \"Horsepower\": 100.0, \"Miles_per_Gallon\": 17.0, \"Name\": \"chevrolet chevelle malibu\", \"Origin\": \"USA\", \"Weight_in_lbs\": 3329, \"Year\": \"1971-01-01T00:00:00\"}, {\"Acceleration\": 15.5, \"Cylinders\": 6, \"Displacement\": 250.0, \"Horsepower\": 88.0, \"Miles_per_Gallon\": 19.0, \"Name\": \"ford torino 500\", \"Origin\": \"USA\", \"Weight_in_lbs\": 3302, \"Year\": \"1971-01-01T00:00:00\"}, {\"Acceleration\": 15.5, \"Cylinders\": 6, \"Displacement\": 232.0, \"Horsepower\": 100.0, \"Miles_per_Gallon\": 18.0, \"Name\": \"amc matador\", \"Origin\": \"USA\", \"Weight_in_lbs\": 3288, \"Year\": \"1971-01-01T00:00:00\"}, {\"Acceleration\": 12.0, \"Cylinders\": 8, \"Displacement\": 350.0, \"Horsepower\": 165.0, \"Miles_per_Gallon\": 14.0, \"Name\": \"chevrolet impala\", \"Origin\": \"USA\", \"Weight_in_lbs\": 4209, \"Year\": \"1971-01-01T00:00:00\"}, {\"Acceleration\": 11.5, \"Cylinders\": 8, \"Displacement\": 400.0, \"Horsepower\": 175.0, \"Miles_per_Gallon\": 14.0, \"Name\": \"pontiac catalina brougham\", \"Origin\": \"USA\", \"Weight_in_lbs\": 4464, \"Year\": \"1971-01-01T00:00:00\"}, {\"Acceleration\": 13.5, \"Cylinders\": 8, \"Displacement\": 351.0, \"Horsepower\": 153.0, \"Miles_per_Gallon\": 14.0, \"Name\": \"ford galaxie 500\", \"Origin\": \"USA\", \"Weight_in_lbs\": 4154, \"Year\": \"1971-01-01T00:00:00\"}, {\"Acceleration\": 13.0, \"Cylinders\": 8, \"Displacement\": 318.0, \"Horsepower\": 150.0, \"Miles_per_Gallon\": 14.0, \"Name\": \"plymouth fury iii\", \"Origin\": \"USA\", \"Weight_in_lbs\": 4096, \"Year\": \"1971-01-01T00:00:00\"}, {\"Acceleration\": 11.5, \"Cylinders\": 8, \"Displacement\": 383.0, \"Horsepower\": 180.0, \"Miles_per_Gallon\": 12.0, \"Name\": \"dodge monaco (sw)\", \"Origin\": \"USA\", \"Weight_in_lbs\": 4955, \"Year\": \"1971-01-01T00:00:00\"}, {\"Acceleration\": 12.0, \"Cylinders\": 8, \"Displacement\": 400.0, \"Horsepower\": 170.0, \"Miles_per_Gallon\": 13.0, \"Name\": \"ford country squire (sw)\", \"Origin\": \"USA\", \"Weight_in_lbs\": 4746, \"Year\": \"1971-01-01T00:00:00\"}, {\"Acceleration\": 12.0, \"Cylinders\": 8, \"Displacement\": 400.0, \"Horsepower\": 175.0, \"Miles_per_Gallon\": 13.0, \"Name\": \"pontiac safari (sw)\", \"Origin\": \"USA\", \"Weight_in_lbs\": 5140, \"Year\": \"1971-01-01T00:00:00\"}, {\"Acceleration\": 13.5, \"Cylinders\": 6, \"Displacement\": 258.0, \"Horsepower\": 110.0, \"Miles_per_Gallon\": 18.0, \"Name\": \"amc hornet sportabout (sw)\", \"Origin\": \"USA\", \"Weight_in_lbs\": 2962, \"Year\": \"1971-01-01T00:00:00\"}, {\"Acceleration\": 19.0, \"Cylinders\": 4, \"Displacement\": 140.0, \"Horsepower\": 72.0, \"Miles_per_Gallon\": 22.0, \"Name\": \"chevrolet vega (sw)\", \"Origin\": \"USA\", \"Weight_in_lbs\": 2408, \"Year\": \"1971-01-01T00:00:00\"}, {\"Acceleration\": 15.0, \"Cylinders\": 6, \"Displacement\": 250.0, \"Horsepower\": 100.0, \"Miles_per_Gallon\": 19.0, \"Name\": \"pontiac firebird\", \"Origin\": \"USA\", \"Weight_in_lbs\": 3282, \"Year\": \"1971-01-01T00:00:00\"}, {\"Acceleration\": 14.5, \"Cylinders\": 6, \"Displacement\": 250.0, \"Horsepower\": 88.0, \"Miles_per_Gallon\": 18.0, \"Name\": \"ford mustang\", \"Origin\": \"USA\", \"Weight_in_lbs\": 3139, \"Year\": \"1971-01-01T00:00:00\"}, {\"Acceleration\": 14.0, \"Cylinders\": 4, \"Displacement\": 122.0, \"Horsepower\": 86.0, \"Miles_per_Gallon\": 23.0, \"Name\": \"mercury capri 2000\", \"Origin\": \"USA\", \"Weight_in_lbs\": 2220, \"Year\": \"1971-01-01T00:00:00\"}, {\"Acceleration\": 14.0, \"Cylinders\": 4, \"Displacement\": 116.0, \"Horsepower\": 90.0, \"Miles_per_Gallon\": 28.0, \"Name\": \"opel 1900\", \"Origin\": \"Europe\", \"Weight_in_lbs\": 2123, \"Year\": \"1971-01-01T00:00:00\"}, {\"Acceleration\": 19.5, \"Cylinders\": 4, \"Displacement\": 79.0, \"Horsepower\": 70.0, \"Miles_per_Gallon\": 30.0, \"Name\": \"peugeot 304\", \"Origin\": \"Europe\", \"Weight_in_lbs\": 2074, \"Year\": \"1971-01-01T00:00:00\"}, {\"Acceleration\": 14.5, \"Cylinders\": 4, \"Displacement\": 88.0, \"Horsepower\": 76.0, \"Miles_per_Gallon\": 30.0, \"Name\": \"fiat 124b\", \"Origin\": \"Europe\", \"Weight_in_lbs\": 2065, \"Year\": \"1971-01-01T00:00:00\"}, {\"Acceleration\": 19.0, \"Cylinders\": 4, \"Displacement\": 71.0, \"Horsepower\": 65.0, \"Miles_per_Gallon\": 31.0, \"Name\": \"toyota corolla 1200\", \"Origin\": \"Japan\", \"Weight_in_lbs\": 1773, \"Year\": \"1971-01-01T00:00:00\"}, {\"Acceleration\": 18.0, \"Cylinders\": 4, \"Displacement\": 72.0, \"Horsepower\": 69.0, \"Miles_per_Gallon\": 35.0, \"Name\": \"datsun 1200\", \"Origin\": \"Japan\", \"Weight_in_lbs\": 1613, \"Year\": \"1971-01-01T00:00:00\"}, {\"Acceleration\": 19.0, \"Cylinders\": 4, \"Displacement\": 97.0, \"Horsepower\": 60.0, \"Miles_per_Gallon\": 27.0, \"Name\": \"volkswagen model 111\", \"Origin\": \"Europe\", \"Weight_in_lbs\": 1834, \"Year\": \"1971-01-01T00:00:00\"}, {\"Acceleration\": 20.5, \"Cylinders\": 4, \"Displacement\": 91.0, \"Horsepower\": 70.0, \"Miles_per_Gallon\": 26.0, \"Name\": \"plymouth cricket\", \"Origin\": \"USA\", \"Weight_in_lbs\": 1955, \"Year\": \"1971-01-01T00:00:00\"}, {\"Acceleration\": 15.5, \"Cylinders\": 4, \"Displacement\": 113.0, \"Horsepower\": 95.0, \"Miles_per_Gallon\": 24.0, \"Name\": \"toyota corona hardtop\", \"Origin\": \"Japan\", \"Weight_in_lbs\": 2278, \"Year\": \"1972-01-01T00:00:00\"}, {\"Acceleration\": 17.0, \"Cylinders\": 4, \"Displacement\": 97.5, \"Horsepower\": 80.0, \"Miles_per_Gallon\": 25.0, \"Name\": \"dodge colt hardtop\", \"Origin\": \"USA\", \"Weight_in_lbs\": 2126, \"Year\": \"1972-01-01T00:00:00\"}, {\"Acceleration\": 23.5, \"Cylinders\": 4, \"Displacement\": 97.0, \"Horsepower\": 54.0, \"Miles_per_Gallon\": 23.0, \"Name\": \"volkswagen type 3\", \"Origin\": \"Europe\", \"Weight_in_lbs\": 2254, \"Year\": \"1972-01-01T00:00:00\"}, {\"Acceleration\": 19.5, \"Cylinders\": 4, \"Displacement\": 140.0, \"Horsepower\": 90.0, \"Miles_per_Gallon\": 20.0, \"Name\": \"chevrolet vega\", \"Origin\": \"USA\", \"Weight_in_lbs\": 2408, \"Year\": \"1972-01-01T00:00:00\"}, {\"Acceleration\": 16.5, \"Cylinders\": 4, \"Displacement\": 122.0, \"Horsepower\": 86.0, \"Miles_per_Gallon\": 21.0, \"Name\": \"ford pinto runabout\", \"Origin\": \"USA\", \"Weight_in_lbs\": 2226, \"Year\": \"1972-01-01T00:00:00\"}, {\"Acceleration\": 12.0, \"Cylinders\": 8, \"Displacement\": 350.0, \"Horsepower\": 165.0, \"Miles_per_Gallon\": 13.0, \"Name\": \"chevrolet impala\", \"Origin\": \"USA\", \"Weight_in_lbs\": 4274, \"Year\": \"1972-01-01T00:00:00\"}, {\"Acceleration\": 12.0, \"Cylinders\": 8, \"Displacement\": 400.0, \"Horsepower\": 175.0, \"Miles_per_Gallon\": 14.0, \"Name\": \"pontiac catalina\", \"Origin\": \"USA\", \"Weight_in_lbs\": 4385, \"Year\": \"1972-01-01T00:00:00\"}, {\"Acceleration\": 13.5, \"Cylinders\": 8, \"Displacement\": 318.0, \"Horsepower\": 150.0, \"Miles_per_Gallon\": 15.0, \"Name\": \"plymouth fury iii\", \"Origin\": \"USA\", \"Weight_in_lbs\": 4135, \"Year\": \"1972-01-01T00:00:00\"}, {\"Acceleration\": 13.0, \"Cylinders\": 8, \"Displacement\": 351.0, \"Horsepower\": 153.0, \"Miles_per_Gallon\": 14.0, \"Name\": \"ford galaxie 500\", \"Origin\": \"USA\", \"Weight_in_lbs\": 4129, \"Year\": \"1972-01-01T00:00:00\"}, {\"Acceleration\": 11.5, \"Cylinders\": 8, \"Displacement\": 304.0, \"Horsepower\": 150.0, \"Miles_per_Gallon\": 17.0, \"Name\": \"amc ambassador sst\", \"Origin\": \"USA\", \"Weight_in_lbs\": 3672, \"Year\": \"1972-01-01T00:00:00\"}, {\"Acceleration\": 11.0, \"Cylinders\": 8, \"Displacement\": 429.0, \"Horsepower\": 208.0, \"Miles_per_Gallon\": 11.0, \"Name\": \"mercury marquis\", \"Origin\": \"USA\", \"Weight_in_lbs\": 4633, \"Year\": \"1972-01-01T00:00:00\"}, {\"Acceleration\": 13.5, \"Cylinders\": 8, \"Displacement\": 350.0, \"Horsepower\": 155.0, \"Miles_per_Gallon\": 13.0, \"Name\": \"buick lesabre custom\", \"Origin\": \"USA\", \"Weight_in_lbs\": 4502, \"Year\": \"1972-01-01T00:00:00\"}, {\"Acceleration\": 13.5, \"Cylinders\": 8, \"Displacement\": 350.0, \"Horsepower\": 160.0, \"Miles_per_Gallon\": 12.0, \"Name\": \"oldsmobile delta 88 royale\", \"Origin\": \"USA\", \"Weight_in_lbs\": 4456, \"Year\": \"1972-01-01T00:00:00\"}, {\"Acceleration\": 12.5, \"Cylinders\": 8, \"Displacement\": 400.0, \"Horsepower\": 190.0, \"Miles_per_Gallon\": 13.0, \"Name\": \"chrysler newport royal\", \"Origin\": \"USA\", \"Weight_in_lbs\": 4422, \"Year\": \"1972-01-01T00:00:00\"}, {\"Acceleration\": 13.5, \"Cylinders\": 3, \"Displacement\": 70.0, \"Horsepower\": 97.0, \"Miles_per_Gallon\": 19.0, \"Name\": \"mazda rx2 coupe\", \"Origin\": \"Japan\", \"Weight_in_lbs\": 2330, \"Year\": \"1972-01-01T00:00:00\"}, {\"Acceleration\": 12.5, \"Cylinders\": 8, \"Displacement\": 304.0, \"Horsepower\": 150.0, \"Miles_per_Gallon\": 15.0, \"Name\": \"amc matador (sw)\", \"Origin\": \"USA\", \"Weight_in_lbs\": 3892, \"Year\": \"1972-01-01T00:00:00\"}, {\"Acceleration\": 14.0, \"Cylinders\": 8, \"Displacement\": 307.0, \"Horsepower\": 130.0, \"Miles_per_Gallon\": 13.0, \"Name\": \"chevrolet chevelle concours (sw)\", \"Origin\": \"USA\", \"Weight_in_lbs\": 4098, \"Year\": \"1972-01-01T00:00:00\"}, {\"Acceleration\": 16.0, \"Cylinders\": 8, \"Displacement\": 302.0, \"Horsepower\": 140.0, \"Miles_per_Gallon\": 13.0, \"Name\": \"ford gran torino (sw)\", \"Origin\": \"USA\", \"Weight_in_lbs\": 4294, \"Year\": \"1972-01-01T00:00:00\"}, {\"Acceleration\": 14.0, \"Cylinders\": 8, \"Displacement\": 318.0, \"Horsepower\": 150.0, \"Miles_per_Gallon\": 14.0, \"Name\": \"plymouth satellite custom (sw)\", \"Origin\": \"USA\", \"Weight_in_lbs\": 4077, \"Year\": \"1972-01-01T00:00:00\"}, {\"Acceleration\": 14.5, \"Cylinders\": 4, \"Displacement\": 121.0, \"Horsepower\": 112.0, \"Miles_per_Gallon\": 18.0, \"Name\": \"volvo 145e (sw)\", \"Origin\": \"Europe\", \"Weight_in_lbs\": 2933, \"Year\": \"1972-01-01T00:00:00\"}, {\"Acceleration\": 18.0, \"Cylinders\": 4, \"Displacement\": 121.0, \"Horsepower\": 76.0, \"Miles_per_Gallon\": 22.0, \"Name\": \"volkswagen 411 (sw)\", \"Origin\": \"Europe\", \"Weight_in_lbs\": 2511, \"Year\": \"1972-01-01T00:00:00\"}, {\"Acceleration\": 19.5, \"Cylinders\": 4, \"Displacement\": 120.0, \"Horsepower\": 87.0, \"Miles_per_Gallon\": 21.0, \"Name\": \"peugeot 504 (sw)\", \"Origin\": \"Europe\", \"Weight_in_lbs\": 2979, \"Year\": \"1972-01-01T00:00:00\"}, {\"Acceleration\": 18.0, \"Cylinders\": 4, \"Displacement\": 96.0, \"Horsepower\": 69.0, \"Miles_per_Gallon\": 26.0, \"Name\": \"renault 12 (sw)\", \"Origin\": \"Europe\", \"Weight_in_lbs\": 2189, \"Year\": \"1972-01-01T00:00:00\"}, {\"Acceleration\": 16.0, \"Cylinders\": 4, \"Displacement\": 122.0, \"Horsepower\": 86.0, \"Miles_per_Gallon\": 22.0, \"Name\": \"ford pinto (sw)\", \"Origin\": \"USA\", \"Weight_in_lbs\": 2395, \"Year\": \"1972-01-01T00:00:00\"}, {\"Acceleration\": 17.0, \"Cylinders\": 4, \"Displacement\": 97.0, \"Horsepower\": 92.0, \"Miles_per_Gallon\": 28.0, \"Name\": \"datsun 510 (sw)\", \"Origin\": \"Japan\", \"Weight_in_lbs\": 2288, \"Year\": \"1972-01-01T00:00:00\"}, {\"Acceleration\": 14.5, \"Cylinders\": 4, \"Displacement\": 120.0, \"Horsepower\": 97.0, \"Miles_per_Gallon\": 23.0, \"Name\": \"toyouta corona mark ii (sw)\", \"Origin\": \"Japan\", \"Weight_in_lbs\": 2506, \"Year\": \"1972-01-01T00:00:00\"}, {\"Acceleration\": 15.0, \"Cylinders\": 4, \"Displacement\": 98.0, \"Horsepower\": 80.0, \"Miles_per_Gallon\": 28.0, \"Name\": \"dodge colt (sw)\", \"Origin\": \"USA\", \"Weight_in_lbs\": 2164, \"Year\": \"1972-01-01T00:00:00\"}, {\"Acceleration\": 16.5, \"Cylinders\": 4, \"Displacement\": 97.0, \"Horsepower\": 88.0, \"Miles_per_Gallon\": 27.0, \"Name\": \"toyota corolla 1600 (sw)\", \"Origin\": \"Japan\", \"Weight_in_lbs\": 2100, \"Year\": \"1972-01-01T00:00:00\"}, {\"Acceleration\": 13.0, \"Cylinders\": 8, \"Displacement\": 350.0, \"Horsepower\": 175.0, \"Miles_per_Gallon\": 13.0, \"Name\": \"buick century 350\", \"Origin\": \"USA\", \"Weight_in_lbs\": 4100, \"Year\": \"1973-01-01T00:00:00\"}, {\"Acceleration\": 11.5, \"Cylinders\": 8, \"Displacement\": 304.0, \"Horsepower\": 150.0, \"Miles_per_Gallon\": 14.0, \"Name\": \"amc matador\", \"Origin\": \"USA\", \"Weight_in_lbs\": 3672, \"Year\": \"1973-01-01T00:00:00\"}, {\"Acceleration\": 13.0, \"Cylinders\": 8, \"Displacement\": 350.0, \"Horsepower\": 145.0, \"Miles_per_Gallon\": 13.0, \"Name\": \"chevrolet malibu\", \"Origin\": \"USA\", \"Weight_in_lbs\": 3988, \"Year\": \"1973-01-01T00:00:00\"}, {\"Acceleration\": 14.5, \"Cylinders\": 8, \"Displacement\": 302.0, \"Horsepower\": 137.0, \"Miles_per_Gallon\": 14.0, \"Name\": \"ford gran torino\", \"Origin\": \"USA\", \"Weight_in_lbs\": 4042, \"Year\": \"1973-01-01T00:00:00\"}, {\"Acceleration\": 12.5, \"Cylinders\": 8, \"Displacement\": 318.0, \"Horsepower\": 150.0, \"Miles_per_Gallon\": 15.0, \"Name\": \"dodge coronet custom\", \"Origin\": \"USA\", \"Weight_in_lbs\": 3777, \"Year\": \"1973-01-01T00:00:00\"}, {\"Acceleration\": 11.5, \"Cylinders\": 8, \"Displacement\": 429.0, \"Horsepower\": 198.0, \"Miles_per_Gallon\": 12.0, \"Name\": \"mercury marquis brougham\", \"Origin\": \"USA\", \"Weight_in_lbs\": 4952, \"Year\": \"1973-01-01T00:00:00\"}, {\"Acceleration\": 12.0, \"Cylinders\": 8, \"Displacement\": 400.0, \"Horsepower\": 150.0, \"Miles_per_Gallon\": 13.0, \"Name\": \"chevrolet caprice classic\", \"Origin\": \"USA\", \"Weight_in_lbs\": 4464, \"Year\": \"1973-01-01T00:00:00\"}, {\"Acceleration\": 13.0, \"Cylinders\": 8, \"Displacement\": 351.0, \"Horsepower\": 158.0, \"Miles_per_Gallon\": 13.0, \"Name\": \"ford ltd\", \"Origin\": \"USA\", \"Weight_in_lbs\": 4363, \"Year\": \"1973-01-01T00:00:00\"}, {\"Acceleration\": 14.5, \"Cylinders\": 8, \"Displacement\": 318.0, \"Horsepower\": 150.0, \"Miles_per_Gallon\": 14.0, \"Name\": \"plymouth fury gran sedan\", \"Origin\": \"USA\", \"Weight_in_lbs\": 4237, \"Year\": \"1973-01-01T00:00:00\"}, {\"Acceleration\": 11.0, \"Cylinders\": 8, \"Displacement\": 440.0, \"Horsepower\": 215.0, \"Miles_per_Gallon\": 13.0, \"Name\": \"chrysler new yorker brougham\", \"Origin\": \"USA\", \"Weight_in_lbs\": 4735, \"Year\": \"1973-01-01T00:00:00\"}, {\"Acceleration\": 11.0, \"Cylinders\": 8, \"Displacement\": 455.0, \"Horsepower\": 225.0, \"Miles_per_Gallon\": 12.0, \"Name\": \"buick electra 225 custom\", \"Origin\": \"USA\", \"Weight_in_lbs\": 4951, \"Year\": \"1973-01-01T00:00:00\"}, {\"Acceleration\": 11.0, \"Cylinders\": 8, \"Displacement\": 360.0, \"Horsepower\": 175.0, \"Miles_per_Gallon\": 13.0, \"Name\": \"amc ambassador brougham\", \"Origin\": \"USA\", \"Weight_in_lbs\": 3821, \"Year\": \"1973-01-01T00:00:00\"}, {\"Acceleration\": 16.5, \"Cylinders\": 6, \"Displacement\": 225.0, \"Horsepower\": 105.0, \"Miles_per_Gallon\": 18.0, \"Name\": \"plymouth valiant\", \"Origin\": \"USA\", \"Weight_in_lbs\": 3121, \"Year\": \"1973-01-01T00:00:00\"}, {\"Acceleration\": 18.0, \"Cylinders\": 6, \"Displacement\": 250.0, \"Horsepower\": 100.0, \"Miles_per_Gallon\": 16.0, \"Name\": \"chevrolet nova custom\", \"Origin\": \"USA\", \"Weight_in_lbs\": 3278, \"Year\": \"1973-01-01T00:00:00\"}, {\"Acceleration\": 16.0, \"Cylinders\": 6, \"Displacement\": 232.0, \"Horsepower\": 100.0, \"Miles_per_Gallon\": 18.0, \"Name\": \"amc hornet\", \"Origin\": \"USA\", \"Weight_in_lbs\": 2945, \"Year\": \"1973-01-01T00:00:00\"}, {\"Acceleration\": 16.5, \"Cylinders\": 6, \"Displacement\": 250.0, \"Horsepower\": 88.0, \"Miles_per_Gallon\": 18.0, \"Name\": \"ford maverick\", \"Origin\": \"USA\", \"Weight_in_lbs\": 3021, \"Year\": \"1973-01-01T00:00:00\"}, {\"Acceleration\": 16.0, \"Cylinders\": 6, \"Displacement\": 198.0, \"Horsepower\": 95.0, \"Miles_per_Gallon\": 23.0, \"Name\": \"plymouth duster\", \"Origin\": \"USA\", \"Weight_in_lbs\": 2904, \"Year\": \"1973-01-01T00:00:00\"}, {\"Acceleration\": 21.0, \"Cylinders\": 4, \"Displacement\": 97.0, \"Horsepower\": 46.0, \"Miles_per_Gallon\": 26.0, \"Name\": \"volkswagen super beetle\", \"Origin\": \"Europe\", \"Weight_in_lbs\": 1950, \"Year\": \"1973-01-01T00:00:00\"}, {\"Acceleration\": 14.0, \"Cylinders\": 8, \"Displacement\": 400.0, \"Horsepower\": 150.0, \"Miles_per_Gallon\": 11.0, \"Name\": \"chevrolet impala\", \"Origin\": \"USA\", \"Weight_in_lbs\": 4997, \"Year\": \"1973-01-01T00:00:00\"}, {\"Acceleration\": 12.5, \"Cylinders\": 8, \"Displacement\": 400.0, \"Horsepower\": 167.0, \"Miles_per_Gallon\": 12.0, \"Name\": \"ford country\", \"Origin\": \"USA\", \"Weight_in_lbs\": 4906, \"Year\": \"1973-01-01T00:00:00\"}, {\"Acceleration\": 13.0, \"Cylinders\": 8, \"Displacement\": 360.0, \"Horsepower\": 170.0, \"Miles_per_Gallon\": 13.0, \"Name\": \"plymouth custom suburb\", \"Origin\": \"USA\", \"Weight_in_lbs\": 4654, \"Year\": \"1973-01-01T00:00:00\"}, {\"Acceleration\": 12.5, \"Cylinders\": 8, \"Displacement\": 350.0, \"Horsepower\": 180.0, \"Miles_per_Gallon\": 12.0, \"Name\": \"oldsmobile vista cruiser\", \"Origin\": \"USA\", \"Weight_in_lbs\": 4499, \"Year\": \"1973-01-01T00:00:00\"}, {\"Acceleration\": 15.0, \"Cylinders\": 6, \"Displacement\": 232.0, \"Horsepower\": 100.0, \"Miles_per_Gallon\": 18.0, \"Name\": \"amc gremlin\", \"Origin\": \"USA\", \"Weight_in_lbs\": 2789, \"Year\": \"1973-01-01T00:00:00\"}, {\"Acceleration\": 19.0, \"Cylinders\": 4, \"Displacement\": 97.0, \"Horsepower\": 88.0, \"Miles_per_Gallon\": 20.0, \"Name\": \"toyota carina\", \"Origin\": \"Japan\", \"Weight_in_lbs\": 2279, \"Year\": \"1973-01-01T00:00:00\"}, {\"Acceleration\": 19.5, \"Cylinders\": 4, \"Displacement\": 140.0, \"Horsepower\": 72.0, \"Miles_per_Gallon\": 21.0, \"Name\": \"chevrolet vega\", \"Origin\": \"USA\", \"Weight_in_lbs\": 2401, \"Year\": \"1973-01-01T00:00:00\"}, {\"Acceleration\": 16.5, \"Cylinders\": 4, \"Displacement\": 108.0, \"Horsepower\": 94.0, \"Miles_per_Gallon\": 22.0, \"Name\": \"datsun 610\", \"Origin\": \"Japan\", \"Weight_in_lbs\": 2379, \"Year\": \"1973-01-01T00:00:00\"}, {\"Acceleration\": 13.5, \"Cylinders\": 3, \"Displacement\": 70.0, \"Horsepower\": 90.0, \"Miles_per_Gallon\": 18.0, \"Name\": \"maxda rx3\", \"Origin\": \"Japan\", \"Weight_in_lbs\": 2124, \"Year\": \"1973-01-01T00:00:00\"}, {\"Acceleration\": 18.5, \"Cylinders\": 4, \"Displacement\": 122.0, \"Horsepower\": 85.0, \"Miles_per_Gallon\": 19.0, \"Name\": \"ford pinto\", \"Origin\": \"USA\", \"Weight_in_lbs\": 2310, \"Year\": \"1973-01-01T00:00:00\"}, {\"Acceleration\": 14.0, \"Cylinders\": 6, \"Displacement\": 155.0, \"Horsepower\": 107.0, \"Miles_per_Gallon\": 21.0, \"Name\": \"mercury capri v6\", \"Origin\": \"USA\", \"Weight_in_lbs\": 2472, \"Year\": \"1973-01-01T00:00:00\"}, {\"Acceleration\": 15.5, \"Cylinders\": 4, \"Displacement\": 98.0, \"Horsepower\": 90.0, \"Miles_per_Gallon\": 26.0, \"Name\": \"fiat 124 sport coupe\", \"Origin\": \"Europe\", \"Weight_in_lbs\": 2265, \"Year\": \"1973-01-01T00:00:00\"}, {\"Acceleration\": 13.0, \"Cylinders\": 8, \"Displacement\": 350.0, \"Horsepower\": 145.0, \"Miles_per_Gallon\": 15.0, \"Name\": \"chevrolet monte carlo s\", \"Origin\": \"USA\", \"Weight_in_lbs\": 4082, \"Year\": \"1973-01-01T00:00:00\"}, {\"Acceleration\": 9.5, \"Cylinders\": 8, \"Displacement\": 400.0, \"Horsepower\": 230.0, \"Miles_per_Gallon\": 16.0, \"Name\": \"pontiac grand prix\", \"Origin\": \"USA\", \"Weight_in_lbs\": 4278, \"Year\": \"1973-01-01T00:00:00\"}, {\"Acceleration\": 19.5, \"Cylinders\": 4, \"Displacement\": 68.0, \"Horsepower\": 49.0, \"Miles_per_Gallon\": 29.0, \"Name\": \"fiat 128\", \"Origin\": \"Europe\", \"Weight_in_lbs\": 1867, \"Year\": \"1973-01-01T00:00:00\"}, {\"Acceleration\": 15.5, \"Cylinders\": 4, \"Displacement\": 116.0, \"Horsepower\": 75.0, \"Miles_per_Gallon\": 24.0, \"Name\": \"opel manta\", \"Origin\": \"Europe\", \"Weight_in_lbs\": 2158, \"Year\": \"1973-01-01T00:00:00\"}, {\"Acceleration\": 14.0, \"Cylinders\": 4, \"Displacement\": 114.0, \"Horsepower\": 91.0, \"Miles_per_Gallon\": 20.0, \"Name\": \"audi 100ls\", \"Origin\": \"Europe\", \"Weight_in_lbs\": 2582, \"Year\": \"1973-01-01T00:00:00\"}, {\"Acceleration\": 15.5, \"Cylinders\": 4, \"Displacement\": 121.0, \"Horsepower\": 112.0, \"Miles_per_Gallon\": 19.0, \"Name\": \"volvo 144ea\", \"Origin\": \"Europe\", \"Weight_in_lbs\": 2868, \"Year\": \"1973-01-01T00:00:00\"}, {\"Acceleration\": 11.0, \"Cylinders\": 8, \"Displacement\": 318.0, \"Horsepower\": 150.0, \"Miles_per_Gallon\": 15.0, \"Name\": \"dodge dart custom\", \"Origin\": \"USA\", \"Weight_in_lbs\": 3399, \"Year\": \"1973-01-01T00:00:00\"}, {\"Acceleration\": 14.0, \"Cylinders\": 4, \"Displacement\": 121.0, \"Horsepower\": 110.0, \"Miles_per_Gallon\": 24.0, \"Name\": \"saab 99le\", \"Origin\": \"Europe\", \"Weight_in_lbs\": 2660, \"Year\": \"1973-01-01T00:00:00\"}, {\"Acceleration\": 13.5, \"Cylinders\": 6, \"Displacement\": 156.0, \"Horsepower\": 122.0, \"Miles_per_Gallon\": 20.0, \"Name\": \"toyota mark ii\", \"Origin\": \"Japan\", \"Weight_in_lbs\": 2807, \"Year\": \"1973-01-01T00:00:00\"}, {\"Acceleration\": 11.0, \"Cylinders\": 8, \"Displacement\": 350.0, \"Horsepower\": 180.0, \"Miles_per_Gallon\": 11.0, \"Name\": \"oldsmobile omega\", \"Origin\": \"USA\", \"Weight_in_lbs\": 3664, \"Year\": \"1973-01-01T00:00:00\"}, {\"Acceleration\": 16.5, \"Cylinders\": 6, \"Displacement\": 198.0, \"Horsepower\": 95.0, \"Miles_per_Gallon\": 20.0, \"Name\": \"plymouth duster\", \"Origin\": \"USA\", \"Weight_in_lbs\": 3102, \"Year\": \"1974-01-01T00:00:00\"}, {\"Acceleration\": 17.0, \"Cylinders\": 6, \"Displacement\": 200.0, \"Horsepower\": null, \"Miles_per_Gallon\": 21.0, \"Name\": \"ford maverick\", \"Origin\": \"USA\", \"Weight_in_lbs\": 2875, \"Year\": \"1974-01-01T00:00:00\"}, {\"Acceleration\": 16.0, \"Cylinders\": 6, \"Displacement\": 232.0, \"Horsepower\": 100.0, \"Miles_per_Gallon\": 19.0, \"Name\": \"amc hornet\", \"Origin\": \"USA\", \"Weight_in_lbs\": 2901, \"Year\": \"1974-01-01T00:00:00\"}, {\"Acceleration\": 17.0, \"Cylinders\": 6, \"Displacement\": 250.0, \"Horsepower\": 100.0, \"Miles_per_Gallon\": 15.0, \"Name\": \"chevrolet nova\", \"Origin\": \"USA\", \"Weight_in_lbs\": 3336, \"Year\": \"1974-01-01T00:00:00\"}, {\"Acceleration\": 19.0, \"Cylinders\": 4, \"Displacement\": 79.0, \"Horsepower\": 67.0, \"Miles_per_Gallon\": 31.0, \"Name\": \"datsun b210\", \"Origin\": \"Japan\", \"Weight_in_lbs\": 1950, \"Year\": \"1974-01-01T00:00:00\"}, {\"Acceleration\": 16.5, \"Cylinders\": 4, \"Displacement\": 122.0, \"Horsepower\": 80.0, \"Miles_per_Gallon\": 26.0, \"Name\": \"ford pinto\", \"Origin\": \"USA\", \"Weight_in_lbs\": 2451, \"Year\": \"1974-01-01T00:00:00\"}, {\"Acceleration\": 21.0, \"Cylinders\": 4, \"Displacement\": 71.0, \"Horsepower\": 65.0, \"Miles_per_Gallon\": 32.0, \"Name\": \"toyota corolla 1200\", \"Origin\": \"Japan\", \"Weight_in_lbs\": 1836, \"Year\": \"1974-01-01T00:00:00\"}, {\"Acceleration\": 17.0, \"Cylinders\": 4, \"Displacement\": 140.0, \"Horsepower\": 75.0, \"Miles_per_Gallon\": 25.0, \"Name\": \"chevrolet vega\", \"Origin\": \"USA\", \"Weight_in_lbs\": 2542, \"Year\": \"1974-01-01T00:00:00\"}, {\"Acceleration\": 17.0, \"Cylinders\": 6, \"Displacement\": 250.0, \"Horsepower\": 100.0, \"Miles_per_Gallon\": 16.0, \"Name\": \"chevrolet chevelle malibu classic\", \"Origin\": \"USA\", \"Weight_in_lbs\": 3781, \"Year\": \"1974-01-01T00:00:00\"}, {\"Acceleration\": 18.0, \"Cylinders\": 6, \"Displacement\": 258.0, \"Horsepower\": 110.0, \"Miles_per_Gallon\": 16.0, \"Name\": \"amc matador\", \"Origin\": \"USA\", \"Weight_in_lbs\": 3632, \"Year\": \"1974-01-01T00:00:00\"}, {\"Acceleration\": 16.5, \"Cylinders\": 6, \"Displacement\": 225.0, \"Horsepower\": 105.0, \"Miles_per_Gallon\": 18.0, \"Name\": \"plymouth satellite sebring\", \"Origin\": \"USA\", \"Weight_in_lbs\": 3613, \"Year\": \"1974-01-01T00:00:00\"}, {\"Acceleration\": 14.0, \"Cylinders\": 8, \"Displacement\": 302.0, \"Horsepower\": 140.0, \"Miles_per_Gallon\": 16.0, \"Name\": \"ford gran torino\", \"Origin\": \"USA\", \"Weight_in_lbs\": 4141, \"Year\": \"1974-01-01T00:00:00\"}, {\"Acceleration\": 14.5, \"Cylinders\": 8, \"Displacement\": 350.0, \"Horsepower\": 150.0, \"Miles_per_Gallon\": 13.0, \"Name\": \"buick century luxus (sw)\", \"Origin\": \"USA\", \"Weight_in_lbs\": 4699, \"Year\": \"1974-01-01T00:00:00\"}, {\"Acceleration\": 13.5, \"Cylinders\": 8, \"Displacement\": 318.0, \"Horsepower\": 150.0, \"Miles_per_Gallon\": 14.0, \"Name\": \"dodge coronet custom (sw)\", \"Origin\": \"USA\", \"Weight_in_lbs\": 4457, \"Year\": \"1974-01-01T00:00:00\"}, {\"Acceleration\": 16.0, \"Cylinders\": 8, \"Displacement\": 302.0, \"Horsepower\": 140.0, \"Miles_per_Gallon\": 14.0, \"Name\": \"ford gran torino (sw)\", \"Origin\": \"USA\", \"Weight_in_lbs\": 4638, \"Year\": \"1974-01-01T00:00:00\"}, {\"Acceleration\": 15.5, \"Cylinders\": 8, \"Displacement\": 304.0, \"Horsepower\": 150.0, \"Miles_per_Gallon\": 14.0, \"Name\": \"amc matador (sw)\", \"Origin\": \"USA\", \"Weight_in_lbs\": 4257, \"Year\": \"1974-01-01T00:00:00\"}, {\"Acceleration\": 16.5, \"Cylinders\": 4, \"Displacement\": 98.0, \"Horsepower\": 83.0, \"Miles_per_Gallon\": 29.0, \"Name\": \"audi fox\", \"Origin\": \"Europe\", \"Weight_in_lbs\": 2219, \"Year\": \"1974-01-01T00:00:00\"}, {\"Acceleration\": 15.5, \"Cylinders\": 4, \"Displacement\": 79.0, \"Horsepower\": 67.0, \"Miles_per_Gallon\": 26.0, \"Name\": \"volkswagen dasher\", \"Origin\": \"Europe\", \"Weight_in_lbs\": 1963, \"Year\": \"1974-01-01T00:00:00\"}, {\"Acceleration\": 14.5, \"Cylinders\": 4, \"Displacement\": 97.0, \"Horsepower\": 78.0, \"Miles_per_Gallon\": 26.0, \"Name\": \"opel manta\", \"Origin\": \"Europe\", \"Weight_in_lbs\": 2300, \"Year\": \"1974-01-01T00:00:00\"}, {\"Acceleration\": 16.5, \"Cylinders\": 4, \"Displacement\": 76.0, \"Horsepower\": 52.0, \"Miles_per_Gallon\": 31.0, \"Name\": \"toyota corona\", \"Origin\": \"Japan\", \"Weight_in_lbs\": 1649, \"Year\": \"1974-01-01T00:00:00\"}, {\"Acceleration\": 19.0, \"Cylinders\": 4, \"Displacement\": 83.0, \"Horsepower\": 61.0, \"Miles_per_Gallon\": 32.0, \"Name\": \"datsun 710\", \"Origin\": \"Japan\", \"Weight_in_lbs\": 2003, \"Year\": \"1974-01-01T00:00:00\"}, {\"Acceleration\": 14.5, \"Cylinders\": 4, \"Displacement\": 90.0, \"Horsepower\": 75.0, \"Miles_per_Gallon\": 28.0, \"Name\": \"dodge colt\", \"Origin\": \"USA\", \"Weight_in_lbs\": 2125, \"Year\": \"1974-01-01T00:00:00\"}, {\"Acceleration\": 15.5, \"Cylinders\": 4, \"Displacement\": 90.0, \"Horsepower\": 75.0, \"Miles_per_Gallon\": 24.0, \"Name\": \"fiat 128\", \"Origin\": \"Europe\", \"Weight_in_lbs\": 2108, \"Year\": \"1974-01-01T00:00:00\"}, {\"Acceleration\": 14.0, \"Cylinders\": 4, \"Displacement\": 116.0, \"Horsepower\": 75.0, \"Miles_per_Gallon\": 26.0, \"Name\": \"fiat 124 tc\", \"Origin\": \"Europe\", \"Weight_in_lbs\": 2246, \"Year\": \"1974-01-01T00:00:00\"}, {\"Acceleration\": 15.0, \"Cylinders\": 4, \"Displacement\": 120.0, \"Horsepower\": 97.0, \"Miles_per_Gallon\": 24.0, \"Name\": \"honda civic\", \"Origin\": \"Japan\", \"Weight_in_lbs\": 2489, \"Year\": \"1974-01-01T00:00:00\"}, {\"Acceleration\": 15.5, \"Cylinders\": 4, \"Displacement\": 108.0, \"Horsepower\": 93.0, \"Miles_per_Gallon\": 26.0, \"Name\": \"subaru\", \"Origin\": \"Japan\", \"Weight_in_lbs\": 2391, \"Year\": \"1974-01-01T00:00:00\"}, {\"Acceleration\": 16.0, \"Cylinders\": 4, \"Displacement\": 79.0, \"Horsepower\": 67.0, \"Miles_per_Gallon\": 31.0, \"Name\": \"fiat x1.9\", \"Origin\": \"Europe\", \"Weight_in_lbs\": 2000, \"Year\": \"1974-01-01T00:00:00\"}, {\"Acceleration\": 16.0, \"Cylinders\": 6, \"Displacement\": 225.0, \"Horsepower\": 95.0, \"Miles_per_Gallon\": 19.0, \"Name\": \"plymouth valiant custom\", \"Origin\": \"USA\", \"Weight_in_lbs\": 3264, \"Year\": \"1975-01-01T00:00:00\"}, {\"Acceleration\": 16.0, \"Cylinders\": 6, \"Displacement\": 250.0, \"Horsepower\": 105.0, \"Miles_per_Gallon\": 18.0, \"Name\": \"chevrolet nova\", \"Origin\": \"USA\", \"Weight_in_lbs\": 3459, \"Year\": \"1975-01-01T00:00:00\"}, {\"Acceleration\": 21.0, \"Cylinders\": 6, \"Displacement\": 250.0, \"Horsepower\": 72.0, \"Miles_per_Gallon\": 15.0, \"Name\": \"mercury monarch\", \"Origin\": \"USA\", \"Weight_in_lbs\": 3432, \"Year\": \"1975-01-01T00:00:00\"}, {\"Acceleration\": 19.5, \"Cylinders\": 6, \"Displacement\": 250.0, \"Horsepower\": 72.0, \"Miles_per_Gallon\": 15.0, \"Name\": \"ford maverick\", \"Origin\": \"USA\", \"Weight_in_lbs\": 3158, \"Year\": \"1975-01-01T00:00:00\"}, {\"Acceleration\": 11.5, \"Cylinders\": 8, \"Displacement\": 400.0, \"Horsepower\": 170.0, \"Miles_per_Gallon\": 16.0, \"Name\": \"pontiac catalina\", \"Origin\": \"USA\", \"Weight_in_lbs\": 4668, \"Year\": \"1975-01-01T00:00:00\"}, {\"Acceleration\": 14.0, \"Cylinders\": 8, \"Displacement\": 350.0, \"Horsepower\": 145.0, \"Miles_per_Gallon\": 15.0, \"Name\": \"chevrolet bel air\", \"Origin\": \"USA\", \"Weight_in_lbs\": 4440, \"Year\": \"1975-01-01T00:00:00\"}, {\"Acceleration\": 14.5, \"Cylinders\": 8, \"Displacement\": 318.0, \"Horsepower\": 150.0, \"Miles_per_Gallon\": 16.0, \"Name\": \"plymouth grand fury\", \"Origin\": \"USA\", \"Weight_in_lbs\": 4498, \"Year\": \"1975-01-01T00:00:00\"}, {\"Acceleration\": 13.5, \"Cylinders\": 8, \"Displacement\": 351.0, \"Horsepower\": 148.0, \"Miles_per_Gallon\": 14.0, \"Name\": \"ford ltd\", \"Origin\": \"USA\", \"Weight_in_lbs\": 4657, \"Year\": \"1975-01-01T00:00:00\"}, {\"Acceleration\": 21.0, \"Cylinders\": 6, \"Displacement\": 231.0, \"Horsepower\": 110.0, \"Miles_per_Gallon\": 17.0, \"Name\": \"buick century\", \"Origin\": \"USA\", \"Weight_in_lbs\": 3907, \"Year\": \"1975-01-01T00:00:00\"}, {\"Acceleration\": 18.5, \"Cylinders\": 6, \"Displacement\": 250.0, \"Horsepower\": 105.0, \"Miles_per_Gallon\": 16.0, \"Name\": \"chevroelt chevelle malibu\", \"Origin\": \"USA\", \"Weight_in_lbs\": 3897, \"Year\": \"1975-01-01T00:00:00\"}, {\"Acceleration\": 19.0, \"Cylinders\": 6, \"Displacement\": 258.0, \"Horsepower\": 110.0, \"Miles_per_Gallon\": 15.0, \"Name\": \"amc matador\", \"Origin\": \"USA\", \"Weight_in_lbs\": 3730, \"Year\": \"1975-01-01T00:00:00\"}, {\"Acceleration\": 19.0, \"Cylinders\": 6, \"Displacement\": 225.0, \"Horsepower\": 95.0, \"Miles_per_Gallon\": 18.0, \"Name\": \"plymouth fury\", \"Origin\": \"USA\", \"Weight_in_lbs\": 3785, \"Year\": \"1975-01-01T00:00:00\"}, {\"Acceleration\": 15.0, \"Cylinders\": 6, \"Displacement\": 231.0, \"Horsepower\": 110.0, \"Miles_per_Gallon\": 21.0, \"Name\": \"buick skyhawk\", \"Origin\": \"USA\", \"Weight_in_lbs\": 3039, \"Year\": \"1975-01-01T00:00:00\"}, {\"Acceleration\": 13.5, \"Cylinders\": 8, \"Displacement\": 262.0, \"Horsepower\": 110.0, \"Miles_per_Gallon\": 20.0, \"Name\": \"chevrolet monza 2+2\", \"Origin\": \"USA\", \"Weight_in_lbs\": 3221, \"Year\": \"1975-01-01T00:00:00\"}, {\"Acceleration\": 12.0, \"Cylinders\": 8, \"Displacement\": 302.0, \"Horsepower\": 129.0, \"Miles_per_Gallon\": 13.0, \"Name\": \"ford mustang ii\", \"Origin\": \"USA\", \"Weight_in_lbs\": 3169, \"Year\": \"1975-01-01T00:00:00\"}, {\"Acceleration\": 16.0, \"Cylinders\": 4, \"Displacement\": 97.0, \"Horsepower\": 75.0, \"Miles_per_Gallon\": 29.0, \"Name\": \"toyota corolla\", \"Origin\": \"Japan\", \"Weight_in_lbs\": 2171, \"Year\": \"1975-01-01T00:00:00\"}, {\"Acceleration\": 17.0, \"Cylinders\": 4, \"Displacement\": 140.0, \"Horsepower\": 83.0, \"Miles_per_Gallon\": 23.0, \"Name\": \"ford pinto\", \"Origin\": \"USA\", \"Weight_in_lbs\": 2639, \"Year\": \"1975-01-01T00:00:00\"}, {\"Acceleration\": 16.0, \"Cylinders\": 6, \"Displacement\": 232.0, \"Horsepower\": 100.0, \"Miles_per_Gallon\": 20.0, \"Name\": \"amc gremlin\", \"Origin\": \"USA\", \"Weight_in_lbs\": 2914, \"Year\": \"1975-01-01T00:00:00\"}, {\"Acceleration\": 18.5, \"Cylinders\": 4, \"Displacement\": 140.0, \"Horsepower\": 78.0, \"Miles_per_Gallon\": 23.0, \"Name\": \"pontiac astro\", \"Origin\": \"USA\", \"Weight_in_lbs\": 2592, \"Year\": \"1975-01-01T00:00:00\"}, {\"Acceleration\": 13.5, \"Cylinders\": 4, \"Displacement\": 134.0, \"Horsepower\": 96.0, \"Miles_per_Gallon\": 24.0, \"Name\": \"toyota corona\", \"Origin\": \"Japan\", \"Weight_in_lbs\": 2702, \"Year\": \"1975-01-01T00:00:00\"}, {\"Acceleration\": 16.5, \"Cylinders\": 4, \"Displacement\": 90.0, \"Horsepower\": 71.0, \"Miles_per_Gallon\": 25.0, \"Name\": \"volkswagen dasher\", \"Origin\": \"Europe\", \"Weight_in_lbs\": 2223, \"Year\": \"1975-01-01T00:00:00\"}, {\"Acceleration\": 17.0, \"Cylinders\": 4, \"Displacement\": 119.0, \"Horsepower\": 97.0, \"Miles_per_Gallon\": 24.0, \"Name\": \"datsun 710\", \"Origin\": \"Japan\", \"Weight_in_lbs\": 2545, \"Year\": \"1975-01-01T00:00:00\"}, {\"Acceleration\": 14.5, \"Cylinders\": 6, \"Displacement\": 171.0, \"Horsepower\": 97.0, \"Miles_per_Gallon\": 18.0, \"Name\": \"ford pinto\", \"Origin\": \"USA\", \"Weight_in_lbs\": 2984, \"Year\": \"1975-01-01T00:00:00\"}, {\"Acceleration\": 14.0, \"Cylinders\": 4, \"Displacement\": 90.0, \"Horsepower\": 70.0, \"Miles_per_Gallon\": 29.0, \"Name\": \"volkswagen rabbit\", \"Origin\": \"Europe\", \"Weight_in_lbs\": 1937, \"Year\": \"1975-01-01T00:00:00\"}, {\"Acceleration\": 17.0, \"Cylinders\": 6, \"Displacement\": 232.0, \"Horsepower\": 90.0, \"Miles_per_Gallon\": 19.0, \"Name\": \"amc pacer\", \"Origin\": \"USA\", \"Weight_in_lbs\": 3211, \"Year\": \"1975-01-01T00:00:00\"}, {\"Acceleration\": 15.0, \"Cylinders\": 4, \"Displacement\": 115.0, \"Horsepower\": 95.0, \"Miles_per_Gallon\": 23.0, \"Name\": \"audi 100ls\", \"Origin\": \"Europe\", \"Weight_in_lbs\": 2694, \"Year\": \"1975-01-01T00:00:00\"}, {\"Acceleration\": 17.0, \"Cylinders\": 4, \"Displacement\": 120.0, \"Horsepower\": 88.0, \"Miles_per_Gallon\": 23.0, \"Name\": \"peugeot 504\", \"Origin\": \"Europe\", \"Weight_in_lbs\": 2957, \"Year\": \"1975-01-01T00:00:00\"}, {\"Acceleration\": 14.5, \"Cylinders\": 4, \"Displacement\": 121.0, \"Horsepower\": 98.0, \"Miles_per_Gallon\": 22.0, \"Name\": \"volvo 244dl\", \"Origin\": \"Europe\", \"Weight_in_lbs\": 2945, \"Year\": \"1975-01-01T00:00:00\"}, {\"Acceleration\": 13.5, \"Cylinders\": 4, \"Displacement\": 121.0, \"Horsepower\": 115.0, \"Miles_per_Gallon\": 25.0, \"Name\": \"saab 99le\", \"Origin\": \"Europe\", \"Weight_in_lbs\": 2671, \"Year\": \"1975-01-01T00:00:00\"}, {\"Acceleration\": 17.5, \"Cylinders\": 4, \"Displacement\": 91.0, \"Horsepower\": 53.0, \"Miles_per_Gallon\": 33.0, \"Name\": \"honda civic cvcc\", \"Origin\": \"Japan\", \"Weight_in_lbs\": 1795, \"Year\": \"1975-01-01T00:00:00\"}, {\"Acceleration\": 15.5, \"Cylinders\": 4, \"Displacement\": 107.0, \"Horsepower\": 86.0, \"Miles_per_Gallon\": 28.0, \"Name\": \"fiat 131\", \"Origin\": \"Europe\", \"Weight_in_lbs\": 2464, \"Year\": \"1976-01-01T00:00:00\"}, {\"Acceleration\": 16.9, \"Cylinders\": 4, \"Displacement\": 116.0, \"Horsepower\": 81.0, \"Miles_per_Gallon\": 25.0, \"Name\": \"opel 1900\", \"Origin\": \"Europe\", \"Weight_in_lbs\": 2220, \"Year\": \"1976-01-01T00:00:00\"}, {\"Acceleration\": 14.9, \"Cylinders\": 4, \"Displacement\": 140.0, \"Horsepower\": 92.0, \"Miles_per_Gallon\": 25.0, \"Name\": \"capri ii\", \"Origin\": \"USA\", \"Weight_in_lbs\": 2572, \"Year\": \"1976-01-01T00:00:00\"}, {\"Acceleration\": 17.7, \"Cylinders\": 4, \"Displacement\": 98.0, \"Horsepower\": 79.0, \"Miles_per_Gallon\": 26.0, \"Name\": \"dodge colt\", \"Origin\": \"USA\", \"Weight_in_lbs\": 2255, \"Year\": \"1976-01-01T00:00:00\"}, {\"Acceleration\": 15.3, \"Cylinders\": 4, \"Displacement\": 101.0, \"Horsepower\": 83.0, \"Miles_per_Gallon\": 27.0, \"Name\": \"renault 12tl\", \"Origin\": \"Europe\", \"Weight_in_lbs\": 2202, \"Year\": \"1976-01-01T00:00:00\"}, {\"Acceleration\": 13.0, \"Cylinders\": 8, \"Displacement\": 305.0, \"Horsepower\": 140.0, \"Miles_per_Gallon\": 17.5, \"Name\": \"chevrolet chevelle malibu classic\", \"Origin\": \"USA\", \"Weight_in_lbs\": 4215, \"Year\": \"1976-01-01T00:00:00\"}, {\"Acceleration\": 13.0, \"Cylinders\": 8, \"Displacement\": 318.0, \"Horsepower\": 150.0, \"Miles_per_Gallon\": 16.0, \"Name\": \"dodge coronet brougham\", \"Origin\": \"USA\", \"Weight_in_lbs\": 4190, \"Year\": \"1976-01-01T00:00:00\"}, {\"Acceleration\": 13.9, \"Cylinders\": 8, \"Displacement\": 304.0, \"Horsepower\": 120.0, \"Miles_per_Gallon\": 15.5, \"Name\": \"amc matador\", \"Origin\": \"USA\", \"Weight_in_lbs\": 3962, \"Year\": \"1976-01-01T00:00:00\"}, {\"Acceleration\": 12.8, \"Cylinders\": 8, \"Displacement\": 351.0, \"Horsepower\": 152.0, \"Miles_per_Gallon\": 14.5, \"Name\": \"ford gran torino\", \"Origin\": \"USA\", \"Weight_in_lbs\": 4215, \"Year\": \"1976-01-01T00:00:00\"}, {\"Acceleration\": 15.4, \"Cylinders\": 6, \"Displacement\": 225.0, \"Horsepower\": 100.0, \"Miles_per_Gallon\": 22.0, \"Name\": \"plymouth valiant\", \"Origin\": \"USA\", \"Weight_in_lbs\": 3233, \"Year\": \"1976-01-01T00:00:00\"}, {\"Acceleration\": 14.5, \"Cylinders\": 6, \"Displacement\": 250.0, \"Horsepower\": 105.0, \"Miles_per_Gallon\": 22.0, \"Name\": \"chevrolet nova\", \"Origin\": \"USA\", \"Weight_in_lbs\": 3353, \"Year\": \"1976-01-01T00:00:00\"}, {\"Acceleration\": 17.6, \"Cylinders\": 6, \"Displacement\": 200.0, \"Horsepower\": 81.0, \"Miles_per_Gallon\": 24.0, \"Name\": \"ford maverick\", \"Origin\": \"USA\", \"Weight_in_lbs\": 3012, \"Year\": \"1976-01-01T00:00:00\"}, {\"Acceleration\": 17.6, \"Cylinders\": 6, \"Displacement\": 232.0, \"Horsepower\": 90.0, \"Miles_per_Gallon\": 22.5, \"Name\": \"amc hornet\", \"Origin\": \"USA\", \"Weight_in_lbs\": 3085, \"Year\": \"1976-01-01T00:00:00\"}, {\"Acceleration\": 22.2, \"Cylinders\": 4, \"Displacement\": 85.0, \"Horsepower\": 52.0, \"Miles_per_Gallon\": 29.0, \"Name\": \"chevrolet chevette\", \"Origin\": \"USA\", \"Weight_in_lbs\": 2035, \"Year\": \"1976-01-01T00:00:00\"}, {\"Acceleration\": 22.1, \"Cylinders\": 4, \"Displacement\": 98.0, \"Horsepower\": 60.0, \"Miles_per_Gallon\": 24.5, \"Name\": \"chevrolet woody\", \"Origin\": \"USA\", \"Weight_in_lbs\": 2164, \"Year\": \"1976-01-01T00:00:00\"}, {\"Acceleration\": 14.2, \"Cylinders\": 4, \"Displacement\": 90.0, \"Horsepower\": 70.0, \"Miles_per_Gallon\": 29.0, \"Name\": \"vw rabbit\", \"Origin\": \"Europe\", \"Weight_in_lbs\": 1937, \"Year\": \"1976-01-01T00:00:00\"}, {\"Acceleration\": 17.4, \"Cylinders\": 4, \"Displacement\": 91.0, \"Horsepower\": 53.0, \"Miles_per_Gallon\": 33.0, \"Name\": \"honda civic\", \"Origin\": \"Japan\", \"Weight_in_lbs\": 1795, \"Year\": \"1976-01-01T00:00:00\"}, {\"Acceleration\": 17.7, \"Cylinders\": 6, \"Displacement\": 225.0, \"Horsepower\": 100.0, \"Miles_per_Gallon\": 20.0, \"Name\": \"dodge aspen se\", \"Origin\": \"USA\", \"Weight_in_lbs\": 3651, \"Year\": \"1976-01-01T00:00:00\"}, {\"Acceleration\": 21.0, \"Cylinders\": 6, \"Displacement\": 250.0, \"Horsepower\": 78.0, \"Miles_per_Gallon\": 18.0, \"Name\": \"ford granada ghia\", \"Origin\": \"USA\", \"Weight_in_lbs\": 3574, \"Year\": \"1976-01-01T00:00:00\"}, {\"Acceleration\": 16.2, \"Cylinders\": 6, \"Displacement\": 250.0, \"Horsepower\": 110.0, \"Miles_per_Gallon\": 18.5, \"Name\": \"pontiac ventura sj\", \"Origin\": \"USA\", \"Weight_in_lbs\": 3645, \"Year\": \"1976-01-01T00:00:00\"}, {\"Acceleration\": 17.8, \"Cylinders\": 6, \"Displacement\": 258.0, \"Horsepower\": 95.0, \"Miles_per_Gallon\": 17.5, \"Name\": \"amc pacer d/l\", \"Origin\": \"USA\", \"Weight_in_lbs\": 3193, \"Year\": \"1976-01-01T00:00:00\"}, {\"Acceleration\": 12.2, \"Cylinders\": 4, \"Displacement\": 97.0, \"Horsepower\": 71.0, \"Miles_per_Gallon\": 29.5, \"Name\": \"volkswagen rabbit\", \"Origin\": \"Europe\", \"Weight_in_lbs\": 1825, \"Year\": \"1976-01-01T00:00:00\"}, {\"Acceleration\": 17.0, \"Cylinders\": 4, \"Displacement\": 85.0, \"Horsepower\": 70.0, \"Miles_per_Gallon\": 32.0, \"Name\": \"datsun b-210\", \"Origin\": \"Japan\", \"Weight_in_lbs\": 1990, \"Year\": \"1976-01-01T00:00:00\"}, {\"Acceleration\": 16.4, \"Cylinders\": 4, \"Displacement\": 97.0, \"Horsepower\": 75.0, \"Miles_per_Gallon\": 28.0, \"Name\": \"toyota corolla\", \"Origin\": \"Japan\", \"Weight_in_lbs\": 2155, \"Year\": \"1976-01-01T00:00:00\"}, {\"Acceleration\": 13.6, \"Cylinders\": 4, \"Displacement\": 140.0, \"Horsepower\": 72.0, \"Miles_per_Gallon\": 26.5, \"Name\": \"ford pinto\", \"Origin\": \"USA\", \"Weight_in_lbs\": 2565, \"Year\": \"1976-01-01T00:00:00\"}, {\"Acceleration\": 15.7, \"Cylinders\": 4, \"Displacement\": 130.0, \"Horsepower\": 102.0, \"Miles_per_Gallon\": 20.0, \"Name\": \"volvo 245\", \"Origin\": \"Europe\", \"Weight_in_lbs\": 3150, \"Year\": \"1976-01-01T00:00:00\"}, {\"Acceleration\": 13.2, \"Cylinders\": 8, \"Displacement\": 318.0, \"Horsepower\": 150.0, \"Miles_per_Gallon\": 13.0, \"Name\": \"plymouth volare premier v8\", \"Origin\": \"USA\", \"Weight_in_lbs\": 3940, \"Year\": \"1976-01-01T00:00:00\"}, {\"Acceleration\": 21.9, \"Cylinders\": 4, \"Displacement\": 120.0, \"Horsepower\": 88.0, \"Miles_per_Gallon\": 19.0, \"Name\": \"peugeot 504\", \"Origin\": \"Europe\", \"Weight_in_lbs\": 3270, \"Year\": \"1976-01-01T00:00:00\"}, {\"Acceleration\": 15.5, \"Cylinders\": 6, \"Displacement\": 156.0, \"Horsepower\": 108.0, \"Miles_per_Gallon\": 19.0, \"Name\": \"toyota mark ii\", \"Origin\": \"Japan\", \"Weight_in_lbs\": 2930, \"Year\": \"1976-01-01T00:00:00\"}, {\"Acceleration\": 16.7, \"Cylinders\": 6, \"Displacement\": 168.0, \"Horsepower\": 120.0, \"Miles_per_Gallon\": 16.5, \"Name\": \"mercedes-benz 280s\", \"Origin\": \"Europe\", \"Weight_in_lbs\": 3820, \"Year\": \"1976-01-01T00:00:00\"}, {\"Acceleration\": 12.1, \"Cylinders\": 8, \"Displacement\": 350.0, \"Horsepower\": 180.0, \"Miles_per_Gallon\": 16.5, \"Name\": \"cadillac seville\", \"Origin\": \"USA\", \"Weight_in_lbs\": 4380, \"Year\": \"1976-01-01T00:00:00\"}, {\"Acceleration\": 12.0, \"Cylinders\": 8, \"Displacement\": 350.0, \"Horsepower\": 145.0, \"Miles_per_Gallon\": 13.0, \"Name\": \"chevy c10\", \"Origin\": \"USA\", \"Weight_in_lbs\": 4055, \"Year\": \"1976-01-01T00:00:00\"}, {\"Acceleration\": 15.0, \"Cylinders\": 8, \"Displacement\": 302.0, \"Horsepower\": 130.0, \"Miles_per_Gallon\": 13.0, \"Name\": \"ford f108\", \"Origin\": \"USA\", \"Weight_in_lbs\": 3870, \"Year\": \"1976-01-01T00:00:00\"}, {\"Acceleration\": 14.0, \"Cylinders\": 8, \"Displacement\": 318.0, \"Horsepower\": 150.0, \"Miles_per_Gallon\": 13.0, \"Name\": \"dodge d100\", \"Origin\": \"USA\", \"Weight_in_lbs\": 3755, \"Year\": \"1976-01-01T00:00:00\"}, {\"Acceleration\": 18.5, \"Cylinders\": 4, \"Displacement\": 98.0, \"Horsepower\": 68.0, \"Miles_per_Gallon\": 31.5, \"Name\": \"honda Accelerationord cvcc\", \"Origin\": \"Japan\", \"Weight_in_lbs\": 2045, \"Year\": \"1977-01-01T00:00:00\"}, {\"Acceleration\": 14.8, \"Cylinders\": 4, \"Displacement\": 111.0, \"Horsepower\": 80.0, \"Miles_per_Gallon\": 30.0, \"Name\": \"buick opel isuzu deluxe\", \"Origin\": \"USA\", \"Weight_in_lbs\": 2155, \"Year\": \"1977-01-01T00:00:00\"}, {\"Acceleration\": 18.6, \"Cylinders\": 4, \"Displacement\": 79.0, \"Horsepower\": 58.0, \"Miles_per_Gallon\": 36.0, \"Name\": \"renault 5 gtl\", \"Origin\": \"Europe\", \"Weight_in_lbs\": 1825, \"Year\": \"1977-01-01T00:00:00\"}, {\"Acceleration\": 15.5, \"Cylinders\": 4, \"Displacement\": 122.0, \"Horsepower\": 96.0, \"Miles_per_Gallon\": 25.5, \"Name\": \"plymouth arrow gs\", \"Origin\": \"USA\", \"Weight_in_lbs\": 2300, \"Year\": \"1977-01-01T00:00:00\"}, {\"Acceleration\": 16.8, \"Cylinders\": 4, \"Displacement\": 85.0, \"Horsepower\": 70.0, \"Miles_per_Gallon\": 33.5, \"Name\": \"datsun f-10 hatchback\", \"Origin\": \"Japan\", \"Weight_in_lbs\": 1945, \"Year\": \"1977-01-01T00:00:00\"}, {\"Acceleration\": 12.5, \"Cylinders\": 8, \"Displacement\": 305.0, \"Horsepower\": 145.0, \"Miles_per_Gallon\": 17.5, \"Name\": \"chevrolet caprice classic\", \"Origin\": \"USA\", \"Weight_in_lbs\": 3880, \"Year\": \"1977-01-01T00:00:00\"}, {\"Acceleration\": 19.0, \"Cylinders\": 8, \"Displacement\": 260.0, \"Horsepower\": 110.0, \"Miles_per_Gallon\": 17.0, \"Name\": \"oldsmobile cutlass supreme\", \"Origin\": \"USA\", \"Weight_in_lbs\": 4060, \"Year\": \"1977-01-01T00:00:00\"}, {\"Acceleration\": 13.7, \"Cylinders\": 8, \"Displacement\": 318.0, \"Horsepower\": 145.0, \"Miles_per_Gallon\": 15.5, \"Name\": \"dodge monaco brougham\", \"Origin\": \"USA\", \"Weight_in_lbs\": 4140, \"Year\": \"1977-01-01T00:00:00\"}, {\"Acceleration\": 14.9, \"Cylinders\": 8, \"Displacement\": 302.0, \"Horsepower\": 130.0, \"Miles_per_Gallon\": 15.0, \"Name\": \"mercury cougar brougham\", \"Origin\": \"USA\", \"Weight_in_lbs\": 4295, \"Year\": \"1977-01-01T00:00:00\"}, {\"Acceleration\": 16.4, \"Cylinders\": 6, \"Displacement\": 250.0, \"Horsepower\": 110.0, \"Miles_per_Gallon\": 17.5, \"Name\": \"chevrolet concours\", \"Origin\": \"USA\", \"Weight_in_lbs\": 3520, \"Year\": \"1977-01-01T00:00:00\"}, {\"Acceleration\": 16.9, \"Cylinders\": 6, \"Displacement\": 231.0, \"Horsepower\": 105.0, \"Miles_per_Gallon\": 20.5, \"Name\": \"buick skylark\", \"Origin\": \"USA\", \"Weight_in_lbs\": 3425, \"Year\": \"1977-01-01T00:00:00\"}, {\"Acceleration\": 17.7, \"Cylinders\": 6, \"Displacement\": 225.0, \"Horsepower\": 100.0, \"Miles_per_Gallon\": 19.0, \"Name\": \"plymouth volare custom\", \"Origin\": \"USA\", \"Weight_in_lbs\": 3630, \"Year\": \"1977-01-01T00:00:00\"}, {\"Acceleration\": 19.0, \"Cylinders\": 6, \"Displacement\": 250.0, \"Horsepower\": 98.0, \"Miles_per_Gallon\": 18.5, \"Name\": \"ford granada\", \"Origin\": \"USA\", \"Weight_in_lbs\": 3525, \"Year\": \"1977-01-01T00:00:00\"}, {\"Acceleration\": 11.1, \"Cylinders\": 8, \"Displacement\": 400.0, \"Horsepower\": 180.0, \"Miles_per_Gallon\": 16.0, \"Name\": \"pontiac grand prix lj\", \"Origin\": \"USA\", \"Weight_in_lbs\": 4220, \"Year\": \"1977-01-01T00:00:00\"}, {\"Acceleration\": 11.4, \"Cylinders\": 8, \"Displacement\": 350.0, \"Horsepower\": 170.0, \"Miles_per_Gallon\": 15.5, \"Name\": \"chevrolet monte carlo landau\", \"Origin\": \"USA\", \"Weight_in_lbs\": 4165, \"Year\": \"1977-01-01T00:00:00\"}, {\"Acceleration\": 12.2, \"Cylinders\": 8, \"Displacement\": 400.0, \"Horsepower\": 190.0, \"Miles_per_Gallon\": 15.5, \"Name\": \"chrysler cordoba\", \"Origin\": \"USA\", \"Weight_in_lbs\": 4325, \"Year\": \"1977-01-01T00:00:00\"}, {\"Acceleration\": 14.5, \"Cylinders\": 8, \"Displacement\": 351.0, \"Horsepower\": 149.0, \"Miles_per_Gallon\": 16.0, \"Name\": \"ford thunderbird\", \"Origin\": \"USA\", \"Weight_in_lbs\": 4335, \"Year\": \"1977-01-01T00:00:00\"}, {\"Acceleration\": 14.5, \"Cylinders\": 4, \"Displacement\": 97.0, \"Horsepower\": 78.0, \"Miles_per_Gallon\": 29.0, \"Name\": \"volkswagen rabbit custom\", \"Origin\": \"Europe\", \"Weight_in_lbs\": 1940, \"Year\": \"1977-01-01T00:00:00\"}, {\"Acceleration\": 16.0, \"Cylinders\": 4, \"Displacement\": 151.0, \"Horsepower\": 88.0, \"Miles_per_Gallon\": 24.5, \"Name\": \"pontiac sunbird coupe\", \"Origin\": \"USA\", \"Weight_in_lbs\": 2740, \"Year\": \"1977-01-01T00:00:00\"}, {\"Acceleration\": 18.2, \"Cylinders\": 4, \"Displacement\": 97.0, \"Horsepower\": 75.0, \"Miles_per_Gallon\": 26.0, \"Name\": \"toyota corolla liftback\", \"Origin\": \"Japan\", \"Weight_in_lbs\": 2265, \"Year\": \"1977-01-01T00:00:00\"}, {\"Acceleration\": 15.8, \"Cylinders\": 4, \"Displacement\": 140.0, \"Horsepower\": 89.0, \"Miles_per_Gallon\": 25.5, \"Name\": \"ford mustang ii 2+2\", \"Origin\": \"USA\", \"Weight_in_lbs\": 2755, \"Year\": \"1977-01-01T00:00:00\"}, {\"Acceleration\": 17.0, \"Cylinders\": 4, \"Displacement\": 98.0, \"Horsepower\": 63.0, \"Miles_per_Gallon\": 30.5, \"Name\": \"chevrolet chevette\", \"Origin\": \"USA\", \"Weight_in_lbs\": 2051, \"Year\": \"1977-01-01T00:00:00\"}, {\"Acceleration\": 15.9, \"Cylinders\": 4, \"Displacement\": 98.0, \"Horsepower\": 83.0, \"Miles_per_Gallon\": 33.5, \"Name\": \"dodge colt m/m\", \"Origin\": \"USA\", \"Weight_in_lbs\": 2075, \"Year\": \"1977-01-01T00:00:00\"}, {\"Acceleration\": 16.4, \"Cylinders\": 4, \"Displacement\": 97.0, \"Horsepower\": 67.0, \"Miles_per_Gallon\": 30.0, \"Name\": \"subaru dl\", \"Origin\": \"Japan\", \"Weight_in_lbs\": 1985, \"Year\": \"1977-01-01T00:00:00\"}, {\"Acceleration\": 14.1, \"Cylinders\": 4, \"Displacement\": 97.0, \"Horsepower\": 78.0, \"Miles_per_Gallon\": 30.5, \"Name\": \"volkswagen dasher\", \"Origin\": \"Europe\", \"Weight_in_lbs\": 2190, \"Year\": \"1977-01-01T00:00:00\"}, {\"Acceleration\": 14.5, \"Cylinders\": 6, \"Displacement\": 146.0, \"Horsepower\": 97.0, \"Miles_per_Gallon\": 22.0, \"Name\": \"datsun 810\", \"Origin\": \"Japan\", \"Weight_in_lbs\": 2815, \"Year\": \"1977-01-01T00:00:00\"}, {\"Acceleration\": 12.8, \"Cylinders\": 4, \"Displacement\": 121.0, \"Horsepower\": 110.0, \"Miles_per_Gallon\": 21.5, \"Name\": \"bmw 320i\", \"Origin\": \"Europe\", \"Weight_in_lbs\": 2600, \"Year\": \"1977-01-01T00:00:00\"}, {\"Acceleration\": 13.5, \"Cylinders\": 3, \"Displacement\": 80.0, \"Horsepower\": 110.0, \"Miles_per_Gallon\": 21.5, \"Name\": \"mazda rx-4\", \"Origin\": \"Japan\", \"Weight_in_lbs\": 2720, \"Year\": \"1977-01-01T00:00:00\"}, {\"Acceleration\": 21.5, \"Cylinders\": 4, \"Displacement\": 90.0, \"Horsepower\": 48.0, \"Miles_per_Gallon\": 43.1, \"Name\": \"volkswagen rabbit custom diesel\", \"Origin\": \"Europe\", \"Weight_in_lbs\": 1985, \"Year\": \"1978-01-01T00:00:00\"}, {\"Acceleration\": 14.4, \"Cylinders\": 4, \"Displacement\": 98.0, \"Horsepower\": 66.0, \"Miles_per_Gallon\": 36.1, \"Name\": \"ford fiesta\", \"Origin\": \"USA\", \"Weight_in_lbs\": 1800, \"Year\": \"1978-01-01T00:00:00\"}, {\"Acceleration\": 19.4, \"Cylinders\": 4, \"Displacement\": 78.0, \"Horsepower\": 52.0, \"Miles_per_Gallon\": 32.8, \"Name\": \"mazda glc deluxe\", \"Origin\": \"Japan\", \"Weight_in_lbs\": 1985, \"Year\": \"1978-01-01T00:00:00\"}, {\"Acceleration\": 18.6, \"Cylinders\": 4, \"Displacement\": 85.0, \"Horsepower\": 70.0, \"Miles_per_Gallon\": 39.4, \"Name\": \"datsun b210 gx\", \"Origin\": \"Japan\", \"Weight_in_lbs\": 2070, \"Year\": \"1978-01-01T00:00:00\"}, {\"Acceleration\": 16.4, \"Cylinders\": 4, \"Displacement\": 91.0, \"Horsepower\": 60.0, \"Miles_per_Gallon\": 36.1, \"Name\": \"honda civic cvcc\", \"Origin\": \"Japan\", \"Weight_in_lbs\": 1800, \"Year\": \"1978-01-01T00:00:00\"}, {\"Acceleration\": 15.5, \"Cylinders\": 8, \"Displacement\": 260.0, \"Horsepower\": 110.0, \"Miles_per_Gallon\": 19.9, \"Name\": \"oldsmobile cutlass salon brougham\", \"Origin\": \"USA\", \"Weight_in_lbs\": 3365, \"Year\": \"1978-01-01T00:00:00\"}, {\"Acceleration\": 13.2, \"Cylinders\": 8, \"Displacement\": 318.0, \"Horsepower\": 140.0, \"Miles_per_Gallon\": 19.4, \"Name\": \"dodge diplomat\", \"Origin\": \"USA\", \"Weight_in_lbs\": 3735, \"Year\": \"1978-01-01T00:00:00\"}, {\"Acceleration\": 12.8, \"Cylinders\": 8, \"Displacement\": 302.0, \"Horsepower\": 139.0, \"Miles_per_Gallon\": 20.2, \"Name\": \"mercury monarch ghia\", \"Origin\": \"USA\", \"Weight_in_lbs\": 3570, \"Year\": \"1978-01-01T00:00:00\"}, {\"Acceleration\": 19.2, \"Cylinders\": 6, \"Displacement\": 231.0, \"Horsepower\": 105.0, \"Miles_per_Gallon\": 19.2, \"Name\": \"pontiac phoenix lj\", \"Origin\": \"USA\", \"Weight_in_lbs\": 3535, \"Year\": \"1978-01-01T00:00:00\"}, {\"Acceleration\": 18.2, \"Cylinders\": 6, \"Displacement\": 200.0, \"Horsepower\": 95.0, \"Miles_per_Gallon\": 20.5, \"Name\": \"chevrolet malibu\", \"Origin\": \"USA\", \"Weight_in_lbs\": 3155, \"Year\": \"1978-01-01T00:00:00\"}, {\"Acceleration\": 15.8, \"Cylinders\": 6, \"Displacement\": 200.0, \"Horsepower\": 85.0, \"Miles_per_Gallon\": 20.2, \"Name\": \"ford fairmont (auto)\", \"Origin\": \"USA\", \"Weight_in_lbs\": 2965, \"Year\": \"1978-01-01T00:00:00\"}, {\"Acceleration\": 15.4, \"Cylinders\": 4, \"Displacement\": 140.0, \"Horsepower\": 88.0, \"Miles_per_Gallon\": 25.1, \"Name\": \"ford fairmont (man)\", \"Origin\": \"USA\", \"Weight_in_lbs\": 2720, \"Year\": \"1978-01-01T00:00:00\"}, {\"Acceleration\": 17.2, \"Cylinders\": 6, \"Displacement\": 225.0, \"Horsepower\": 100.0, \"Miles_per_Gallon\": 20.5, \"Name\": \"plymouth volare\", \"Origin\": \"USA\", \"Weight_in_lbs\": 3430, \"Year\": \"1978-01-01T00:00:00\"}, {\"Acceleration\": 17.2, \"Cylinders\": 6, \"Displacement\": 232.0, \"Horsepower\": 90.0, \"Miles_per_Gallon\": 19.4, \"Name\": \"amc concord\", \"Origin\": \"USA\", \"Weight_in_lbs\": 3210, \"Year\": \"1978-01-01T00:00:00\"}, {\"Acceleration\": 15.8, \"Cylinders\": 6, \"Displacement\": 231.0, \"Horsepower\": 105.0, \"Miles_per_Gallon\": 20.6, \"Name\": \"buick century special\", \"Origin\": \"USA\", \"Weight_in_lbs\": 3380, \"Year\": \"1978-01-01T00:00:00\"}, {\"Acceleration\": 16.7, \"Cylinders\": 6, \"Displacement\": 200.0, \"Horsepower\": 85.0, \"Miles_per_Gallon\": 20.8, \"Name\": \"mercury zephyr\", \"Origin\": \"USA\", \"Weight_in_lbs\": 3070, \"Year\": \"1978-01-01T00:00:00\"}, {\"Acceleration\": 18.7, \"Cylinders\": 6, \"Displacement\": 225.0, \"Horsepower\": 110.0, \"Miles_per_Gallon\": 18.6, \"Name\": \"dodge aspen\", \"Origin\": \"USA\", \"Weight_in_lbs\": 3620, \"Year\": \"1978-01-01T00:00:00\"}, {\"Acceleration\": 15.1, \"Cylinders\": 6, \"Displacement\": 258.0, \"Horsepower\": 120.0, \"Miles_per_Gallon\": 18.1, \"Name\": \"amc concord d/l\", \"Origin\": \"USA\", \"Weight_in_lbs\": 3410, \"Year\": \"1978-01-01T00:00:00\"}, {\"Acceleration\": 13.2, \"Cylinders\": 8, \"Displacement\": 305.0, \"Horsepower\": 145.0, \"Miles_per_Gallon\": 19.2, \"Name\": \"chevrolet monte carlo landau\", \"Origin\": \"USA\", \"Weight_in_lbs\": 3425, \"Year\": \"1978-01-01T00:00:00\"}, {\"Acceleration\": 13.4, \"Cylinders\": 6, \"Displacement\": 231.0, \"Horsepower\": 165.0, \"Miles_per_Gallon\": 17.7, \"Name\": \"buick regal sport coupe (turbo)\", \"Origin\": \"USA\", \"Weight_in_lbs\": 3445, \"Year\": \"1978-01-01T00:00:00\"}, {\"Acceleration\": 11.2, \"Cylinders\": 8, \"Displacement\": 302.0, \"Horsepower\": 139.0, \"Miles_per_Gallon\": 18.1, \"Name\": \"ford futura\", \"Origin\": \"USA\", \"Weight_in_lbs\": 3205, \"Year\": \"1978-01-01T00:00:00\"}, {\"Acceleration\": 13.7, \"Cylinders\": 8, \"Displacement\": 318.0, \"Horsepower\": 140.0, \"Miles_per_Gallon\": 17.5, \"Name\": \"dodge magnum xe\", \"Origin\": \"USA\", \"Weight_in_lbs\": 4080, \"Year\": \"1978-01-01T00:00:00\"}, {\"Acceleration\": 16.5, \"Cylinders\": 4, \"Displacement\": 98.0, \"Horsepower\": 68.0, \"Miles_per_Gallon\": 30.0, \"Name\": \"chevrolet chevette\", \"Origin\": \"USA\", \"Weight_in_lbs\": 2155, \"Year\": \"1978-01-01T00:00:00\"}, {\"Acceleration\": 14.2, \"Cylinders\": 4, \"Displacement\": 134.0, \"Horsepower\": 95.0, \"Miles_per_Gallon\": 27.5, \"Name\": \"toyota corona\", \"Origin\": \"Japan\", \"Weight_in_lbs\": 2560, \"Year\": \"1978-01-01T00:00:00\"}, {\"Acceleration\": 14.7, \"Cylinders\": 4, \"Displacement\": 119.0, \"Horsepower\": 97.0, \"Miles_per_Gallon\": 27.2, \"Name\": \"datsun 510\", \"Origin\": \"Japan\", \"Weight_in_lbs\": 2300, \"Year\": \"1978-01-01T00:00:00\"}, {\"Acceleration\": 14.5, \"Cylinders\": 4, \"Displacement\": 105.0, \"Horsepower\": 75.0, \"Miles_per_Gallon\": 30.9, \"Name\": \"dodge omni\", \"Origin\": \"USA\", \"Weight_in_lbs\": 2230, \"Year\": \"1978-01-01T00:00:00\"}, {\"Acceleration\": 14.8, \"Cylinders\": 4, \"Displacement\": 134.0, \"Horsepower\": 95.0, \"Miles_per_Gallon\": 21.1, \"Name\": \"toyota celica gt liftback\", \"Origin\": \"Japan\", \"Weight_in_lbs\": 2515, \"Year\": \"1978-01-01T00:00:00\"}, {\"Acceleration\": 16.7, \"Cylinders\": 4, \"Displacement\": 156.0, \"Horsepower\": 105.0, \"Miles_per_Gallon\": 23.2, \"Name\": \"plymouth sapporo\", \"Origin\": \"USA\", \"Weight_in_lbs\": 2745, \"Year\": \"1978-01-01T00:00:00\"}, {\"Acceleration\": 17.6, \"Cylinders\": 4, \"Displacement\": 151.0, \"Horsepower\": 85.0, \"Miles_per_Gallon\": 23.8, \"Name\": \"oldsmobile starfire sx\", \"Origin\": \"USA\", \"Weight_in_lbs\": 2855, \"Year\": \"1978-01-01T00:00:00\"}, {\"Acceleration\": 14.9, \"Cylinders\": 4, \"Displacement\": 119.0, \"Horsepower\": 97.0, \"Miles_per_Gallon\": 23.9, \"Name\": \"datsun 200-sx\", \"Origin\": \"Japan\", \"Weight_in_lbs\": 2405, \"Year\": \"1978-01-01T00:00:00\"}, {\"Acceleration\": 15.9, \"Cylinders\": 5, \"Displacement\": 131.0, \"Horsepower\": 103.0, \"Miles_per_Gallon\": 20.3, \"Name\": \"audi 5000\", \"Origin\": \"Europe\", \"Weight_in_lbs\": 2830, \"Year\": \"1978-01-01T00:00:00\"}, {\"Acceleration\": 13.6, \"Cylinders\": 6, \"Displacement\": 163.0, \"Horsepower\": 125.0, \"Miles_per_Gallon\": 17.0, \"Name\": \"volvo 264gl\", \"Origin\": \"Europe\", \"Weight_in_lbs\": 3140, \"Year\": \"1978-01-01T00:00:00\"}, {\"Acceleration\": 15.7, \"Cylinders\": 4, \"Displacement\": 121.0, \"Horsepower\": 115.0, \"Miles_per_Gallon\": 21.6, \"Name\": \"saab 99gle\", \"Origin\": \"Europe\", \"Weight_in_lbs\": 2795, \"Year\": \"1978-01-01T00:00:00\"}, {\"Acceleration\": 15.8, \"Cylinders\": 6, \"Displacement\": 163.0, \"Horsepower\": 133.0, \"Miles_per_Gallon\": 16.2, \"Name\": \"peugeot 604sl\", \"Origin\": \"Europe\", \"Weight_in_lbs\": 3410, \"Year\": \"1978-01-01T00:00:00\"}, {\"Acceleration\": 14.9, \"Cylinders\": 4, \"Displacement\": 89.0, \"Horsepower\": 71.0, \"Miles_per_Gallon\": 31.5, \"Name\": \"volkswagen scirocco\", \"Origin\": \"Europe\", \"Weight_in_lbs\": 1990, \"Year\": \"1978-01-01T00:00:00\"}, {\"Acceleration\": 16.6, \"Cylinders\": 4, \"Displacement\": 98.0, \"Horsepower\": 68.0, \"Miles_per_Gallon\": 29.5, \"Name\": \"honda Accelerationord lx\", \"Origin\": \"Japan\", \"Weight_in_lbs\": 2135, \"Year\": \"1978-01-01T00:00:00\"}, {\"Acceleration\": 15.4, \"Cylinders\": 6, \"Displacement\": 231.0, \"Horsepower\": 115.0, \"Miles_per_Gallon\": 21.5, \"Name\": \"pontiac lemans v6\", \"Origin\": \"USA\", \"Weight_in_lbs\": 3245, \"Year\": \"1979-01-01T00:00:00\"}, {\"Acceleration\": 18.2, \"Cylinders\": 6, \"Displacement\": 200.0, \"Horsepower\": 85.0, \"Miles_per_Gallon\": 19.8, \"Name\": \"mercury zephyr 6\", \"Origin\": \"USA\", \"Weight_in_lbs\": 2990, \"Year\": \"1979-01-01T00:00:00\"}, {\"Acceleration\": 17.3, \"Cylinders\": 4, \"Displacement\": 140.0, \"Horsepower\": 88.0, \"Miles_per_Gallon\": 22.3, \"Name\": \"ford fairmont 4\", \"Origin\": \"USA\", \"Weight_in_lbs\": 2890, \"Year\": \"1979-01-01T00:00:00\"}, {\"Acceleration\": 18.2, \"Cylinders\": 6, \"Displacement\": 232.0, \"Horsepower\": 90.0, \"Miles_per_Gallon\": 20.2, \"Name\": \"amc concord dl 6\", \"Origin\": \"USA\", \"Weight_in_lbs\": 3265, \"Year\": \"1979-01-01T00:00:00\"}, {\"Acceleration\": 16.6, \"Cylinders\": 6, \"Displacement\": 225.0, \"Horsepower\": 110.0, \"Miles_per_Gallon\": 20.6, \"Name\": \"dodge aspen 6\", \"Origin\": \"USA\", \"Weight_in_lbs\": 3360, \"Year\": \"1979-01-01T00:00:00\"}, {\"Acceleration\": 15.4, \"Cylinders\": 8, \"Displacement\": 305.0, \"Horsepower\": 130.0, \"Miles_per_Gallon\": 17.0, \"Name\": \"chevrolet caprice classic\", \"Origin\": \"USA\", \"Weight_in_lbs\": 3840, \"Year\": \"1979-01-01T00:00:00\"}, {\"Acceleration\": 13.4, \"Cylinders\": 8, \"Displacement\": 302.0, \"Horsepower\": 129.0, \"Miles_per_Gallon\": 17.6, \"Name\": \"ford ltd landau\", \"Origin\": \"USA\", \"Weight_in_lbs\": 3725, \"Year\": \"1979-01-01T00:00:00\"}, {\"Acceleration\": 13.2, \"Cylinders\": 8, \"Displacement\": 351.0, \"Horsepower\": 138.0, \"Miles_per_Gallon\": 16.5, \"Name\": \"mercury grand marquis\", \"Origin\": \"USA\", \"Weight_in_lbs\": 3955, \"Year\": \"1979-01-01T00:00:00\"}, {\"Acceleration\": 15.2, \"Cylinders\": 8, \"Displacement\": 318.0, \"Horsepower\": 135.0, \"Miles_per_Gallon\": 18.2, \"Name\": \"dodge st. regis\", \"Origin\": \"USA\", \"Weight_in_lbs\": 3830, \"Year\": \"1979-01-01T00:00:00\"}, {\"Acceleration\": 14.9, \"Cylinders\": 8, \"Displacement\": 350.0, \"Horsepower\": 155.0, \"Miles_per_Gallon\": 16.9, \"Name\": \"buick estate wagon (sw)\", \"Origin\": \"USA\", \"Weight_in_lbs\": 4360, \"Year\": \"1979-01-01T00:00:00\"}, {\"Acceleration\": 14.3, \"Cylinders\": 8, \"Displacement\": 351.0, \"Horsepower\": 142.0, \"Miles_per_Gallon\": 15.5, \"Name\": \"ford country squire (sw)\", \"Origin\": \"USA\", \"Weight_in_lbs\": 4054, \"Year\": \"1979-01-01T00:00:00\"}, {\"Acceleration\": 15.0, \"Cylinders\": 8, \"Displacement\": 267.0, \"Horsepower\": 125.0, \"Miles_per_Gallon\": 19.2, \"Name\": \"chevrolet malibu classic (sw)\", \"Origin\": \"USA\", \"Weight_in_lbs\": 3605, \"Year\": \"1979-01-01T00:00:00\"}, {\"Acceleration\": 13.0, \"Cylinders\": 8, \"Displacement\": 360.0, \"Horsepower\": 150.0, \"Miles_per_Gallon\": 18.5, \"Name\": \"chrysler lebaron town @ country (sw)\", \"Origin\": \"USA\", \"Weight_in_lbs\": 3940, \"Year\": \"1979-01-01T00:00:00\"}, {\"Acceleration\": 14.0, \"Cylinders\": 4, \"Displacement\": 89.0, \"Horsepower\": 71.0, \"Miles_per_Gallon\": 31.9, \"Name\": \"vw rabbit custom\", \"Origin\": \"Europe\", \"Weight_in_lbs\": 1925, \"Year\": \"1979-01-01T00:00:00\"}, {\"Acceleration\": 15.2, \"Cylinders\": 4, \"Displacement\": 86.0, \"Horsepower\": 65.0, \"Miles_per_Gallon\": 34.1, \"Name\": \"maxda glc deluxe\", \"Origin\": \"Japan\", \"Weight_in_lbs\": 1975, \"Year\": \"1979-01-01T00:00:00\"}, {\"Acceleration\": 14.4, \"Cylinders\": 4, \"Displacement\": 98.0, \"Horsepower\": 80.0, \"Miles_per_Gallon\": 35.7, \"Name\": \"dodge colt hatchback custom\", \"Origin\": \"USA\", \"Weight_in_lbs\": 1915, \"Year\": \"1979-01-01T00:00:00\"}, {\"Acceleration\": 15.0, \"Cylinders\": 4, \"Displacement\": 121.0, \"Horsepower\": 80.0, \"Miles_per_Gallon\": 27.4, \"Name\": \"amc spirit dl\", \"Origin\": \"USA\", \"Weight_in_lbs\": 2670, \"Year\": \"1979-01-01T00:00:00\"}, {\"Acceleration\": 20.1, \"Cylinders\": 5, \"Displacement\": 183.0, \"Horsepower\": 77.0, \"Miles_per_Gallon\": 25.4, \"Name\": \"mercedes benz 300d\", \"Origin\": \"Europe\", \"Weight_in_lbs\": 3530, \"Year\": \"1979-01-01T00:00:00\"}, {\"Acceleration\": 17.4, \"Cylinders\": 8, \"Displacement\": 350.0, \"Horsepower\": 125.0, \"Miles_per_Gallon\": 23.0, \"Name\": \"cadillac eldorado\", \"Origin\": \"USA\", \"Weight_in_lbs\": 3900, \"Year\": \"1979-01-01T00:00:00\"}, {\"Acceleration\": 24.8, \"Cylinders\": 4, \"Displacement\": 141.0, \"Horsepower\": 71.0, \"Miles_per_Gallon\": 27.2, \"Name\": \"peugeot 504\", \"Origin\": \"Europe\", \"Weight_in_lbs\": 3190, \"Year\": \"1979-01-01T00:00:00\"}, {\"Acceleration\": 22.2, \"Cylinders\": 8, \"Displacement\": 260.0, \"Horsepower\": 90.0, \"Miles_per_Gallon\": 23.9, \"Name\": \"oldsmobile cutlass salon brougham\", \"Origin\": \"USA\", \"Weight_in_lbs\": 3420, \"Year\": \"1979-01-01T00:00:00\"}, {\"Acceleration\": 13.2, \"Cylinders\": 4, \"Displacement\": 105.0, \"Horsepower\": 70.0, \"Miles_per_Gallon\": 34.2, \"Name\": \"plymouth horizon\", \"Origin\": \"USA\", \"Weight_in_lbs\": 2200, \"Year\": \"1979-01-01T00:00:00\"}, {\"Acceleration\": 14.9, \"Cylinders\": 4, \"Displacement\": 105.0, \"Horsepower\": 70.0, \"Miles_per_Gallon\": 34.5, \"Name\": \"plymouth horizon tc3\", \"Origin\": \"USA\", \"Weight_in_lbs\": 2150, \"Year\": \"1979-01-01T00:00:00\"}, {\"Acceleration\": 19.2, \"Cylinders\": 4, \"Displacement\": 85.0, \"Horsepower\": 65.0, \"Miles_per_Gallon\": 31.8, \"Name\": \"datsun 210\", \"Origin\": \"Japan\", \"Weight_in_lbs\": 2020, \"Year\": \"1979-01-01T00:00:00\"}, {\"Acceleration\": 14.7, \"Cylinders\": 4, \"Displacement\": 91.0, \"Horsepower\": 69.0, \"Miles_per_Gallon\": 37.3, \"Name\": \"fiat strada custom\", \"Origin\": \"Europe\", \"Weight_in_lbs\": 2130, \"Year\": \"1979-01-01T00:00:00\"}, {\"Acceleration\": 16.0, \"Cylinders\": 4, \"Displacement\": 151.0, \"Horsepower\": 90.0, \"Miles_per_Gallon\": 28.4, \"Name\": \"buick skylark limited\", \"Origin\": \"USA\", \"Weight_in_lbs\": 2670, \"Year\": \"1979-01-01T00:00:00\"}, {\"Acceleration\": 11.3, \"Cylinders\": 6, \"Displacement\": 173.0, \"Horsepower\": 115.0, \"Miles_per_Gallon\": 28.8, \"Name\": \"chevrolet citation\", \"Origin\": \"USA\", \"Weight_in_lbs\": 2595, \"Year\": \"1979-01-01T00:00:00\"}, {\"Acceleration\": 12.9, \"Cylinders\": 6, \"Displacement\": 173.0, \"Horsepower\": 115.0, \"Miles_per_Gallon\": 26.8, \"Name\": \"oldsmobile omega brougham\", \"Origin\": \"USA\", \"Weight_in_lbs\": 2700, \"Year\": \"1979-01-01T00:00:00\"}, {\"Acceleration\": 13.2, \"Cylinders\": 4, \"Displacement\": 151.0, \"Horsepower\": 90.0, \"Miles_per_Gallon\": 33.5, \"Name\": \"pontiac phoenix\", \"Origin\": \"USA\", \"Weight_in_lbs\": 2556, \"Year\": \"1979-01-01T00:00:00\"}, {\"Acceleration\": 14.7, \"Cylinders\": 4, \"Displacement\": 98.0, \"Horsepower\": 76.0, \"Miles_per_Gallon\": 41.5, \"Name\": \"vw rabbit\", \"Origin\": \"Europe\", \"Weight_in_lbs\": 2144, \"Year\": \"1980-01-01T00:00:00\"}, {\"Acceleration\": 18.8, \"Cylinders\": 4, \"Displacement\": 89.0, \"Horsepower\": 60.0, \"Miles_per_Gallon\": 38.1, \"Name\": \"toyota corolla tercel\", \"Origin\": \"Japan\", \"Weight_in_lbs\": 1968, \"Year\": \"1980-01-01T00:00:00\"}, {\"Acceleration\": 15.5, \"Cylinders\": 4, \"Displacement\": 98.0, \"Horsepower\": 70.0, \"Miles_per_Gallon\": 32.1, \"Name\": \"chevrolet chevette\", \"Origin\": \"USA\", \"Weight_in_lbs\": 2120, \"Year\": \"1980-01-01T00:00:00\"}, {\"Acceleration\": 16.4, \"Cylinders\": 4, \"Displacement\": 86.0, \"Horsepower\": 65.0, \"Miles_per_Gallon\": 37.2, \"Name\": \"datsun 310\", \"Origin\": \"Japan\", \"Weight_in_lbs\": 2019, \"Year\": \"1980-01-01T00:00:00\"}, {\"Acceleration\": 16.5, \"Cylinders\": 4, \"Displacement\": 151.0, \"Horsepower\": 90.0, \"Miles_per_Gallon\": 28.0, \"Name\": \"chevrolet citation\", \"Origin\": \"USA\", \"Weight_in_lbs\": 2678, \"Year\": \"1980-01-01T00:00:00\"}, {\"Acceleration\": 18.1, \"Cylinders\": 4, \"Displacement\": 140.0, \"Horsepower\": 88.0, \"Miles_per_Gallon\": 26.4, \"Name\": \"ford fairmont\", \"Origin\": \"USA\", \"Weight_in_lbs\": 2870, \"Year\": \"1980-01-01T00:00:00\"}, {\"Acceleration\": 20.1, \"Cylinders\": 4, \"Displacement\": 151.0, \"Horsepower\": 90.0, \"Miles_per_Gallon\": 24.3, \"Name\": \"amc concord\", \"Origin\": \"USA\", \"Weight_in_lbs\": 3003, \"Year\": \"1980-01-01T00:00:00\"}, {\"Acceleration\": 18.7, \"Cylinders\": 6, \"Displacement\": 225.0, \"Horsepower\": 90.0, \"Miles_per_Gallon\": 19.1, \"Name\": \"dodge aspen\", \"Origin\": \"USA\", \"Weight_in_lbs\": 3381, \"Year\": \"1980-01-01T00:00:00\"}, {\"Acceleration\": 15.8, \"Cylinders\": 4, \"Displacement\": 97.0, \"Horsepower\": 78.0, \"Miles_per_Gallon\": 34.3, \"Name\": \"audi 4000\", \"Origin\": \"Europe\", \"Weight_in_lbs\": 2188, \"Year\": \"1980-01-01T00:00:00\"}, {\"Acceleration\": 15.5, \"Cylinders\": 4, \"Displacement\": 134.0, \"Horsepower\": 90.0, \"Miles_per_Gallon\": 29.8, \"Name\": \"toyota corona liftback\", \"Origin\": \"Japan\", \"Weight_in_lbs\": 2711, \"Year\": \"1980-01-01T00:00:00\"}, {\"Acceleration\": 17.5, \"Cylinders\": 4, \"Displacement\": 120.0, \"Horsepower\": 75.0, \"Miles_per_Gallon\": 31.3, \"Name\": \"mazda 626\", \"Origin\": \"Japan\", \"Weight_in_lbs\": 2542, \"Year\": \"1980-01-01T00:00:00\"}, {\"Acceleration\": 15.0, \"Cylinders\": 4, \"Displacement\": 119.0, \"Horsepower\": 92.0, \"Miles_per_Gallon\": 37.0, \"Name\": \"datsun 510 hatchback\", \"Origin\": \"Japan\", \"Weight_in_lbs\": 2434, \"Year\": \"1980-01-01T00:00:00\"}, {\"Acceleration\": 15.2, \"Cylinders\": 4, \"Displacement\": 108.0, \"Horsepower\": 75.0, \"Miles_per_Gallon\": 32.2, \"Name\": \"toyota corolla\", \"Origin\": \"Japan\", \"Weight_in_lbs\": 2265, \"Year\": \"1980-01-01T00:00:00\"}, {\"Acceleration\": 17.9, \"Cylinders\": 4, \"Displacement\": 86.0, \"Horsepower\": 65.0, \"Miles_per_Gallon\": 46.6, \"Name\": \"mazda glc\", \"Origin\": \"Japan\", \"Weight_in_lbs\": 2110, \"Year\": \"1980-01-01T00:00:00\"}, {\"Acceleration\": 14.4, \"Cylinders\": 4, \"Displacement\": 156.0, \"Horsepower\": 105.0, \"Miles_per_Gallon\": 27.9, \"Name\": \"dodge colt\", \"Origin\": \"USA\", \"Weight_in_lbs\": 2800, \"Year\": \"1980-01-01T00:00:00\"}, {\"Acceleration\": 19.2, \"Cylinders\": 4, \"Displacement\": 85.0, \"Horsepower\": 65.0, \"Miles_per_Gallon\": 40.8, \"Name\": \"datsun 210\", \"Origin\": \"Japan\", \"Weight_in_lbs\": 2110, \"Year\": \"1980-01-01T00:00:00\"}, {\"Acceleration\": 21.7, \"Cylinders\": 4, \"Displacement\": 90.0, \"Horsepower\": 48.0, \"Miles_per_Gallon\": 44.3, \"Name\": \"vw rabbit c (diesel)\", \"Origin\": \"Europe\", \"Weight_in_lbs\": 2085, \"Year\": \"1980-01-01T00:00:00\"}, {\"Acceleration\": 23.7, \"Cylinders\": 4, \"Displacement\": 90.0, \"Horsepower\": 48.0, \"Miles_per_Gallon\": 43.4, \"Name\": \"vw dasher (diesel)\", \"Origin\": \"Europe\", \"Weight_in_lbs\": 2335, \"Year\": \"1980-01-01T00:00:00\"}, {\"Acceleration\": 19.9, \"Cylinders\": 5, \"Displacement\": 121.0, \"Horsepower\": 67.0, \"Miles_per_Gallon\": 36.4, \"Name\": \"audi 5000s (diesel)\", \"Origin\": \"Europe\", \"Weight_in_lbs\": 2950, \"Year\": \"1980-01-01T00:00:00\"}, {\"Acceleration\": 21.8, \"Cylinders\": 4, \"Displacement\": 146.0, \"Horsepower\": 67.0, \"Miles_per_Gallon\": 30.0, \"Name\": \"mercedes-benz 240d\", \"Origin\": \"Europe\", \"Weight_in_lbs\": 3250, \"Year\": \"1980-01-01T00:00:00\"}, {\"Acceleration\": 13.8, \"Cylinders\": 4, \"Displacement\": 91.0, \"Horsepower\": 67.0, \"Miles_per_Gallon\": 44.6, \"Name\": \"honda civic 1500 gl\", \"Origin\": \"Japan\", \"Weight_in_lbs\": 1850, \"Year\": \"1980-01-01T00:00:00\"}, {\"Acceleration\": 17.3, \"Cylinders\": 4, \"Displacement\": 85.0, \"Horsepower\": null, \"Miles_per_Gallon\": 40.9, \"Name\": \"renault lecar deluxe\", \"Origin\": \"Europe\", \"Weight_in_lbs\": 1835, \"Year\": \"1980-01-01T00:00:00\"}, {\"Acceleration\": 18.0, \"Cylinders\": 4, \"Displacement\": 97.0, \"Horsepower\": 67.0, \"Miles_per_Gallon\": 33.8, \"Name\": \"subaru dl\", \"Origin\": \"Japan\", \"Weight_in_lbs\": 2145, \"Year\": \"1980-01-01T00:00:00\"}, {\"Acceleration\": 15.3, \"Cylinders\": 4, \"Displacement\": 89.0, \"Horsepower\": 62.0, \"Miles_per_Gallon\": 29.8, \"Name\": \"vokswagen rabbit\", \"Origin\": \"Europe\", \"Weight_in_lbs\": 1845, \"Year\": \"1980-01-01T00:00:00\"}, {\"Acceleration\": 11.4, \"Cylinders\": 6, \"Displacement\": 168.0, \"Horsepower\": 132.0, \"Miles_per_Gallon\": 32.7, \"Name\": \"datsun 280-zx\", \"Origin\": \"Japan\", \"Weight_in_lbs\": 2910, \"Year\": \"1980-01-01T00:00:00\"}, {\"Acceleration\": 12.5, \"Cylinders\": 3, \"Displacement\": 70.0, \"Horsepower\": 100.0, \"Miles_per_Gallon\": 23.7, \"Name\": \"mazda rx-7 gs\", \"Origin\": \"Japan\", \"Weight_in_lbs\": 2420, \"Year\": \"1980-01-01T00:00:00\"}, {\"Acceleration\": 15.1, \"Cylinders\": 4, \"Displacement\": 122.0, \"Horsepower\": 88.0, \"Miles_per_Gallon\": 35.0, \"Name\": \"triumph tr7 coupe\", \"Origin\": \"Europe\", \"Weight_in_lbs\": 2500, \"Year\": \"1980-01-01T00:00:00\"}, {\"Acceleration\": 14.3, \"Cylinders\": 4, \"Displacement\": 140.0, \"Horsepower\": null, \"Miles_per_Gallon\": 23.6, \"Name\": \"ford mustang cobra\", \"Origin\": \"USA\", \"Weight_in_lbs\": 2905, \"Year\": \"1980-01-01T00:00:00\"}, {\"Acceleration\": 17.0, \"Cylinders\": 4, \"Displacement\": 107.0, \"Horsepower\": 72.0, \"Miles_per_Gallon\": 32.4, \"Name\": \"honda Accelerationord\", \"Origin\": \"Japan\", \"Weight_in_lbs\": 2290, \"Year\": \"1980-01-01T00:00:00\"}, {\"Acceleration\": 15.7, \"Cylinders\": 4, \"Displacement\": 135.0, \"Horsepower\": 84.0, \"Miles_per_Gallon\": 27.2, \"Name\": \"plymouth reliant\", \"Origin\": \"USA\", \"Weight_in_lbs\": 2490, \"Year\": \"1982-01-01T00:00:00\"}, {\"Acceleration\": 16.4, \"Cylinders\": 4, \"Displacement\": 151.0, \"Horsepower\": 84.0, \"Miles_per_Gallon\": 26.6, \"Name\": \"buick skylark\", \"Origin\": \"USA\", \"Weight_in_lbs\": 2635, \"Year\": \"1982-01-01T00:00:00\"}, {\"Acceleration\": 14.4, \"Cylinders\": 4, \"Displacement\": 156.0, \"Horsepower\": 92.0, \"Miles_per_Gallon\": 25.8, \"Name\": \"dodge aries wagon (sw)\", \"Origin\": \"USA\", \"Weight_in_lbs\": 2620, \"Year\": \"1982-01-01T00:00:00\"}, {\"Acceleration\": 12.6, \"Cylinders\": 6, \"Displacement\": 173.0, \"Horsepower\": 110.0, \"Miles_per_Gallon\": 23.5, \"Name\": \"chevrolet citation\", \"Origin\": \"USA\", \"Weight_in_lbs\": 2725, \"Year\": \"1982-01-01T00:00:00\"}, {\"Acceleration\": 12.9, \"Cylinders\": 4, \"Displacement\": 135.0, \"Horsepower\": 84.0, \"Miles_per_Gallon\": 30.0, \"Name\": \"plymouth reliant\", \"Origin\": \"USA\", \"Weight_in_lbs\": 2385, \"Year\": \"1982-01-01T00:00:00\"}, {\"Acceleration\": 16.9, \"Cylinders\": 4, \"Displacement\": 79.0, \"Horsepower\": 58.0, \"Miles_per_Gallon\": 39.1, \"Name\": \"toyota starlet\", \"Origin\": \"Japan\", \"Weight_in_lbs\": 1755, \"Year\": \"1982-01-01T00:00:00\"}, {\"Acceleration\": 16.4, \"Cylinders\": 4, \"Displacement\": 86.0, \"Horsepower\": 64.0, \"Miles_per_Gallon\": 39.0, \"Name\": \"plymouth champ\", \"Origin\": \"USA\", \"Weight_in_lbs\": 1875, \"Year\": \"1982-01-01T00:00:00\"}, {\"Acceleration\": 16.1, \"Cylinders\": 4, \"Displacement\": 81.0, \"Horsepower\": 60.0, \"Miles_per_Gallon\": 35.1, \"Name\": \"honda civic 1300\", \"Origin\": \"Japan\", \"Weight_in_lbs\": 1760, \"Year\": \"1982-01-01T00:00:00\"}, {\"Acceleration\": 17.8, \"Cylinders\": 4, \"Displacement\": 97.0, \"Horsepower\": 67.0, \"Miles_per_Gallon\": 32.3, \"Name\": \"subaru\", \"Origin\": \"Japan\", \"Weight_in_lbs\": 2065, \"Year\": \"1982-01-01T00:00:00\"}, {\"Acceleration\": 19.4, \"Cylinders\": 4, \"Displacement\": 85.0, \"Horsepower\": 65.0, \"Miles_per_Gallon\": 37.0, \"Name\": \"datsun 210\", \"Origin\": \"Japan\", \"Weight_in_lbs\": 1975, \"Year\": \"1982-01-01T00:00:00\"}, {\"Acceleration\": 17.3, \"Cylinders\": 4, \"Displacement\": 89.0, \"Horsepower\": 62.0, \"Miles_per_Gallon\": 37.7, \"Name\": \"toyota tercel\", \"Origin\": \"Japan\", \"Weight_in_lbs\": 2050, \"Year\": \"1982-01-01T00:00:00\"}, {\"Acceleration\": 16.0, \"Cylinders\": 4, \"Displacement\": 91.0, \"Horsepower\": 68.0, \"Miles_per_Gallon\": 34.1, \"Name\": \"mazda glc 4\", \"Origin\": \"Japan\", \"Weight_in_lbs\": 1985, \"Year\": \"1982-01-01T00:00:00\"}, {\"Acceleration\": 14.9, \"Cylinders\": 4, \"Displacement\": 105.0, \"Horsepower\": 63.0, \"Miles_per_Gallon\": 34.7, \"Name\": \"plymouth horizon 4\", \"Origin\": \"USA\", \"Weight_in_lbs\": 2215, \"Year\": \"1982-01-01T00:00:00\"}, {\"Acceleration\": 16.2, \"Cylinders\": 4, \"Displacement\": 98.0, \"Horsepower\": 65.0, \"Miles_per_Gallon\": 34.4, \"Name\": \"ford escort 4w\", \"Origin\": \"USA\", \"Weight_in_lbs\": 2045, \"Year\": \"1982-01-01T00:00:00\"}, {\"Acceleration\": 20.7, \"Cylinders\": 4, \"Displacement\": 98.0, \"Horsepower\": 65.0, \"Miles_per_Gallon\": 29.9, \"Name\": \"ford escort 2h\", \"Origin\": \"USA\", \"Weight_in_lbs\": 2380, \"Year\": \"1982-01-01T00:00:00\"}, {\"Acceleration\": 14.2, \"Cylinders\": 4, \"Displacement\": 105.0, \"Horsepower\": 74.0, \"Miles_per_Gallon\": 33.0, \"Name\": \"volkswagen jetta\", \"Origin\": \"Europe\", \"Weight_in_lbs\": 2190, \"Year\": \"1982-01-01T00:00:00\"}, {\"Acceleration\": 15.8, \"Cylinders\": 4, \"Displacement\": 100.0, \"Horsepower\": null, \"Miles_per_Gallon\": 34.5, \"Name\": \"renault 18i\", \"Origin\": \"Europe\", \"Weight_in_lbs\": 2320, \"Year\": \"1982-01-01T00:00:00\"}, {\"Acceleration\": 14.4, \"Cylinders\": 4, \"Displacement\": 107.0, \"Horsepower\": 75.0, \"Miles_per_Gallon\": 33.7, \"Name\": \"honda prelude\", \"Origin\": \"Japan\", \"Weight_in_lbs\": 2210, \"Year\": \"1982-01-01T00:00:00\"}, {\"Acceleration\": 16.8, \"Cylinders\": 4, \"Displacement\": 108.0, \"Horsepower\": 75.0, \"Miles_per_Gallon\": 32.4, \"Name\": \"toyota corolla\", \"Origin\": \"Japan\", \"Weight_in_lbs\": 2350, \"Year\": \"1982-01-01T00:00:00\"}, {\"Acceleration\": 14.8, \"Cylinders\": 4, \"Displacement\": 119.0, \"Horsepower\": 100.0, \"Miles_per_Gallon\": 32.9, \"Name\": \"datsun 200sx\", \"Origin\": \"Japan\", \"Weight_in_lbs\": 2615, \"Year\": \"1982-01-01T00:00:00\"}, {\"Acceleration\": 18.3, \"Cylinders\": 4, \"Displacement\": 120.0, \"Horsepower\": 74.0, \"Miles_per_Gallon\": 31.6, \"Name\": \"mazda 626\", \"Origin\": \"Japan\", \"Weight_in_lbs\": 2635, \"Year\": \"1982-01-01T00:00:00\"}, {\"Acceleration\": 20.4, \"Cylinders\": 4, \"Displacement\": 141.0, \"Horsepower\": 80.0, \"Miles_per_Gallon\": 28.1, \"Name\": \"peugeot 505s turbo diesel\", \"Origin\": \"Europe\", \"Weight_in_lbs\": 3230, \"Year\": \"1982-01-01T00:00:00\"}, {\"Acceleration\": 15.4, \"Cylinders\": 4, \"Displacement\": 121.0, \"Horsepower\": 110.0, \"Miles_per_Gallon\": null, \"Name\": \"saab 900s\", \"Origin\": \"Europe\", \"Weight_in_lbs\": 2800, \"Year\": \"1982-01-01T00:00:00\"}, {\"Acceleration\": 19.6, \"Cylinders\": 6, \"Displacement\": 145.0, \"Horsepower\": 76.0, \"Miles_per_Gallon\": 30.7, \"Name\": \"volvo diesel\", \"Origin\": \"Europe\", \"Weight_in_lbs\": 3160, \"Year\": \"1982-01-01T00:00:00\"}, {\"Acceleration\": 12.6, \"Cylinders\": 6, \"Displacement\": 168.0, \"Horsepower\": 116.0, \"Miles_per_Gallon\": 25.4, \"Name\": \"toyota cressida\", \"Origin\": \"Japan\", \"Weight_in_lbs\": 2900, \"Year\": \"1982-01-01T00:00:00\"}, {\"Acceleration\": 13.8, \"Cylinders\": 6, \"Displacement\": 146.0, \"Horsepower\": 120.0, \"Miles_per_Gallon\": 24.2, \"Name\": \"datsun 810 maxima\", \"Origin\": \"Japan\", \"Weight_in_lbs\": 2930, \"Year\": \"1982-01-01T00:00:00\"}, {\"Acceleration\": 15.8, \"Cylinders\": 6, \"Displacement\": 231.0, \"Horsepower\": 110.0, \"Miles_per_Gallon\": 22.4, \"Name\": \"buick century\", \"Origin\": \"USA\", \"Weight_in_lbs\": 3415, \"Year\": \"1982-01-01T00:00:00\"}, {\"Acceleration\": 19.0, \"Cylinders\": 8, \"Displacement\": 350.0, \"Horsepower\": 105.0, \"Miles_per_Gallon\": 26.6, \"Name\": \"oldsmobile cutlass ls\", \"Origin\": \"USA\", \"Weight_in_lbs\": 3725, \"Year\": \"1982-01-01T00:00:00\"}, {\"Acceleration\": 17.1, \"Cylinders\": 6, \"Displacement\": 200.0, \"Horsepower\": 88.0, \"Miles_per_Gallon\": 20.2, \"Name\": \"ford granada gl\", \"Origin\": \"USA\", \"Weight_in_lbs\": 3060, \"Year\": \"1982-01-01T00:00:00\"}, {\"Acceleration\": 16.6, \"Cylinders\": 6, \"Displacement\": 225.0, \"Horsepower\": 85.0, \"Miles_per_Gallon\": 17.6, \"Name\": \"chrysler lebaron salon\", \"Origin\": \"USA\", \"Weight_in_lbs\": 3465, \"Year\": \"1982-01-01T00:00:00\"}, {\"Acceleration\": 19.6, \"Cylinders\": 4, \"Displacement\": 112.0, \"Horsepower\": 88.0, \"Miles_per_Gallon\": 28.0, \"Name\": \"chevrolet cavalier\", \"Origin\": \"USA\", \"Weight_in_lbs\": 2605, \"Year\": \"1982-01-01T00:00:00\"}, {\"Acceleration\": 18.6, \"Cylinders\": 4, \"Displacement\": 112.0, \"Horsepower\": 88.0, \"Miles_per_Gallon\": 27.0, \"Name\": \"chevrolet cavalier wagon\", \"Origin\": \"USA\", \"Weight_in_lbs\": 2640, \"Year\": \"1982-01-01T00:00:00\"}, {\"Acceleration\": 18.0, \"Cylinders\": 4, \"Displacement\": 112.0, \"Horsepower\": 88.0, \"Miles_per_Gallon\": 34.0, \"Name\": \"chevrolet cavalier 2-door\", \"Origin\": \"USA\", \"Weight_in_lbs\": 2395, \"Year\": \"1982-01-01T00:00:00\"}, {\"Acceleration\": 16.2, \"Cylinders\": 4, \"Displacement\": 112.0, \"Horsepower\": 85.0, \"Miles_per_Gallon\": 31.0, \"Name\": \"pontiac j2000 se hatchback\", \"Origin\": \"USA\", \"Weight_in_lbs\": 2575, \"Year\": \"1982-01-01T00:00:00\"}, {\"Acceleration\": 16.0, \"Cylinders\": 4, \"Displacement\": 135.0, \"Horsepower\": 84.0, \"Miles_per_Gallon\": 29.0, \"Name\": \"dodge aries se\", \"Origin\": \"USA\", \"Weight_in_lbs\": 2525, \"Year\": \"1982-01-01T00:00:00\"}, {\"Acceleration\": 18.0, \"Cylinders\": 4, \"Displacement\": 151.0, \"Horsepower\": 90.0, \"Miles_per_Gallon\": 27.0, \"Name\": \"pontiac phoenix\", \"Origin\": \"USA\", \"Weight_in_lbs\": 2735, \"Year\": \"1982-01-01T00:00:00\"}, {\"Acceleration\": 16.4, \"Cylinders\": 4, \"Displacement\": 140.0, \"Horsepower\": 92.0, \"Miles_per_Gallon\": 24.0, \"Name\": \"ford fairmont futura\", \"Origin\": \"USA\", \"Weight_in_lbs\": 2865, \"Year\": \"1982-01-01T00:00:00\"}, {\"Acceleration\": 20.5, \"Cylinders\": 4, \"Displacement\": 151.0, \"Horsepower\": null, \"Miles_per_Gallon\": 23.0, \"Name\": \"amc concord dl\", \"Origin\": \"USA\", \"Weight_in_lbs\": 3035, \"Year\": \"1982-01-01T00:00:00\"}, {\"Acceleration\": 15.3, \"Cylinders\": 4, \"Displacement\": 105.0, \"Horsepower\": 74.0, \"Miles_per_Gallon\": 36.0, \"Name\": \"volkswagen rabbit l\", \"Origin\": \"Europe\", \"Weight_in_lbs\": 1980, \"Year\": \"1982-01-01T00:00:00\"}, {\"Acceleration\": 18.2, \"Cylinders\": 4, \"Displacement\": 91.0, \"Horsepower\": 68.0, \"Miles_per_Gallon\": 37.0, \"Name\": \"mazda glc custom l\", \"Origin\": \"Japan\", \"Weight_in_lbs\": 2025, \"Year\": \"1982-01-01T00:00:00\"}, {\"Acceleration\": 17.6, \"Cylinders\": 4, \"Displacement\": 91.0, \"Horsepower\": 68.0, \"Miles_per_Gallon\": 31.0, \"Name\": \"mazda glc custom\", \"Origin\": \"Japan\", \"Weight_in_lbs\": 1970, \"Year\": \"1982-01-01T00:00:00\"}, {\"Acceleration\": 14.7, \"Cylinders\": 4, \"Displacement\": 105.0, \"Horsepower\": 63.0, \"Miles_per_Gallon\": 38.0, \"Name\": \"plymouth horizon miser\", \"Origin\": \"USA\", \"Weight_in_lbs\": 2125, \"Year\": \"1982-01-01T00:00:00\"}, {\"Acceleration\": 17.3, \"Cylinders\": 4, \"Displacement\": 98.0, \"Horsepower\": 70.0, \"Miles_per_Gallon\": 36.0, \"Name\": \"mercury lynx l\", \"Origin\": \"USA\", \"Weight_in_lbs\": 2125, \"Year\": \"1982-01-01T00:00:00\"}, {\"Acceleration\": 14.5, \"Cylinders\": 4, \"Displacement\": 120.0, \"Horsepower\": 88.0, \"Miles_per_Gallon\": 36.0, \"Name\": \"nissan stanza xe\", \"Origin\": \"Japan\", \"Weight_in_lbs\": 2160, \"Year\": \"1982-01-01T00:00:00\"}, {\"Acceleration\": 14.5, \"Cylinders\": 4, \"Displacement\": 107.0, \"Horsepower\": 75.0, \"Miles_per_Gallon\": 36.0, \"Name\": \"honda Accelerationord\", \"Origin\": \"Japan\", \"Weight_in_lbs\": 2205, \"Year\": \"1982-01-01T00:00:00\"}, {\"Acceleration\": 16.9, \"Cylinders\": 4, \"Displacement\": 108.0, \"Horsepower\": 70.0, \"Miles_per_Gallon\": 34.0, \"Name\": \"toyota corolla\", \"Origin\": \"Japan\", \"Weight_in_lbs\": 2245, \"Year\": \"1982-01-01T00:00:00\"}, {\"Acceleration\": 15.0, \"Cylinders\": 4, \"Displacement\": 91.0, \"Horsepower\": 67.0, \"Miles_per_Gallon\": 38.0, \"Name\": \"honda civic\", \"Origin\": \"Japan\", \"Weight_in_lbs\": 1965, \"Year\": \"1982-01-01T00:00:00\"}, {\"Acceleration\": 15.7, \"Cylinders\": 4, \"Displacement\": 91.0, \"Horsepower\": 67.0, \"Miles_per_Gallon\": 32.0, \"Name\": \"honda civic (auto)\", \"Origin\": \"Japan\", \"Weight_in_lbs\": 1965, \"Year\": \"1982-01-01T00:00:00\"}, {\"Acceleration\": 16.2, \"Cylinders\": 4, \"Displacement\": 91.0, \"Horsepower\": 67.0, \"Miles_per_Gallon\": 38.0, \"Name\": \"datsun 310 gx\", \"Origin\": \"Japan\", \"Weight_in_lbs\": 1995, \"Year\": \"1982-01-01T00:00:00\"}, {\"Acceleration\": 16.4, \"Cylinders\": 6, \"Displacement\": 181.0, \"Horsepower\": 110.0, \"Miles_per_Gallon\": 25.0, \"Name\": \"buick century limited\", \"Origin\": \"USA\", \"Weight_in_lbs\": 2945, \"Year\": \"1982-01-01T00:00:00\"}, {\"Acceleration\": 17.0, \"Cylinders\": 6, \"Displacement\": 262.0, \"Horsepower\": 85.0, \"Miles_per_Gallon\": 38.0, \"Name\": \"oldsmobile cutlass ciera (diesel)\", \"Origin\": \"USA\", \"Weight_in_lbs\": 3015, \"Year\": \"1982-01-01T00:00:00\"}, {\"Acceleration\": 14.5, \"Cylinders\": 4, \"Displacement\": 156.0, \"Horsepower\": 92.0, \"Miles_per_Gallon\": 26.0, \"Name\": \"chrysler lebaron medallion\", \"Origin\": \"USA\", \"Weight_in_lbs\": 2585, \"Year\": \"1982-01-01T00:00:00\"}, {\"Acceleration\": 14.7, \"Cylinders\": 6, \"Displacement\": 232.0, \"Horsepower\": 112.0, \"Miles_per_Gallon\": 22.0, \"Name\": \"ford granada l\", \"Origin\": \"USA\", \"Weight_in_lbs\": 2835, \"Year\": \"1982-01-01T00:00:00\"}, {\"Acceleration\": 13.9, \"Cylinders\": 4, \"Displacement\": 144.0, \"Horsepower\": 96.0, \"Miles_per_Gallon\": 32.0, \"Name\": \"toyota celica gt\", \"Origin\": \"Japan\", \"Weight_in_lbs\": 2665, \"Year\": \"1982-01-01T00:00:00\"}, {\"Acceleration\": 13.0, \"Cylinders\": 4, \"Displacement\": 135.0, \"Horsepower\": 84.0, \"Miles_per_Gallon\": 36.0, \"Name\": \"dodge charger 2.2\", \"Origin\": \"USA\", \"Weight_in_lbs\": 2370, \"Year\": \"1982-01-01T00:00:00\"}, {\"Acceleration\": 17.3, \"Cylinders\": 4, \"Displacement\": 151.0, \"Horsepower\": 90.0, \"Miles_per_Gallon\": 27.0, \"Name\": \"chevrolet camaro\", \"Origin\": \"USA\", \"Weight_in_lbs\": 2950, \"Year\": \"1982-01-01T00:00:00\"}, {\"Acceleration\": 15.6, \"Cylinders\": 4, \"Displacement\": 140.0, \"Horsepower\": 86.0, \"Miles_per_Gallon\": 27.0, \"Name\": \"ford mustang gl\", \"Origin\": \"USA\", \"Weight_in_lbs\": 2790, \"Year\": \"1982-01-01T00:00:00\"}, {\"Acceleration\": 24.6, \"Cylinders\": 4, \"Displacement\": 97.0, \"Horsepower\": 52.0, \"Miles_per_Gallon\": 44.0, \"Name\": \"vw pickup\", \"Origin\": \"Europe\", \"Weight_in_lbs\": 2130, \"Year\": \"1982-01-01T00:00:00\"}, {\"Acceleration\": 11.6, \"Cylinders\": 4, \"Displacement\": 135.0, \"Horsepower\": 84.0, \"Miles_per_Gallon\": 32.0, \"Name\": \"dodge rampage\", \"Origin\": \"USA\", \"Weight_in_lbs\": 2295, \"Year\": \"1982-01-01T00:00:00\"}, {\"Acceleration\": 18.6, \"Cylinders\": 4, \"Displacement\": 120.0, \"Horsepower\": 79.0, \"Miles_per_Gallon\": 28.0, \"Name\": \"ford ranger\", \"Origin\": \"USA\", \"Weight_in_lbs\": 2625, \"Year\": \"1982-01-01T00:00:00\"}, {\"Acceleration\": 19.4, \"Cylinders\": 4, \"Displacement\": 119.0, \"Horsepower\": 82.0, \"Miles_per_Gallon\": 31.0, \"Name\": \"chevy s-10\", \"Origin\": \"USA\", \"Weight_in_lbs\": 2720, \"Year\": \"1982-01-01T00:00:00\"}]}};\n",
              "      var embedOpt = {\"mode\": \"vega-lite\"};\n",
              "\n",
              "      function showError(el, error){\n",
              "          el.innerHTML = ('<div class=\"error\" style=\"color:red;\">'\n",
              "                          + '<p>JavaScript Error: ' + error.message + '</p>'\n",
              "                          + \"<p>This usually means there's a typo in your chart specification. \"\n",
              "                          + \"See the javascript console for the full traceback.</p>\"\n",
              "                          + '</div>');\n",
              "          throw error;\n",
              "      }\n",
              "      const el = document.getElementById('altair-viz');\n",
              "      vegaEmbed(\"#altair-viz\", spec, embedOpt)\n",
              "        .catch(error => showError(el, error));\n",
              "\n",
              "  </script>\n",
              "</body>\n",
              "</html>"
            ]
          },
          "metadata": {
            "tags": []
          },
          "execution_count": 5
        }
      ]
    },
    {
      "metadata": {
        "id": "2uRvxE1ZC5QX",
        "colab_type": "text"
      },
      "cell_type": "markdown",
      "source": [
        "## VM Info"
      ]
    },
    {
      "metadata": {
        "id": "d6Hvecz6C8Fl",
        "colab_type": "text"
      },
      "cell_type": "markdown",
      "source": [
        "### Software info (OS, Python Version)"
      ]
    },
    {
      "metadata": {
        "id": "SmBtOLTzDB3u",
        "colab_type": "code",
        "outputId": "df0c3366-5509-438b-9cd6-c4a398313e68",
        "colab": {
          "base_uri": "https://localhost:8080/",
          "height": 131
        }
      },
      "cell_type": "code",
      "source": [
        "!lsb_release -a"
      ],
      "execution_count": 0,
      "outputs": [
        {
          "output_type": "stream",
          "text": [
            "No LSB modules are available.\n",
            "Distributor ID:\tUbuntu\n",
            "Description:\tUbuntu 18.04.1 LTS\n",
            "Release:\t18.04\n",
            "Codename:\tbionic\n"
          ],
          "name": "stdout"
        }
      ]
    },
    {
      "metadata": {
        "id": "darCFM0cDGqS",
        "colab_type": "code",
        "outputId": "e626bc23-e2e7-406c-e551-a746d79d2306",
        "colab": {
          "base_uri": "https://localhost:8080/",
          "height": 63
        }
      },
      "cell_type": "code",
      "source": [
        "!python3 --version"
      ],
      "execution_count": 0,
      "outputs": [
        {
          "output_type": "stream",
          "text": [
            "Python 3.6.7\n"
          ],
          "name": "stdout"
        }
      ]
    },
    {
      "metadata": {
        "id": "gKA-4KoIDK2T",
        "colab_type": "text"
      },
      "cell_type": "markdown",
      "source": [
        "### Hardware Info"
      ]
    },
    {
      "metadata": {
        "id": "YqMi_h78EDID",
        "colab_type": "text"
      },
      "cell_type": "markdown",
      "source": [
        "**CPU:**"
      ]
    },
    {
      "metadata": {
        "id": "1IXuYUTSEGu2",
        "colab_type": "code",
        "outputId": "b0655fc2-c348-452b-c20c-79c0da325d45",
        "colab": {
          "base_uri": "https://localhost:8080/",
          "height": 634
        }
      },
      "cell_type": "code",
      "source": [
        "!lscpu"
      ],
      "execution_count": 0,
      "outputs": [
        {
          "output_type": "stream",
          "text": [
            "Architecture:        x86_64\n",
            "CPU op-mode(s):      32-bit, 64-bit\n",
            "Byte Order:          Little Endian\n",
            "CPU(s):              2\n",
            "On-line CPU(s) list: 0,1\n",
            "Thread(s) per core:  2\n",
            "Core(s) per socket:  1\n",
            "Socket(s):           1\n",
            "NUMA node(s):        1\n",
            "Vendor ID:           GenuineIntel\n",
            "CPU family:          6\n",
            "Model:               63\n",
            "Model name:          Intel(R) Xeon(R) CPU @ 2.30GHz\n",
            "Stepping:            0\n",
            "CPU MHz:             2300.000\n",
            "BogoMIPS:            4600.00\n",
            "Hypervisor vendor:   KVM\n",
            "Virtualization type: full\n",
            "L1d cache:           32K\n",
            "L1i cache:           32K\n",
            "L2 cache:            256K\n",
            "L3 cache:            46080K\n",
            "NUMA node0 CPU(s):   0,1\n",
            "Flags:               fpu vme de pse tsc msr pae mce cx8 apic sep mtrr pge mca cmov pat pse36 clflush mmx fxsr sse sse2 ss ht syscall nx pdpe1gb rdtscp lm constant_tsc rep_good nopl xtopology nonstop_tsc cpuid tsc_known_freq pni pclmulqdq ssse3 fma cx16 pcid sse4_1 sse4_2 x2apic movbe popcnt aes xsave avx f16c rdrand hypervisor lahf_lm abm invpcid_single pti ssbd ibrs ibpb stibp fsgsbase tsc_adjust bmi1 avx2 smep bmi2 erms invpcid xsaveopt arat arch_capabilities\n"
          ],
          "name": "stdout"
        }
      ]
    },
    {
      "metadata": {
        "id": "wjxBleHlEJ4d",
        "colab_type": "text"
      },
      "cell_type": "markdown",
      "source": [
        "**Memory:**"
      ]
    },
    {
      "metadata": {
        "id": "_c6Xfr50EMQD",
        "colab_type": "code",
        "outputId": "e85c2c1c-d556-4ac1-9d2b-56f9c20d3641",
        "colab": {
          "base_uri": "https://localhost:8080/",
          "height": 277
        }
      },
      "cell_type": "code",
      "source": [
        "!free -m"
      ],
      "execution_count": 0,
      "outputs": [
        {
          "output_type": "stream",
          "text": [
            "              total        used        free      shared  buff/cache   available\n",
            "Mem:          13022         438       10568           0        2015       12326\n",
            "Swap:             0           0           0\n"
          ],
          "name": "stdout"
        }
      ]
    },
    {
      "metadata": {
        "id": "4KKDvsjqHnvS",
        "colab_type": "text"
      },
      "cell_type": "markdown",
      "source": [
        "**GPU:**"
      ]
    },
    {
      "metadata": {
        "id": "8qZTykVVFjkA",
        "colab_type": "code",
        "outputId": "c32af897-79e6-4c09-c5d3-cc892b7db97d",
        "colab": {
          "base_uri": "https://localhost:8080/",
          "height": 68
        }
      },
      "cell_type": "code",
      "source": [
        "!ln -sf /opt/bin/nvidia-smi /usr/bin/nvidia-smi\n",
        "!pip install gputil humanize --quiet\n",
        "\n",
        "import humanize\n",
        "import GPUtil as GPU\n",
        "\n",
        "gpu = GPU.getGPUs()[0]\n",
        "print(gpu.name)\n",
        "print(\"GPU RAM Free: {0:.0f}MB | Used: {1:.0f}MB | Util {2:3.0f}% | Total {3:.0f}MB\".format(gpu.memoryFree, gpu.memoryUsed, gpu.memoryUtil*100, gpu.memoryTotal))"
      ],
      "execution_count": 0,
      "outputs": [
        {
          "output_type": "stream",
          "text": [
            "  Building wheel for gputil (setup.py) ... \u001b[?25ldone\n",
            "\u001b[?25hTesla K80\n",
            "GPU RAM Free: 11441MB | Used: 0MB | Util   0% | Total 11441MB\n"
          ],
          "name": "stdout"
        }
      ]
    },
    {
      "metadata": {
        "id": "Up8d9I0cJIsR",
        "colab_type": "text"
      },
      "cell_type": "markdown",
      "source": [
        "## Data Import"
      ]
    },
    {
      "metadata": {
        "id": "nf2koWW1JLhd",
        "colab_type": "text"
      },
      "cell_type": "markdown",
      "source": [
        "### Using `wget`:"
      ]
    },
    {
      "metadata": {
        "id": "AVImX1LQJQ5p",
        "colab_type": "code",
        "outputId": "3b9464a6-6bfb-4941-88bd-c11b2eba7647",
        "colab": {
          "base_uri": "https://localhost:8080/",
          "height": 413
        }
      },
      "cell_type": "code",
      "source": [
        "!wget https://raw.githubusercontent.com/vincentarelbundock/Rdatasets/master/csv/datasets/Titanic.csv"
      ],
      "execution_count": 0,
      "outputs": [
        {
          "output_type": "stream",
          "text": [
            "--2019-02-19 13:18:21--  https://raw.githubusercontent.com/vincentarelbundock/Rdatasets/master/csv/datasets/Titanic.csv\n",
            "Resolving raw.githubusercontent.com (raw.githubusercontent.com)... 151.101.0.133, 151.101.64.133, 151.101.128.133, ...\n",
            "Connecting to raw.githubusercontent.com (raw.githubusercontent.com)|151.101.0.133|:443... connected.\n",
            "HTTP request sent, awaiting response... 200 OK\n",
            "Length: 1170 (1.1K) [text/plain]\n",
            "Saving to: ‘Titanic.csv’\n",
            "\n",
            "\rTitanic.csv           0%[                    ]       0  --.-KB/s               \rTitanic.csv         100%[===================>]   1.14K  --.-KB/s    in 0s      \n",
            "\n",
            "2019-02-19 13:18:21 (212 MB/s) - ‘Titanic.csv’ saved [1170/1170]\n",
            "\n"
          ],
          "name": "stdout"
        }
      ]
    },
    {
      "metadata": {
        "id": "w886jQOuKe_n",
        "colab_type": "code",
        "outputId": "d3265ffa-ffac-43e6-d149-81ea3aa46240",
        "colab": {
          "base_uri": "https://localhost:8080/",
          "height": 1041
        }
      },
      "cell_type": "code",
      "source": [
        "import pandas as pd\n",
        "pd.read_csv('Titanic.csv')"
      ],
      "execution_count": 0,
      "outputs": [
        {
          "output_type": "execute_result",
          "data": {
            "text/html": [
              "<div>\n",
              "<style scoped>\n",
              "    .dataframe tbody tr th:only-of-type {\n",
              "        vertical-align: middle;\n",
              "    }\n",
              "\n",
              "    .dataframe tbody tr th {\n",
              "        vertical-align: top;\n",
              "    }\n",
              "\n",
              "    .dataframe thead th {\n",
              "        text-align: right;\n",
              "    }\n",
              "</style>\n",
              "<table border=\"1\" class=\"dataframe\">\n",
              "  <thead>\n",
              "    <tr style=\"text-align: right;\">\n",
              "      <th></th>\n",
              "      <th>Unnamed: 0</th>\n",
              "      <th>Class</th>\n",
              "      <th>Sex</th>\n",
              "      <th>Age</th>\n",
              "      <th>Survived</th>\n",
              "      <th>Freq</th>\n",
              "    </tr>\n",
              "  </thead>\n",
              "  <tbody>\n",
              "    <tr>\n",
              "      <th>0</th>\n",
              "      <td>1</td>\n",
              "      <td>1st</td>\n",
              "      <td>Male</td>\n",
              "      <td>Child</td>\n",
              "      <td>No</td>\n",
              "      <td>0</td>\n",
              "    </tr>\n",
              "    <tr>\n",
              "      <th>1</th>\n",
              "      <td>2</td>\n",
              "      <td>2nd</td>\n",
              "      <td>Male</td>\n",
              "      <td>Child</td>\n",
              "      <td>No</td>\n",
              "      <td>0</td>\n",
              "    </tr>\n",
              "    <tr>\n",
              "      <th>2</th>\n",
              "      <td>3</td>\n",
              "      <td>3rd</td>\n",
              "      <td>Male</td>\n",
              "      <td>Child</td>\n",
              "      <td>No</td>\n",
              "      <td>35</td>\n",
              "    </tr>\n",
              "    <tr>\n",
              "      <th>3</th>\n",
              "      <td>4</td>\n",
              "      <td>Crew</td>\n",
              "      <td>Male</td>\n",
              "      <td>Child</td>\n",
              "      <td>No</td>\n",
              "      <td>0</td>\n",
              "    </tr>\n",
              "    <tr>\n",
              "      <th>4</th>\n",
              "      <td>5</td>\n",
              "      <td>1st</td>\n",
              "      <td>Female</td>\n",
              "      <td>Child</td>\n",
              "      <td>No</td>\n",
              "      <td>0</td>\n",
              "    </tr>\n",
              "    <tr>\n",
              "      <th>5</th>\n",
              "      <td>6</td>\n",
              "      <td>2nd</td>\n",
              "      <td>Female</td>\n",
              "      <td>Child</td>\n",
              "      <td>No</td>\n",
              "      <td>0</td>\n",
              "    </tr>\n",
              "    <tr>\n",
              "      <th>6</th>\n",
              "      <td>7</td>\n",
              "      <td>3rd</td>\n",
              "      <td>Female</td>\n",
              "      <td>Child</td>\n",
              "      <td>No</td>\n",
              "      <td>17</td>\n",
              "    </tr>\n",
              "    <tr>\n",
              "      <th>7</th>\n",
              "      <td>8</td>\n",
              "      <td>Crew</td>\n",
              "      <td>Female</td>\n",
              "      <td>Child</td>\n",
              "      <td>No</td>\n",
              "      <td>0</td>\n",
              "    </tr>\n",
              "    <tr>\n",
              "      <th>8</th>\n",
              "      <td>9</td>\n",
              "      <td>1st</td>\n",
              "      <td>Male</td>\n",
              "      <td>Adult</td>\n",
              "      <td>No</td>\n",
              "      <td>118</td>\n",
              "    </tr>\n",
              "    <tr>\n",
              "      <th>9</th>\n",
              "      <td>10</td>\n",
              "      <td>2nd</td>\n",
              "      <td>Male</td>\n",
              "      <td>Adult</td>\n",
              "      <td>No</td>\n",
              "      <td>154</td>\n",
              "    </tr>\n",
              "    <tr>\n",
              "      <th>10</th>\n",
              "      <td>11</td>\n",
              "      <td>3rd</td>\n",
              "      <td>Male</td>\n",
              "      <td>Adult</td>\n",
              "      <td>No</td>\n",
              "      <td>387</td>\n",
              "    </tr>\n",
              "    <tr>\n",
              "      <th>11</th>\n",
              "      <td>12</td>\n",
              "      <td>Crew</td>\n",
              "      <td>Male</td>\n",
              "      <td>Adult</td>\n",
              "      <td>No</td>\n",
              "      <td>670</td>\n",
              "    </tr>\n",
              "    <tr>\n",
              "      <th>12</th>\n",
              "      <td>13</td>\n",
              "      <td>1st</td>\n",
              "      <td>Female</td>\n",
              "      <td>Adult</td>\n",
              "      <td>No</td>\n",
              "      <td>4</td>\n",
              "    </tr>\n",
              "    <tr>\n",
              "      <th>13</th>\n",
              "      <td>14</td>\n",
              "      <td>2nd</td>\n",
              "      <td>Female</td>\n",
              "      <td>Adult</td>\n",
              "      <td>No</td>\n",
              "      <td>13</td>\n",
              "    </tr>\n",
              "    <tr>\n",
              "      <th>14</th>\n",
              "      <td>15</td>\n",
              "      <td>3rd</td>\n",
              "      <td>Female</td>\n",
              "      <td>Adult</td>\n",
              "      <td>No</td>\n",
              "      <td>89</td>\n",
              "    </tr>\n",
              "    <tr>\n",
              "      <th>15</th>\n",
              "      <td>16</td>\n",
              "      <td>Crew</td>\n",
              "      <td>Female</td>\n",
              "      <td>Adult</td>\n",
              "      <td>No</td>\n",
              "      <td>3</td>\n",
              "    </tr>\n",
              "    <tr>\n",
              "      <th>16</th>\n",
              "      <td>17</td>\n",
              "      <td>1st</td>\n",
              "      <td>Male</td>\n",
              "      <td>Child</td>\n",
              "      <td>Yes</td>\n",
              "      <td>5</td>\n",
              "    </tr>\n",
              "    <tr>\n",
              "      <th>17</th>\n",
              "      <td>18</td>\n",
              "      <td>2nd</td>\n",
              "      <td>Male</td>\n",
              "      <td>Child</td>\n",
              "      <td>Yes</td>\n",
              "      <td>11</td>\n",
              "    </tr>\n",
              "    <tr>\n",
              "      <th>18</th>\n",
              "      <td>19</td>\n",
              "      <td>3rd</td>\n",
              "      <td>Male</td>\n",
              "      <td>Child</td>\n",
              "      <td>Yes</td>\n",
              "      <td>13</td>\n",
              "    </tr>\n",
              "    <tr>\n",
              "      <th>19</th>\n",
              "      <td>20</td>\n",
              "      <td>Crew</td>\n",
              "      <td>Male</td>\n",
              "      <td>Child</td>\n",
              "      <td>Yes</td>\n",
              "      <td>0</td>\n",
              "    </tr>\n",
              "    <tr>\n",
              "      <th>20</th>\n",
              "      <td>21</td>\n",
              "      <td>1st</td>\n",
              "      <td>Female</td>\n",
              "      <td>Child</td>\n",
              "      <td>Yes</td>\n",
              "      <td>1</td>\n",
              "    </tr>\n",
              "    <tr>\n",
              "      <th>21</th>\n",
              "      <td>22</td>\n",
              "      <td>2nd</td>\n",
              "      <td>Female</td>\n",
              "      <td>Child</td>\n",
              "      <td>Yes</td>\n",
              "      <td>13</td>\n",
              "    </tr>\n",
              "    <tr>\n",
              "      <th>22</th>\n",
              "      <td>23</td>\n",
              "      <td>3rd</td>\n",
              "      <td>Female</td>\n",
              "      <td>Child</td>\n",
              "      <td>Yes</td>\n",
              "      <td>14</td>\n",
              "    </tr>\n",
              "    <tr>\n",
              "      <th>23</th>\n",
              "      <td>24</td>\n",
              "      <td>Crew</td>\n",
              "      <td>Female</td>\n",
              "      <td>Child</td>\n",
              "      <td>Yes</td>\n",
              "      <td>0</td>\n",
              "    </tr>\n",
              "    <tr>\n",
              "      <th>24</th>\n",
              "      <td>25</td>\n",
              "      <td>1st</td>\n",
              "      <td>Male</td>\n",
              "      <td>Adult</td>\n",
              "      <td>Yes</td>\n",
              "      <td>57</td>\n",
              "    </tr>\n",
              "    <tr>\n",
              "      <th>25</th>\n",
              "      <td>26</td>\n",
              "      <td>2nd</td>\n",
              "      <td>Male</td>\n",
              "      <td>Adult</td>\n",
              "      <td>Yes</td>\n",
              "      <td>14</td>\n",
              "    </tr>\n",
              "    <tr>\n",
              "      <th>26</th>\n",
              "      <td>27</td>\n",
              "      <td>3rd</td>\n",
              "      <td>Male</td>\n",
              "      <td>Adult</td>\n",
              "      <td>Yes</td>\n",
              "      <td>75</td>\n",
              "    </tr>\n",
              "    <tr>\n",
              "      <th>27</th>\n",
              "      <td>28</td>\n",
              "      <td>Crew</td>\n",
              "      <td>Male</td>\n",
              "      <td>Adult</td>\n",
              "      <td>Yes</td>\n",
              "      <td>192</td>\n",
              "    </tr>\n",
              "    <tr>\n",
              "      <th>28</th>\n",
              "      <td>29</td>\n",
              "      <td>1st</td>\n",
              "      <td>Female</td>\n",
              "      <td>Adult</td>\n",
              "      <td>Yes</td>\n",
              "      <td>140</td>\n",
              "    </tr>\n",
              "    <tr>\n",
              "      <th>29</th>\n",
              "      <td>30</td>\n",
              "      <td>2nd</td>\n",
              "      <td>Female</td>\n",
              "      <td>Adult</td>\n",
              "      <td>Yes</td>\n",
              "      <td>80</td>\n",
              "    </tr>\n",
              "    <tr>\n",
              "      <th>30</th>\n",
              "      <td>31</td>\n",
              "      <td>3rd</td>\n",
              "      <td>Female</td>\n",
              "      <td>Adult</td>\n",
              "      <td>Yes</td>\n",
              "      <td>76</td>\n",
              "    </tr>\n",
              "    <tr>\n",
              "      <th>31</th>\n",
              "      <td>32</td>\n",
              "      <td>Crew</td>\n",
              "      <td>Female</td>\n",
              "      <td>Adult</td>\n",
              "      <td>Yes</td>\n",
              "      <td>20</td>\n",
              "    </tr>\n",
              "  </tbody>\n",
              "</table>\n",
              "</div>"
            ],
            "text/plain": [
              "    Unnamed: 0 Class     Sex    Age Survived  Freq\n",
              "0            1   1st    Male  Child       No     0\n",
              "1            2   2nd    Male  Child       No     0\n",
              "2            3   3rd    Male  Child       No    35\n",
              "3            4  Crew    Male  Child       No     0\n",
              "4            5   1st  Female  Child       No     0\n",
              "5            6   2nd  Female  Child       No     0\n",
              "6            7   3rd  Female  Child       No    17\n",
              "7            8  Crew  Female  Child       No     0\n",
              "8            9   1st    Male  Adult       No   118\n",
              "9           10   2nd    Male  Adult       No   154\n",
              "10          11   3rd    Male  Adult       No   387\n",
              "11          12  Crew    Male  Adult       No   670\n",
              "12          13   1st  Female  Adult       No     4\n",
              "13          14   2nd  Female  Adult       No    13\n",
              "14          15   3rd  Female  Adult       No    89\n",
              "15          16  Crew  Female  Adult       No     3\n",
              "16          17   1st    Male  Child      Yes     5\n",
              "17          18   2nd    Male  Child      Yes    11\n",
              "18          19   3rd    Male  Child      Yes    13\n",
              "19          20  Crew    Male  Child      Yes     0\n",
              "20          21   1st  Female  Child      Yes     1\n",
              "21          22   2nd  Female  Child      Yes    13\n",
              "22          23   3rd  Female  Child      Yes    14\n",
              "23          24  Crew  Female  Child      Yes     0\n",
              "24          25   1st    Male  Adult      Yes    57\n",
              "25          26   2nd    Male  Adult      Yes    14\n",
              "26          27   3rd    Male  Adult      Yes    75\n",
              "27          28  Crew    Male  Adult      Yes   192\n",
              "28          29   1st  Female  Adult      Yes   140\n",
              "29          30   2nd  Female  Adult      Yes    80\n",
              "30          31   3rd  Female  Adult      Yes    76\n",
              "31          32  Crew  Female  Adult      Yes    20"
            ]
          },
          "metadata": {
            "tags": []
          },
          "execution_count": 12
        }
      ]
    },
    {
      "metadata": {
        "id": "FZyrt3Si3vF9",
        "colab_type": "text"
      },
      "cell_type": "markdown",
      "source": [
        "### Using Git"
      ]
    },
    {
      "metadata": {
        "id": "VMCYpvXv3wRl",
        "colab_type": "code",
        "outputId": "932ceacc-fddf-47eb-bd46-9ab465198b97",
        "colab": {
          "base_uri": "https://localhost:8080/",
          "height": 165
        }
      },
      "cell_type": "code",
      "source": [
        "!git clone https://github.com/Jakobovski/free-spoken-digit-dataset.git"
      ],
      "execution_count": 0,
      "outputs": [
        {
          "output_type": "stream",
          "text": [
            "Cloning into 'free-spoken-digit-dataset'...\n",
            "remote: Enumerating objects: 535, done.\u001b[K\n",
            "remote: Counting objects:   0% (1/535)   \u001b[K\rremote: Counting objects:   1% (6/535)   \u001b[K\rremote: Counting objects:   2% (11/535)   \u001b[K\rremote: Counting objects:   3% (17/535)   \u001b[K\rremote: Counting objects:   4% (22/535)   \u001b[K\rremote: Counting objects:   5% (27/535)   \u001b[K\rremote: Counting objects:   6% (33/535)   \u001b[K\rremote: Counting objects:   7% (38/535)   \u001b[K\rremote: Counting objects:   8% (43/535)   \u001b[K\rremote: Counting objects:   9% (49/535)   \u001b[K\rremote: Counting objects:  10% (54/535)   \u001b[K\rremote: Counting objects:  11% (59/535)   \u001b[K\rremote: Counting objects:  12% (65/535)   \u001b[K\rremote: Counting objects:  13% (70/535)   \u001b[K\rremote: Counting objects:  14% (75/535)   \u001b[K\rremote: Counting objects:  15% (81/535)   \u001b[K\rremote: Counting objects:  16% (86/535)   \u001b[K\rremote: Counting objects:  17% (91/535)   \u001b[K\rremote: Counting objects:  18% (97/535)   \u001b[K\rremote: Counting objects:  19% (102/535)   \u001b[K\rremote: Counting objects:  20% (107/535)   \u001b[K\rremote: Counting objects:  21% (113/535)   \u001b[K\rremote: Counting objects:  22% (118/535)   \u001b[K\rremote: Counting objects:  23% (124/535)   \u001b[K\rremote: Counting objects:  24% (129/535)   \u001b[K\rremote: Counting objects:  25% (134/535)   \u001b[K\rremote: Counting objects:  26% (140/535)   \u001b[K\rremote: Counting objects:  27% (145/535)   \u001b[K\rremote: Counting objects:  28% (150/535)   \u001b[K\rremote: Counting objects:  29% (156/535)   \u001b[K\rremote: Counting objects:  30% (161/535)   \u001b[K\rremote: Counting objects:  31% (166/535)   \u001b[K\rremote: Counting objects:  32% (172/535)   \u001b[K\rremote: Counting objects:  33% (177/535)   \u001b[K\rremote: Counting objects:  34% (182/535)   \u001b[K\rremote: Counting objects:  35% (188/535)   \u001b[K\rremote: Counting objects:  36% (193/535)   \u001b[K\rremote: Counting objects:  37% (198/535)   \u001b[K\rremote: Counting objects:  38% (204/535)   \u001b[K\rremote: Counting objects:  39% (209/535)   \u001b[K\rremote: Counting objects:  40% (214/535)   \u001b[K\rremote: Counting objects:  41% (220/535)   \u001b[K\rremote: Counting objects:  42% (225/535)   \u001b[K\rremote: Counting objects:  43% (231/535)   \u001b[K\rremote: Counting objects:  44% (236/535)   \u001b[K\rremote: Counting objects:  45% (241/535)   \u001b[K\rremote: Counting objects:  46% (247/535)   \u001b[K\rremote: Counting objects:  47% (252/535)   \u001b[K\rremote: Counting objects:  48% (257/535)   \u001b[K\rremote: Counting objects:  49% (263/535)   \u001b[K\rremote: Counting objects:  50% (268/535)   \u001b[K\rremote: Counting objects:  51% (273/535)   \u001b[K\rremote: Counting objects:  52% (279/535)   \u001b[K\rremote: Counting objects:  53% (284/535)   \u001b[K\rremote: Counting objects:  54% (289/535)   \u001b[K\rremote: Counting objects:  55% (295/535)   \u001b[K\rremote: Counting objects:  56% (300/535)   \u001b[K\rremote: Counting objects:  57% (305/535)   \u001b[K\rremote: Counting objects:  58% (311/535)   \u001b[K\rremote: Counting objects:  59% (316/535)   \u001b[K\rremote: Counting objects:  60% (321/535)   \u001b[K\rremote: Counting objects:  61% (327/535)   \u001b[K\rremote: Counting objects:  62% (332/535)   \u001b[K\rremote: Counting objects:  63% (338/535)   \u001b[K\rremote: Counting objects:  64% (343/535)   \u001b[K\rremote: Counting objects:  65% (348/535)   \u001b[K\rremote: Counting objects:  66% (354/535)   \u001b[K\rremote: Counting objects:  67% (359/535)   \u001b[K\rremote: Counting objects:  68% (364/535)   \u001b[K\rremote: Counting objects:  69% (370/535)   \u001b[K\rremote: Counting objects:  70% (375/535)   \u001b[K\rremote: Counting objects:  71% (380/535)   \u001b[K\rremote: Counting objects:  72% (386/535)   \u001b[K\rremote: Counting objects:  73% (391/535)   \u001b[K\rremote: Counting objects:  74% (396/535)   \u001b[K\rremote: Counting objects:  75% (402/535)   \u001b[K\rremote: Counting objects:  76% (407/535)   \u001b[K\rremote: Counting objects:  77% (412/535)   \u001b[K\rremote: Counting objects:  78% (418/535)   \u001b[K\rremote: Counting objects:  79% (423/535)   \u001b[K\rremote: Counting objects:  80% (428/535)   \u001b[K\rremote: Counting objects:  81% (434/535)   \u001b[K\rremote: Counting objects:  82% (439/535)   \u001b[K\rremote: Counting objects:  83% (445/535)   \u001b[K\rremote: Counting objects:  84% (450/535)   \u001b[K\rremote: Counting objects:  85% (455/535)   \u001b[K\rremote: Counting objects:  86% (461/535)   \u001b[K\rremote: Counting objects:  87% (466/535)   \u001b[K\rremote: Counting objects:  88% (471/535)   \u001b[K\rremote: Counting objects:  89% (477/535)   \u001b[K\rremote: Counting objects:  90% (482/535)   \u001b[K\rremote: Counting objects:  91% (487/535)   \u001b[K\rremote: Counting objects:  92% (493/535)   \u001b[K\rremote: Counting objects:  93% (498/535)   \u001b[K\rremote: Counting objects:  94% (503/535)   \u001b[K\rremote: Counting objects:  95% (509/535)   \u001b[K\rremote: Counting objects:  96% (514/535)   \u001b[K\rremote: Counting objects:  97% (519/535)   \u001b[K\rremote: Counting objects:  98% (525/535)   \u001b[K\rremote: Counting objects:  99% (530/535)   \u001b[K\rremote: Counting objects: 100% (535/535)   \u001b[K\rremote: Counting objects: 100% (535/535), done.\u001b[K\n",
            "remote: Compressing objects: 100% (529/529), done.\u001b[K\n",
            "remote: Total 3133 (delta 10), reused 529 (delta 6), pack-reused 2598\u001b[K\n",
            "Receiving objects: 100% (3133/3133), 23.91 MiB | 3.35 MiB/s, done.\n",
            "Resolving deltas: 100% (53/53), done.\n"
          ],
          "name": "stdout"
        }
      ]
    },
    {
      "metadata": {
        "id": "TsASxi8MK4z2",
        "colab_type": "text"
      },
      "cell_type": "markdown",
      "source": [
        "### Upload from your computer"
      ]
    },
    {
      "metadata": {
        "id": "srvt4arDLBKT",
        "colab_type": "code",
        "outputId": "639133c9-64c5-450a-fe03-5a34601009b8",
        "colab": {
          "resources": {
            "http://localhost:8080/nbextensions/google.colab/files.js": {
              "data": "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",
              "ok": true,
              "headers": [
                [
                  "content-type",
                  "application/javascript"
                ]
              ],
              "status": 200,
              "status_text": ""
            }
          },
          "base_uri": "https://localhost:8080/",
          "height": 92
        }
      },
      "cell_type": "code",
      "source": [
        "from google.colab import files\n",
        "\n",
        "uploaded = files.upload()\n",
        "\n",
        "for fn in uploaded.keys():\n",
        "  print('User uploaded file \"{name}\" with length {length} bytes'.format(name=fn, length=len(uploaded[fn])))"
      ],
      "execution_count": 0,
      "outputs": [
        {
          "output_type": "display_data",
          "data": {
            "text/html": [
              "\n",
              "     <input type=\"file\" id=\"files-9d213f77-b04a-4d04-a57a-73ae2eb30e2f\" name=\"files[]\" multiple disabled />\n",
              "     <output id=\"result-9d213f77-b04a-4d04-a57a-73ae2eb30e2f\">\n",
              "      Upload widget is only available when the cell has been executed in the\n",
              "      current browser session. Please rerun this cell to enable.\n",
              "      </output>\n",
              "      <script src=\"/nbextensions/google.colab/files.js\"></script> "
            ],
            "text/plain": [
              "<IPython.core.display.HTML object>"
            ]
          },
          "metadata": {
            "tags": []
          }
        },
        {
          "output_type": "stream",
          "text": [
            "Saving test.py to test.py\n",
            "User uploaded file \"test.py\" with length 42 bytes\n"
          ],
          "name": "stdout"
        }
      ]
    },
    {
      "metadata": {
        "id": "N4PTPodtLhvY",
        "colab_type": "code",
        "outputId": "061d3723-2e3d-4853-9a54-8f57629455f3",
        "colab": {
          "base_uri": "https://localhost:8080/",
          "height": 63
        }
      },
      "cell_type": "code",
      "source": [
        "!python3 test.py"
      ],
      "execution_count": 0,
      "outputs": [
        {
          "output_type": "stream",
          "text": [
            "This is a script from my computer\n"
          ],
          "name": "stdout"
        }
      ]
    },
    {
      "metadata": {
        "id": "nZyz0HbjLv8W",
        "colab_type": "text"
      },
      "cell_type": "markdown",
      "source": [
        "### Download file from colab"
      ]
    },
    {
      "metadata": {
        "id": "DYZxekO1L6hc",
        "colab_type": "code",
        "colab": {}
      },
      "cell_type": "code",
      "source": [
        "from google.colab import files\n",
        "import time\n",
        "\n",
        "with open('colab_file.txt', 'w') as f:\n",
        "  f.write('This file created in current Colab instance at ' + str(time.time()))\n",
        "\n",
        "files.download('colab_file.txt')"
      ],
      "execution_count": 0,
      "outputs": []
    },
    {
      "metadata": {
        "id": "3butPeJVMcs0",
        "colab_type": "text"
      },
      "cell_type": "markdown",
      "source": [
        "### Using Google Drive"
      ]
    },
    {
      "metadata": {
        "id": "txuHTX65Mhqt",
        "colab_type": "code",
        "outputId": "c78335ab-4c72-4ece-f4d3-dc7527de9d64",
        "colab": {
          "base_uri": "https://localhost:8080/",
          "height": 189
        }
      },
      "cell_type": "code",
      "source": [
        "from google.colab import drive\n",
        "drive.mount('/content/drive')"
      ],
      "execution_count": 0,
      "outputs": [
        {
          "output_type": "stream",
          "text": [
            "Go to this URL in a browser: https://accounts.google.com/o/oauth2/auth?client_id=947318989803-6bn6qk8qdgf4n4g3pfee6491hc0brc4i.apps.googleusercontent.com&redirect_uri=urn%3Aietf%3Awg%3Aoauth%3A2.0%3Aoob&scope=email%20https%3A%2F%2Fwww.googleapis.com%2Fauth%2Fdocs.test%20https%3A%2F%2Fwww.googleapis.com%2Fauth%2Fdrive%20https%3A%2F%2Fwww.googleapis.com%2Fauth%2Fdrive.photos.readonly%20https%3A%2F%2Fwww.googleapis.com%2Fauth%2Fpeopleapi.readonly&response_type=code\n",
            "\n",
            "Enter your authorization code:\n",
            "··········\n",
            "Mounted at /content/drive\n"
          ],
          "name": "stdout"
        }
      ]
    },
    {
      "metadata": {
        "id": "HzE0tYz_NDZ7",
        "colab_type": "code",
        "outputId": "f2a1fc84-cb28-40f5-b49c-50290d5020be",
        "colab": {
          "base_uri": "https://localhost:8080/",
          "height": 310
        }
      },
      "cell_type": "code",
      "source": [
        "!apt install tree -y > /dev/null\n",
        "!tree \"/content/drive/My Drive\""
      ],
      "execution_count": 0,
      "outputs": [
        {
          "output_type": "stream",
          "text": [
            "\n",
            "WARNING: apt does not have a stable CLI interface. Use with caution in scripts.\n",
            "\n",
            "/content/drive/My Drive\n",
            "├── Colab Notebooks\n",
            "│   └── Colab Intro.ipynb\n",
            "├── datasets\n",
            "│   └── biostats.csv\n",
            "├── Untitled form.gform\n",
            "└── Untitled form (Responses).gsheet\n",
            "\n",
            "2 directories, 4 files\n"
          ],
          "name": "stdout"
        }
      ]
    },
    {
      "metadata": {
        "id": "-Y6rPjQOOQKt",
        "colab_type": "code",
        "outputId": "689170a4-dbe6-414b-b377-bd6f792c99ed",
        "colab": {
          "base_uri": "https://localhost:8080/",
          "height": 607
        }
      },
      "cell_type": "code",
      "source": [
        "from pathlib import Path\n",
        "GDRIVE_DIR = Path(\"/content/drive/My Drive\")\n",
        "\n",
        "pd.read_csv(GDRIVE_DIR / 'datasets' / 'biostats.csv')"
      ],
      "execution_count": 0,
      "outputs": [
        {
          "output_type": "execute_result",
          "data": {
            "text/html": [
              "<div>\n",
              "<style scoped>\n",
              "    .dataframe tbody tr th:only-of-type {\n",
              "        vertical-align: middle;\n",
              "    }\n",
              "\n",
              "    .dataframe tbody tr th {\n",
              "        vertical-align: top;\n",
              "    }\n",
              "\n",
              "    .dataframe thead th {\n",
              "        text-align: right;\n",
              "    }\n",
              "</style>\n",
              "<table border=\"1\" class=\"dataframe\">\n",
              "  <thead>\n",
              "    <tr style=\"text-align: right;\">\n",
              "      <th></th>\n",
              "      <th>Name</th>\n",
              "      <th>\"Sex\"</th>\n",
              "      <th>\"Age\"</th>\n",
              "      <th>\"Height (in)\"</th>\n",
              "      <th>\"Weight (lbs)\"</th>\n",
              "    </tr>\n",
              "  </thead>\n",
              "  <tbody>\n",
              "    <tr>\n",
              "      <th>0</th>\n",
              "      <td>Alex</td>\n",
              "      <td>\"M\"</td>\n",
              "      <td>41</td>\n",
              "      <td>74</td>\n",
              "      <td>170</td>\n",
              "    </tr>\n",
              "    <tr>\n",
              "      <th>1</th>\n",
              "      <td>Bert</td>\n",
              "      <td>\"M\"</td>\n",
              "      <td>42</td>\n",
              "      <td>68</td>\n",
              "      <td>166</td>\n",
              "    </tr>\n",
              "    <tr>\n",
              "      <th>2</th>\n",
              "      <td>Carl</td>\n",
              "      <td>\"M\"</td>\n",
              "      <td>32</td>\n",
              "      <td>70</td>\n",
              "      <td>155</td>\n",
              "    </tr>\n",
              "    <tr>\n",
              "      <th>3</th>\n",
              "      <td>Dave</td>\n",
              "      <td>\"M\"</td>\n",
              "      <td>39</td>\n",
              "      <td>72</td>\n",
              "      <td>167</td>\n",
              "    </tr>\n",
              "    <tr>\n",
              "      <th>4</th>\n",
              "      <td>Elly</td>\n",
              "      <td>\"F\"</td>\n",
              "      <td>30</td>\n",
              "      <td>66</td>\n",
              "      <td>124</td>\n",
              "    </tr>\n",
              "    <tr>\n",
              "      <th>5</th>\n",
              "      <td>Fran</td>\n",
              "      <td>\"F\"</td>\n",
              "      <td>33</td>\n",
              "      <td>66</td>\n",
              "      <td>115</td>\n",
              "    </tr>\n",
              "    <tr>\n",
              "      <th>6</th>\n",
              "      <td>Gwen</td>\n",
              "      <td>\"F\"</td>\n",
              "      <td>26</td>\n",
              "      <td>64</td>\n",
              "      <td>121</td>\n",
              "    </tr>\n",
              "    <tr>\n",
              "      <th>7</th>\n",
              "      <td>Hank</td>\n",
              "      <td>\"M\"</td>\n",
              "      <td>30</td>\n",
              "      <td>71</td>\n",
              "      <td>158</td>\n",
              "    </tr>\n",
              "    <tr>\n",
              "      <th>8</th>\n",
              "      <td>Ivan</td>\n",
              "      <td>\"M\"</td>\n",
              "      <td>53</td>\n",
              "      <td>72</td>\n",
              "      <td>175</td>\n",
              "    </tr>\n",
              "    <tr>\n",
              "      <th>9</th>\n",
              "      <td>Jake</td>\n",
              "      <td>\"M\"</td>\n",
              "      <td>32</td>\n",
              "      <td>69</td>\n",
              "      <td>143</td>\n",
              "    </tr>\n",
              "    <tr>\n",
              "      <th>10</th>\n",
              "      <td>Kate</td>\n",
              "      <td>\"F\"</td>\n",
              "      <td>47</td>\n",
              "      <td>69</td>\n",
              "      <td>139</td>\n",
              "    </tr>\n",
              "    <tr>\n",
              "      <th>11</th>\n",
              "      <td>Luke</td>\n",
              "      <td>\"M\"</td>\n",
              "      <td>34</td>\n",
              "      <td>72</td>\n",
              "      <td>163</td>\n",
              "    </tr>\n",
              "    <tr>\n",
              "      <th>12</th>\n",
              "      <td>Myra</td>\n",
              "      <td>\"F\"</td>\n",
              "      <td>23</td>\n",
              "      <td>62</td>\n",
              "      <td>98</td>\n",
              "    </tr>\n",
              "    <tr>\n",
              "      <th>13</th>\n",
              "      <td>Neil</td>\n",
              "      <td>\"M\"</td>\n",
              "      <td>36</td>\n",
              "      <td>75</td>\n",
              "      <td>160</td>\n",
              "    </tr>\n",
              "    <tr>\n",
              "      <th>14</th>\n",
              "      <td>Omar</td>\n",
              "      <td>\"M\"</td>\n",
              "      <td>38</td>\n",
              "      <td>70</td>\n",
              "      <td>145</td>\n",
              "    </tr>\n",
              "    <tr>\n",
              "      <th>15</th>\n",
              "      <td>Page</td>\n",
              "      <td>\"F\"</td>\n",
              "      <td>31</td>\n",
              "      <td>67</td>\n",
              "      <td>135</td>\n",
              "    </tr>\n",
              "    <tr>\n",
              "      <th>16</th>\n",
              "      <td>Quin</td>\n",
              "      <td>\"M\"</td>\n",
              "      <td>29</td>\n",
              "      <td>71</td>\n",
              "      <td>176</td>\n",
              "    </tr>\n",
              "    <tr>\n",
              "      <th>17</th>\n",
              "      <td>Ruth</td>\n",
              "      <td>\"F\"</td>\n",
              "      <td>28</td>\n",
              "      <td>65</td>\n",
              "      <td>131</td>\n",
              "    </tr>\n",
              "  </tbody>\n",
              "</table>\n",
              "</div>"
            ],
            "text/plain": [
              "    Name       \"Sex\"   \"Age\"   \"Height (in)\"   \"Weight (lbs)\"\n",
              "0   Alex         \"M\"      41              74              170\n",
              "1   Bert         \"M\"      42              68              166\n",
              "2   Carl         \"M\"      32              70              155\n",
              "3   Dave         \"M\"      39              72              167\n",
              "4   Elly         \"F\"      30              66              124\n",
              "5   Fran         \"F\"      33              66              115\n",
              "6   Gwen         \"F\"      26              64              121\n",
              "7   Hank         \"M\"      30              71              158\n",
              "8   Ivan         \"M\"      53              72              175\n",
              "9   Jake         \"M\"      32              69              143\n",
              "10  Kate         \"F\"      47              69              139\n",
              "11  Luke         \"M\"      34              72              163\n",
              "12  Myra         \"F\"      23              62               98\n",
              "13  Neil         \"M\"      36              75              160\n",
              "14  Omar         \"M\"      38              70              145\n",
              "15  Page         \"F\"      31              67              135\n",
              "16  Quin         \"M\"      29              71              176\n",
              "17  Ruth         \"F\"      28              65              131"
            ]
          },
          "metadata": {
            "tags": []
          },
          "execution_count": 19
        }
      ]
    },
    {
      "metadata": {
        "id": "spohYDzjOtl3",
        "colab_type": "code",
        "outputId": "2dd2cb00-247a-4447-e6f4-2fe8eb74f371",
        "colab": {
          "base_uri": "https://localhost:8080/",
          "height": 233
        }
      },
      "cell_type": "code",
      "source": [
        "!mkdir -p  \"/content/drive/My Drive/colab_result\"\n",
        "!echo \"accuracy is 100%\" > \"/content/drive/My Drive/colab_result/result_01.txt\"\n",
        "!tree \"/content/drive/My Drive\""
      ],
      "execution_count": 0,
      "outputs": [
        {
          "output_type": "stream",
          "text": [
            "/content/drive/My Drive\n",
            "├── Colab Notebooks\n",
            "│   └── Colab Intro.ipynb\n",
            "├── colab_result\n",
            "│   └── result_01.txt\n",
            "├── datasets\n",
            "│   └── biostats.csv\n",
            "├── Untitled form.gform\n",
            "└── Untitled form (Responses).gsheet\n",
            "\n",
            "3 directories, 5 files\n"
          ],
          "name": "stdout"
        }
      ]
    },
    {
      "metadata": {
        "id": "sekzgAeDPVZv",
        "colab_type": "text"
      },
      "cell_type": "markdown",
      "source": [
        "## Train MLP Model"
      ]
    },
    {
      "metadata": {
        "id": "x5rP9yjPPzWI",
        "colab_type": "text"
      },
      "cell_type": "markdown",
      "source": [
        "Always install all of your dependencies in the begining of your notebook! "
      ]
    },
    {
      "metadata": {
        "id": "ew2KjZ9CQB9D",
        "colab_type": "code",
        "outputId": "d4ae272d-a2a0-4cab-c7a6-aa4f02ed36b1",
        "colab": {
          "base_uri": "https://localhost:8080/",
          "height": 165
        }
      },
      "cell_type": "code",
      "source": [
        "!apt-get -qq install -y libarchive-dev \n",
        "!pip install -q -U libarchive"
      ],
      "execution_count": 0,
      "outputs": [
        {
          "output_type": "stream",
          "text": [
            "Selecting previously unselected package libarchive-dev:amd64.\n",
            "(Reading database ... \r(Reading database ... 5%\r(Reading database ... 10%\r(Reading database ... 15%\r(Reading database ... 20%\r(Reading database ... 25%\r(Reading database ... 30%\r(Reading database ... 35%\r(Reading database ... 40%\r(Reading database ... 45%\r(Reading database ... 50%\r(Reading database ... 55%\r(Reading database ... 60%\r(Reading database ... 65%\r(Reading database ... 70%\r(Reading database ... 75%\r(Reading database ... 80%\r(Reading database ... 85%\r(Reading database ... 90%\r(Reading database ... 95%\r(Reading database ... 100%\r(Reading database ... 131359 files and directories currently installed.)\n",
            "Preparing to unpack .../libarchive-dev_3.2.2-3.1ubuntu0.3_amd64.deb ...\n",
            "Unpacking libarchive-dev:amd64 (3.2.2-3.1ubuntu0.3) ...\n",
            "Processing triggers for man-db (2.8.3-2ubuntu0.1) ...\n",
            "Setting up libarchive-dev:amd64 (3.2.2-3.1ubuntu0.3) ...\n",
            "  Building wheel for libarchive (setup.py) ... \u001b[?25ldone\n",
            "\u001b[?25h"
          ],
          "name": "stdout"
        }
      ]
    },
    {
      "metadata": {
        "id": "7t_1cQRoQcrs",
        "colab_type": "code",
        "outputId": "61b9d83c-023d-41ef-d027-e9cb333b387f",
        "colab": {
          "base_uri": "https://localhost:8080/",
          "height": 34
        }
      },
      "cell_type": "code",
      "source": [
        "import libarchive\n",
        "print(libarchive.__version__)"
      ],
      "execution_count": 0,
      "outputs": [
        {
          "output_type": "stream",
          "text": [
            "0.4.6\n"
          ],
          "name": "stdout"
        }
      ]
    },
    {
      "metadata": {
        "id": "dB8zbjknQmJs",
        "colab_type": "text"
      },
      "cell_type": "markdown",
      "source": [
        "The import all of your prerequisites:"
      ]
    },
    {
      "metadata": {
        "id": "jHP2YLYUQwQF",
        "colab_type": "code",
        "outputId": "c06ead81-9eff-454e-80a3-a32a7e959574",
        "colab": {
          "base_uri": "https://localhost:8080/",
          "height": 34
        }
      },
      "cell_type": "code",
      "source": [
        "import numpy as np\n",
        "import matplotlib.pyplot as plt\n",
        "plt.rcParams['figure.figsize'] = (7,9) # Make the figures a bit bigger\n",
        "\n",
        "\n",
        "import os\n",
        "import tensorflow as tf\n",
        "from keras.datasets import mnist\n",
        "from keras.models import Sequential\n",
        "from keras.layers.core import Dense, Dropout, Activation\n",
        "from keras.utils import np_utils, to_categorical\n",
        "from keras.callbacks import ModelCheckpoint"
      ],
      "execution_count": 0,
      "outputs": [
        {
          "output_type": "stream",
          "text": [
            "Using TensorFlow backend.\n"
          ],
          "name": "stderr"
        }
      ]
    },
    {
      "metadata": {
        "id": "Ix6OCVM-RHoH",
        "colab_type": "text"
      },
      "cell_type": "markdown",
      "source": [
        "Build the network"
      ]
    },
    {
      "metadata": {
        "id": "L-pmGfFNRD1L",
        "colab_type": "code",
        "outputId": "96c2c1f3-f1d3-4055-f8ae-ddaed17465f7",
        "colab": {
          "base_uri": "https://localhost:8080/",
          "height": 122
        }
      },
      "cell_type": "code",
      "source": [
        "nb_classes = 10\n",
        "\n",
        "(train_images, train_labels), (test_images, test_labels) = mnist.load_data()\n",
        "\n",
        "x_train = train_images.reshape((60000, 28 * 28))\n",
        "x_train = x_train.astype('float32') / 255\n",
        "x_test = test_images.reshape((10000, 28 * 28))\n",
        "x_test = x_test.astype('float32') / 255\n",
        "\n",
        "y_train = to_categorical(train_labels)\n",
        "y_test = to_categorical(test_labels)\n",
        "\n",
        "model = Sequential()\n",
        "model.add(Dense(512, activation='relu', input_shape=(28 * 28,)))\n",
        "model.add(Dense(10, activation='softmax'))\n",
        "\n",
        "model.compile(optimizer='rmsprop', loss='categorical_crossentropy', metrics=['accuracy'])\n",
        "\n",
        "# Checkpoint In the google drive folder\n",
        "model_dir = GDRIVE_DIR / 'models' / 'mnist'\n",
        "model_dir.mkdir(parents=True, exist_ok=True)\n",
        "\n",
        "checkpoint_path =  model_dir /\"model-{acc:02f}.hdf5\"\n",
        "\n",
        "# Keep only a single checkpoint, the best over test accuracy.\n",
        "checkpoint = ModelCheckpoint(str(checkpoint_path),\n",
        "                             monitor='acc',\n",
        "                             verbose=1)"
      ],
      "execution_count": 0,
      "outputs": [
        {
          "output_type": "stream",
          "text": [
            "Downloading data from https://s3.amazonaws.com/img-datasets/mnist.npz\n",
            "11493376/11490434 [==============================] - 1s 0us/step\n",
            "WARNING:tensorflow:From /usr/local/lib/python3.6/dist-packages/tensorflow/python/framework/op_def_library.py:263: colocate_with (from tensorflow.python.framework.ops) is deprecated and will be removed in a future version.\n",
            "Instructions for updating:\n",
            "Colocations handled automatically by placer.\n"
          ],
          "name": "stdout"
        }
      ]
    },
    {
      "metadata": {
        "id": "vSEOdMC1Uw5b",
        "colab_type": "text"
      },
      "cell_type": "markdown",
      "source": [
        "Train model from scratch or Resume previous training:"
      ]
    },
    {
      "metadata": {
        "id": "EQRFGGy6b1kz",
        "colab_type": "code",
        "colab": {}
      },
      "cell_type": "code",
      "source": [
        "def get_checkpoints():\n",
        "  saved_checkpoints = [f for f in os.listdir(model_dir) if f.startswith('model-')]\n",
        "  saved_checkpoints.sort(reverse=True)\n",
        "  return saved_checkpoints"
      ],
      "execution_count": 0,
      "outputs": []
    },
    {
      "metadata": {
        "id": "6AyW7oILVAWs",
        "colab_type": "code",
        "outputId": "2c69c827-1ff8-45e5-e3ee-c759964f6c02",
        "colab": {
          "base_uri": "https://localhost:8080/",
          "height": 74
        }
      },
      "cell_type": "code",
      "source": [
        "saved_checkpoints = get_checkpoints()\n",
        "print(saved_checkpoints)"
      ],
      "execution_count": 0,
      "outputs": [
        {
          "output_type": "stream",
          "text": [
            "['model-0.865600.hdf5', 'model-0.840783.hdf5', 'model-0.751167.hdf5', 'model-0.502367.hdf5']\n"
          ],
          "name": "stdout"
        }
      ]
    },
    {
      "metadata": {
        "id": "UdEJLZk9XR9g",
        "colab_type": "code",
        "outputId": "653d14eb-1dc4-4d25-a31d-a055394efd2a",
        "colab": {
          "base_uri": "https://localhost:8080/",
          "height": 343
        }
      },
      "cell_type": "code",
      "source": [
        "if len(saved_checkpoints) > 0:\n",
        "  last_checkpoint = saved_checkpoints[0]\n",
        "  print(\"Resume training from \" + last_checkpoint)\n",
        "  model.load_weights(model_dir / last_checkpoint)\n",
        "else:\n",
        "  print(\"Traning from scratch!\")\n",
        "\n",
        "model.fit(x_train, y_train, epochs=4, batch_size=15000, callbacks = [checkpoint])"
      ],
      "execution_count": 0,
      "outputs": [
        {
          "output_type": "stream",
          "text": [
            "Resume training from model-0.865600.hdf5\n",
            "Epoch 1/4\n",
            "60000/60000 [==============================] - 0s 4us/step - loss: 0.4780 - acc: 0.8646\n",
            "\n",
            "Epoch 00001: saving model to /content/drive/My Drive/models/mnist/model-0.864567.hdf5\n",
            "Epoch 2/4\n",
            "60000/60000 [==============================] - 0s 4us/step - loss: 0.4166 - acc: 0.8863\n",
            "\n",
            "Epoch 00002: saving model to /content/drive/My Drive/models/mnist/model-0.886300.hdf5\n",
            "Epoch 3/4\n",
            "60000/60000 [==============================] - 0s 4us/step - loss: 0.4132 - acc: 0.8836\n",
            "\n",
            "Epoch 00003: saving model to /content/drive/My Drive/models/mnist/model-0.883550.hdf5\n",
            "Epoch 4/4\n",
            "60000/60000 [==============================] - 0s 5us/step - loss: 0.3645 - acc: 0.8977\n",
            "\n",
            "Epoch 00004: saving model to /content/drive/My Drive/models/mnist/model-0.897650.hdf5\n"
          ],
          "name": "stdout"
        },
        {
          "output_type": "execute_result",
          "data": {
            "text/plain": [
              "<keras.callbacks.History at 0x7fba19830f98>"
            ]
          },
          "metadata": {
            "tags": []
          },
          "execution_count": 29
        }
      ]
    },
    {
      "metadata": {
        "id": "ZOHxvUpibqfA",
        "colab_type": "text"
      },
      "cell_type": "markdown",
      "source": [
        "## Long Running Job"
      ]
    },
    {
      "metadata": {
        "id": "gnrCliPOb95F",
        "colab_type": "code",
        "outputId": "f5a209d3-dbc9-4bfc-ca7b-f42871849f28",
        "colab": {
          "base_uri": "https://localhost:8080/",
          "height": 51
        }
      },
      "cell_type": "code",
      "source": [
        "score = model.evaluate(x_test, y_test)\n",
        "print('Test accuracy:', score[1])"
      ],
      "execution_count": 0,
      "outputs": [
        {
          "output_type": "stream",
          "text": [
            "10000/10000 [==============================] - 0s 47us/step\n",
            "Test accuracy: 0.8962\n"
          ],
          "name": "stdout"
        }
      ]
    },
    {
      "metadata": {
        "id": "kNuVCDkgcoWW",
        "colab_type": "code",
        "outputId": "1400a231-48dd-4230-e0cd-6902c2f78da3",
        "colab": {
          "base_uri": "https://localhost:8080/",
          "height": 6834
        }
      },
      "cell_type": "code",
      "source": [
        "model.fit(x_train, y_train, epochs=200, batch_size=15000)"
      ],
      "execution_count": 31,
      "outputs": [
        {
          "output_type": "stream",
          "text": [
            "Epoch 1/200\n",
            "60000/60000 [==============================] - 0s 4us/step - loss: 0.3538 - acc: 0.8989\n",
            "Epoch 2/200\n",
            "60000/60000 [==============================] - 0s 4us/step - loss: 0.3301 - acc: 0.9084\n",
            "Epoch 3/200\n",
            "60000/60000 [==============================] - 0s 4us/step - loss: 0.3151 - acc: 0.9113\n",
            "Epoch 4/200\n",
            "60000/60000 [==============================] - 0s 4us/step - loss: 0.3038 - acc: 0.9155\n",
            "Epoch 5/200\n",
            "60000/60000 [==============================] - 0s 4us/step - loss: 0.3281 - acc: 0.9043\n",
            "Epoch 6/200\n",
            "60000/60000 [==============================] - 0s 4us/step - loss: 0.2674 - acc: 0.9259\n",
            "Epoch 7/200\n",
            "60000/60000 [==============================] - 0s 4us/step - loss: 0.2760 - acc: 0.9196\n",
            "Epoch 8/200\n",
            "60000/60000 [==============================] - 0s 4us/step - loss: 0.2562 - acc: 0.9271\n",
            "Epoch 9/200\n",
            "60000/60000 [==============================] - 0s 4us/step - loss: 0.2575 - acc: 0.9249\n",
            "Epoch 10/200\n",
            "60000/60000 [==============================] - 0s 4us/step - loss: 0.2402 - acc: 0.9315\n",
            "Epoch 11/200\n",
            "60000/60000 [==============================] - 0s 4us/step - loss: 0.2392 - acc: 0.9318\n",
            "Epoch 12/200\n",
            "60000/60000 [==============================] - 0s 4us/step - loss: 0.2411 - acc: 0.9294\n",
            "Epoch 13/200\n",
            "60000/60000 [==============================] - 0s 4us/step - loss: 0.2155 - acc: 0.9392\n",
            "Epoch 14/200\n",
            "60000/60000 [==============================] - 0s 4us/step - loss: 0.2282 - acc: 0.9332\n",
            "Epoch 15/200\n",
            "60000/60000 [==============================] - 0s 4us/step - loss: 0.2037 - acc: 0.9417\n",
            "Epoch 16/200\n",
            "60000/60000 [==============================] - 0s 4us/step - loss: 0.1899 - acc: 0.9467\n",
            "Epoch 17/200\n",
            "60000/60000 [==============================] - 0s 4us/step - loss: 0.2079 - acc: 0.9391\n",
            "Epoch 18/200\n",
            "60000/60000 [==============================] - 0s 4us/step - loss: 0.1939 - acc: 0.9439\n",
            "Epoch 19/200\n",
            "60000/60000 [==============================] - 0s 4us/step - loss: 0.1806 - acc: 0.9492\n",
            "Epoch 20/200\n",
            "60000/60000 [==============================] - 0s 4us/step - loss: 0.1830 - acc: 0.9480\n",
            "Epoch 21/200\n",
            "60000/60000 [==============================] - 0s 4us/step - loss: 0.1700 - acc: 0.9521\n",
            "Epoch 22/200\n",
            "60000/60000 [==============================] - 0s 4us/step - loss: 0.1821 - acc: 0.9456\n",
            "Epoch 23/200\n",
            "60000/60000 [==============================] - 0s 4us/step - loss: 0.1716 - acc: 0.9500\n",
            "Epoch 24/200\n",
            "60000/60000 [==============================] - 0s 4us/step - loss: 0.1585 - acc: 0.9550\n",
            "Epoch 25/200\n",
            "60000/60000 [==============================] - 0s 5us/step - loss: 0.1557 - acc: 0.9559\n",
            "Epoch 26/200\n",
            "60000/60000 [==============================] - 0s 4us/step - loss: 0.1675 - acc: 0.9507\n",
            "Epoch 27/200\n",
            "60000/60000 [==============================] - 0s 4us/step - loss: 0.1438 - acc: 0.9597\n",
            "Epoch 28/200\n",
            "60000/60000 [==============================] - 0s 4us/step - loss: 0.1483 - acc: 0.9575\n",
            "Epoch 29/200\n",
            "60000/60000 [==============================] - 0s 4us/step - loss: 0.1448 - acc: 0.9583\n",
            "Epoch 30/200\n",
            "60000/60000 [==============================] - 0s 4us/step - loss: 0.1357 - acc: 0.9610\n",
            "Epoch 31/200\n",
            "60000/60000 [==============================] - 0s 4us/step - loss: 0.1357 - acc: 0.9614\n",
            "Epoch 32/200\n",
            "60000/60000 [==============================] - 0s 4us/step - loss: 0.1361 - acc: 0.9615\n",
            "Epoch 33/200\n",
            "60000/60000 [==============================] - 0s 4us/step - loss: 0.1323 - acc: 0.9618\n",
            "Epoch 34/200\n",
            "60000/60000 [==============================] - 0s 4us/step - loss: 0.1169 - acc: 0.9673\n",
            "Epoch 35/200\n",
            "60000/60000 [==============================] - 0s 4us/step - loss: 0.1349 - acc: 0.9607\n",
            "Epoch 36/200\n",
            "60000/60000 [==============================] - 0s 5us/step - loss: 0.1260 - acc: 0.9635\n",
            "Epoch 37/200\n",
            "60000/60000 [==============================] - 0s 4us/step - loss: 0.1131 - acc: 0.9679\n",
            "Epoch 38/200\n",
            "60000/60000 [==============================] - 0s 4us/step - loss: 0.1177 - acc: 0.9666\n",
            "Epoch 39/200\n",
            "60000/60000 [==============================] - 0s 4us/step - loss: 0.1132 - acc: 0.9682\n",
            "Epoch 40/200\n",
            "60000/60000 [==============================] - 0s 4us/step - loss: 0.1143 - acc: 0.9678\n",
            "Epoch 41/200\n",
            "60000/60000 [==============================] - 0s 4us/step - loss: 0.1155 - acc: 0.9662\n",
            "Epoch 42/200\n",
            "60000/60000 [==============================] - 0s 4us/step - loss: 0.0982 - acc: 0.9735\n",
            "Epoch 43/200\n",
            "60000/60000 [==============================] - 0s 4us/step - loss: 0.0993 - acc: 0.9729\n",
            "Epoch 44/200\n",
            "60000/60000 [==============================] - 0s 5us/step - loss: 0.1145 - acc: 0.9669\n",
            "Epoch 45/200\n",
            "60000/60000 [==============================] - 0s 4us/step - loss: 0.0913 - acc: 0.9749\n",
            "Epoch 46/200\n",
            "60000/60000 [==============================] - 0s 4us/step - loss: 0.1004 - acc: 0.9713\n",
            "Epoch 47/200\n",
            "60000/60000 [==============================] - 0s 4us/step - loss: 0.1014 - acc: 0.9713\n",
            "Epoch 48/200\n",
            "60000/60000 [==============================] - 0s 4us/step - loss: 0.0872 - acc: 0.9764\n",
            "Epoch 49/200\n",
            "60000/60000 [==============================] - 0s 4us/step - loss: 0.0984 - acc: 0.9723\n",
            "Epoch 50/200\n",
            "60000/60000 [==============================] - 0s 4us/step - loss: 0.0902 - acc: 0.9743\n",
            "Epoch 51/200\n",
            "60000/60000 [==============================] - 0s 4us/step - loss: 0.0857 - acc: 0.9764\n",
            "Epoch 52/200\n",
            "60000/60000 [==============================] - 0s 5us/step - loss: 0.0929 - acc: 0.9730\n",
            "Epoch 53/200\n",
            "60000/60000 [==============================] - 0s 4us/step - loss: 0.0784 - acc: 0.9788\n",
            "Epoch 54/200\n",
            "60000/60000 [==============================] - 0s 4us/step - loss: 0.0893 - acc: 0.9745\n",
            "Epoch 55/200\n",
            "60000/60000 [==============================] - 0s 4us/step - loss: 0.0793 - acc: 0.9778\n",
            "Epoch 56/200\n",
            "60000/60000 [==============================] - 0s 5us/step - loss: 0.0753 - acc: 0.9796\n",
            "Epoch 57/200\n",
            "60000/60000 [==============================] - 0s 4us/step - loss: 0.0785 - acc: 0.9781\n",
            "Epoch 58/200\n",
            "60000/60000 [==============================] - 0s 4us/step - loss: 0.0756 - acc: 0.9791\n",
            "Epoch 59/200\n",
            "60000/60000 [==============================] - 0s 4us/step - loss: 0.0862 - acc: 0.9746\n",
            "Epoch 60/200\n",
            "60000/60000 [==============================] - 0s 4us/step - loss: 0.0719 - acc: 0.9801\n",
            "Epoch 61/200\n",
            "60000/60000 [==============================] - 0s 4us/step - loss: 0.0707 - acc: 0.9806\n",
            "Epoch 62/200\n",
            "60000/60000 [==============================] - 0s 4us/step - loss: 0.0740 - acc: 0.9790\n",
            "Epoch 63/200\n",
            "60000/60000 [==============================] - 0s 4us/step - loss: 0.0632 - acc: 0.9830\n",
            "Epoch 64/200\n",
            "60000/60000 [==============================] - 0s 4us/step - loss: 0.0659 - acc: 0.9817\n",
            "Epoch 65/200\n",
            "60000/60000 [==============================] - 0s 4us/step - loss: 0.0784 - acc: 0.9761\n",
            "Epoch 66/200\n",
            "60000/60000 [==============================] - 0s 4us/step - loss: 0.0613 - acc: 0.9833\n",
            "Epoch 67/200\n",
            "60000/60000 [==============================] - 0s 4us/step - loss: 0.0652 - acc: 0.9816\n",
            "Epoch 68/200\n",
            "60000/60000 [==============================] - 0s 5us/step - loss: 0.0602 - acc: 0.9837\n",
            "Epoch 69/200\n",
            "60000/60000 [==============================] - 0s 4us/step - loss: 0.0584 - acc: 0.9846\n",
            "Epoch 70/200\n",
            "60000/60000 [==============================] - 0s 4us/step - loss: 0.0628 - acc: 0.9824\n",
            "Epoch 71/200\n",
            "60000/60000 [==============================] - 0s 4us/step - loss: 0.0641 - acc: 0.9813\n",
            "Epoch 72/200\n",
            "60000/60000 [==============================] - 0s 4us/step - loss: 0.0603 - acc: 0.9831\n",
            "Epoch 73/200\n",
            "60000/60000 [==============================] - 0s 4us/step - loss: 0.0597 - acc: 0.9833\n",
            "Epoch 74/200\n",
            "60000/60000 [==============================] - 0s 5us/step - loss: 0.0561 - acc: 0.9841\n",
            "Epoch 75/200\n",
            "60000/60000 [==============================] - 0s 5us/step - loss: 0.0500 - acc: 0.9869\n",
            "Epoch 76/200\n",
            "60000/60000 [==============================] - 0s 6us/step - loss: 0.0575 - acc: 0.9839\n",
            "Epoch 77/200\n",
            "60000/60000 [==============================] - 0s 4us/step - loss: 0.0550 - acc: 0.9843\n",
            "Epoch 78/200\n",
            "60000/60000 [==============================] - 0s 4us/step - loss: 0.0464 - acc: 0.9879\n",
            "Epoch 79/200\n",
            "60000/60000 [==============================] - 0s 5us/step - loss: 0.0488 - acc: 0.9869\n",
            "Epoch 80/200\n",
            "60000/60000 [==============================] - 0s 5us/step - loss: 0.0665 - acc: 0.9799\n",
            "Epoch 81/200\n",
            "60000/60000 [==============================] - 0s 4us/step - loss: 0.0443 - acc: 0.9884\n",
            "Epoch 82/200\n",
            "60000/60000 [==============================] - 0s 5us/step - loss: 0.0488 - acc: 0.9866\n",
            "Epoch 83/200\n",
            "60000/60000 [==============================] - 0s 4us/step - loss: 0.0485 - acc: 0.9869\n",
            "Epoch 84/200\n",
            "60000/60000 [==============================] - 0s 5us/step - loss: 0.0420 - acc: 0.9891\n",
            "Epoch 85/200\n",
            "60000/60000 [==============================] - 0s 5us/step - loss: 0.0507 - acc: 0.9851\n",
            "Epoch 86/200\n",
            "60000/60000 [==============================] - 0s 5us/step - loss: 0.0446 - acc: 0.9880\n",
            "Epoch 87/200\n",
            "60000/60000 [==============================] - 0s 5us/step - loss: 0.0440 - acc: 0.9881\n",
            "Epoch 88/200\n",
            "60000/60000 [==============================] - 0s 4us/step - loss: 0.0442 - acc: 0.9877\n",
            "Epoch 89/200\n",
            "60000/60000 [==============================] - 0s 5us/step - loss: 0.0424 - acc: 0.9883\n",
            "Epoch 90/200\n",
            "60000/60000 [==============================] - 0s 5us/step - loss: 0.0469 - acc: 0.9865\n",
            "Epoch 91/200\n",
            "60000/60000 [==============================] - 0s 4us/step - loss: 0.0405 - acc: 0.9894\n",
            "Epoch 92/200\n",
            "60000/60000 [==============================] - 0s 4us/step - loss: 0.0404 - acc: 0.9894\n",
            "Epoch 93/200\n",
            "60000/60000 [==============================] - 0s 5us/step - loss: 0.0388 - acc: 0.9894\n",
            "Epoch 94/200\n",
            "60000/60000 [==============================] - 0s 5us/step - loss: 0.0377 - acc: 0.9902\n",
            "Epoch 95/200\n",
            "60000/60000 [==============================] - 0s 4us/step - loss: 0.0430 - acc: 0.9875\n",
            "Epoch 96/200\n",
            "60000/60000 [==============================] - 0s 5us/step - loss: 0.0349 - acc: 0.9912\n",
            "Epoch 97/200\n",
            "60000/60000 [==============================] - 0s 5us/step - loss: 0.0399 - acc: 0.9893\n",
            "Epoch 98/200\n",
            "60000/60000 [==============================] - 0s 4us/step - loss: 0.0388 - acc: 0.9898\n",
            "Epoch 99/200\n",
            "60000/60000 [==============================] - 0s 4us/step - loss: 0.0374 - acc: 0.9899\n",
            "Epoch 100/200\n",
            "60000/60000 [==============================] - 0s 4us/step - loss: 0.0315 - acc: 0.9922\n",
            "Epoch 101/200\n",
            "60000/60000 [==============================] - 0s 5us/step - loss: 0.0320 - acc: 0.9922\n",
            "Epoch 102/200\n",
            "60000/60000 [==============================] - 0s 4us/step - loss: 0.0359 - acc: 0.9905\n",
            "Epoch 103/200\n",
            "60000/60000 [==============================] - 0s 5us/step - loss: 0.0419 - acc: 0.9882\n",
            "Epoch 104/200\n",
            "60000/60000 [==============================] - 0s 5us/step - loss: 0.0291 - acc: 0.9934\n",
            "Epoch 105/200\n",
            "60000/60000 [==============================] - 0s 5us/step - loss: 0.0300 - acc: 0.9927\n",
            "Epoch 106/200\n",
            "60000/60000 [==============================] - 0s 4us/step - loss: 0.0401 - acc: 0.9881\n",
            "Epoch 107/200\n",
            "60000/60000 [==============================] - 0s 5us/step - loss: 0.0279 - acc: 0.9934\n",
            "Epoch 108/200\n",
            "60000/60000 [==============================] - 0s 4us/step - loss: 0.0283 - acc: 0.9933\n",
            "Epoch 109/200\n",
            "60000/60000 [==============================] - 0s 5us/step - loss: 0.0294 - acc: 0.9931\n",
            "Epoch 110/200\n",
            "60000/60000 [==============================] - 0s 4us/step - loss: 0.0293 - acc: 0.9927\n",
            "Epoch 111/200\n",
            "60000/60000 [==============================] - 0s 4us/step - loss: 0.0288 - acc: 0.9933\n",
            "Epoch 112/200\n",
            "60000/60000 [==============================] - 0s 4us/step - loss: 0.0339 - acc: 0.9906\n",
            "Epoch 113/200\n",
            "60000/60000 [==============================] - 0s 5us/step - loss: 0.0295 - acc: 0.9925\n",
            "Epoch 114/200\n",
            "60000/60000 [==============================] - 0s 4us/step - loss: 0.0242 - acc: 0.9948\n",
            "Epoch 115/200\n",
            "60000/60000 [==============================] - 0s 5us/step - loss: 0.0298 - acc: 0.9924\n",
            "Epoch 116/200\n",
            "60000/60000 [==============================] - 0s 5us/step - loss: 0.0252 - acc: 0.9943\n",
            "Epoch 117/200\n",
            "60000/60000 [==============================] - 0s 4us/step - loss: 0.0228 - acc: 0.9950\n",
            "Epoch 118/200\n",
            "60000/60000 [==============================] - 0s 4us/step - loss: 0.0325 - acc: 0.9911\n",
            "Epoch 119/200\n",
            "60000/60000 [==============================] - 0s 4us/step - loss: 0.0280 - acc: 0.9928\n",
            "Epoch 120/200\n",
            "60000/60000 [==============================] - 0s 5us/step - loss: 0.0207 - acc: 0.9960\n",
            "Epoch 121/200\n",
            "60000/60000 [==============================] - 0s 5us/step - loss: 0.0246 - acc: 0.9941\n",
            "Epoch 122/200\n",
            "60000/60000 [==============================] - 0s 4us/step - loss: 0.0281 - acc: 0.9927\n",
            "Epoch 123/200\n",
            "60000/60000 [==============================] - 0s 4us/step - loss: 0.0218 - acc: 0.9952\n",
            "Epoch 124/200\n",
            "60000/60000 [==============================] - 0s 5us/step - loss: 0.0239 - acc: 0.9944\n",
            "Epoch 125/200\n",
            "60000/60000 [==============================] - 0s 4us/step - loss: 0.0200 - acc: 0.9961\n",
            "Epoch 126/200\n",
            "60000/60000 [==============================] - 0s 4us/step - loss: 0.0248 - acc: 0.9939\n",
            "Epoch 127/200\n",
            "60000/60000 [==============================] - 0s 4us/step - loss: 0.0225 - acc: 0.9949\n",
            "Epoch 128/200\n",
            "60000/60000 [==============================] - 0s 4us/step - loss: 0.0191 - acc: 0.9963\n",
            "Epoch 129/200\n",
            "60000/60000 [==============================] - 0s 4us/step - loss: 0.0214 - acc: 0.9955\n",
            "Epoch 130/200\n",
            "60000/60000 [==============================] - 0s 4us/step - loss: 0.0226 - acc: 0.9947\n",
            "Epoch 131/200\n",
            "60000/60000 [==============================] - 0s 4us/step - loss: 0.0301 - acc: 0.9913\n",
            "Epoch 132/200\n",
            "60000/60000 [==============================] - 0s 5us/step - loss: 0.0172 - acc: 0.9969\n",
            "Epoch 133/200\n",
            "60000/60000 [==============================] - 0s 4us/step - loss: 0.0158 - acc: 0.9974\n",
            "Epoch 134/200\n",
            "60000/60000 [==============================] - 0s 4us/step - loss: 0.0180 - acc: 0.9962\n",
            "Epoch 135/200\n",
            "60000/60000 [==============================] - 0s 5us/step - loss: 0.0264 - acc: 0.9926\n",
            "Epoch 136/200\n",
            "60000/60000 [==============================] - 0s 5us/step - loss: 0.0157 - acc: 0.9975\n",
            "Epoch 137/200\n",
            "60000/60000 [==============================] - 0s 4us/step - loss: 0.0165 - acc: 0.9968\n",
            "Epoch 138/200\n",
            "60000/60000 [==============================] - 0s 4us/step - loss: 0.0275 - acc: 0.9919\n",
            "Epoch 139/200\n",
            "60000/60000 [==============================] - 0s 5us/step - loss: 0.0182 - acc: 0.9960\n",
            "Epoch 140/200\n",
            "60000/60000 [==============================] - 0s 4us/step - loss: 0.0170 - acc: 0.9968\n",
            "Epoch 141/200\n",
            "60000/60000 [==============================] - 0s 4us/step - loss: 0.0188 - acc: 0.9959\n",
            "Epoch 142/200\n",
            "60000/60000 [==============================] - 0s 4us/step - loss: 0.0135 - acc: 0.9980\n",
            "Epoch 143/200\n",
            "60000/60000 [==============================] - 0s 5us/step - loss: 0.0135 - acc: 0.9980\n",
            "Epoch 144/200\n",
            "60000/60000 [==============================] - 0s 4us/step - loss: 0.0164 - acc: 0.9967\n",
            "Epoch 145/200\n",
            "60000/60000 [==============================] - 0s 4us/step - loss: 0.0204 - acc: 0.9951\n",
            "Epoch 146/200\n",
            "60000/60000 [==============================] - 0s 5us/step - loss: 0.0180 - acc: 0.9959\n",
            "Epoch 147/200\n",
            "60000/60000 [==============================] - 0s 5us/step - loss: 0.0150 - acc: 0.9971\n",
            "Epoch 148/200\n",
            "60000/60000 [==============================] - 0s 4us/step - loss: 0.0138 - acc: 0.9977\n",
            "Epoch 149/200\n",
            "60000/60000 [==============================] - 0s 5us/step - loss: 0.0213 - acc: 0.9946\n",
            "Epoch 150/200\n",
            "60000/60000 [==============================] - 0s 4us/step - loss: 0.0128 - acc: 0.9981\n",
            "Epoch 151/200\n",
            "60000/60000 [==============================] - 0s 5us/step - loss: 0.0119 - acc: 0.9983\n",
            "Epoch 152/200\n",
            "60000/60000 [==============================] - 0s 5us/step - loss: 0.0221 - acc: 0.9941\n",
            "Epoch 153/200\n",
            "60000/60000 [==============================] - 0s 4us/step - loss: 0.0126 - acc: 0.9979\n",
            "Epoch 154/200\n",
            "60000/60000 [==============================] - 0s 4us/step - loss: 0.0108 - acc: 0.9986\n",
            "Epoch 155/200\n",
            "60000/60000 [==============================] - 0s 4us/step - loss: 0.0192 - acc: 0.9952\n",
            "Epoch 156/200\n",
            "60000/60000 [==============================] - 0s 4us/step - loss: 0.0155 - acc: 0.9964\n",
            "Epoch 157/200\n",
            "60000/60000 [==============================] - 0s 5us/step - loss: 0.0100 - acc: 0.9988\n",
            "Epoch 158/200\n",
            "60000/60000 [==============================] - 0s 5us/step - loss: 0.0101 - acc: 0.9988\n",
            "Epoch 159/200\n",
            "60000/60000 [==============================] - 0s 5us/step - loss: 0.0182 - acc: 0.9952\n",
            "Epoch 160/200\n",
            "60000/60000 [==============================] - 0s 4us/step - loss: 0.0174 - acc: 0.9958\n",
            "Epoch 161/200\n",
            "60000/60000 [==============================] - 0s 5us/step - loss: 0.0094 - acc: 0.9989\n",
            "Epoch 162/200\n",
            "60000/60000 [==============================] - 0s 5us/step - loss: 0.0093 - acc: 0.9989\n",
            "Epoch 163/200\n",
            "60000/60000 [==============================] - 0s 4us/step - loss: 0.0129 - acc: 0.9973\n",
            "Epoch 164/200\n",
            "60000/60000 [==============================] - 0s 5us/step - loss: 0.0139 - acc: 0.9969\n",
            "Epoch 165/200\n",
            "60000/60000 [==============================] - 0s 4us/step - loss: 0.0091 - acc: 0.9990\n",
            "Epoch 166/200\n",
            "60000/60000 [==============================] - 0s 5us/step - loss: 0.0095 - acc: 0.9988\n",
            "Epoch 167/200\n",
            "60000/60000 [==============================] - 0s 5us/step - loss: 0.0247 - acc: 0.9926\n",
            "Epoch 168/200\n",
            "60000/60000 [==============================] - 0s 4us/step - loss: 0.0098 - acc: 0.9986\n",
            "Epoch 169/200\n",
            "60000/60000 [==============================] - 0s 5us/step - loss: 0.0079 - acc: 0.9993\n",
            "Epoch 170/200\n",
            "60000/60000 [==============================] - 0s 5us/step - loss: 0.0078 - acc: 0.9993\n",
            "Epoch 171/200\n",
            "60000/60000 [==============================] - 0s 4us/step - loss: 0.0090 - acc: 0.9988\n",
            "Epoch 172/200\n",
            "60000/60000 [==============================] - 0s 4us/step - loss: 0.0242 - acc: 0.9926\n",
            "Epoch 173/200\n",
            "60000/60000 [==============================] - 0s 5us/step - loss: 0.0074 - acc: 0.9993\n",
            "Epoch 174/200\n",
            "60000/60000 [==============================] - 0s 5us/step - loss: 0.0073 - acc: 0.9993\n",
            "Epoch 175/200\n",
            "60000/60000 [==============================] - 0s 5us/step - loss: 0.0092 - acc: 0.9985\n",
            "Epoch 176/200\n",
            "60000/60000 [==============================] - 0s 4us/step - loss: 0.0146 - acc: 0.9964\n",
            "Epoch 177/200\n",
            "60000/60000 [==============================] - 0s 5us/step - loss: 0.0070 - acc: 0.9994\n",
            "Epoch 178/200\n",
            "60000/60000 [==============================] - 0s 4us/step - loss: 0.0081 - acc: 0.9992\n",
            "Epoch 179/200\n",
            "60000/60000 [==============================] - 0s 5us/step - loss: 0.0139 - acc: 0.9968\n",
            "Epoch 180/200\n",
            "60000/60000 [==============================] - 0s 5us/step - loss: 0.0078 - acc: 0.9990\n",
            "Epoch 181/200\n",
            "60000/60000 [==============================] - 0s 5us/step - loss: 0.0066 - acc: 0.9994\n",
            "Epoch 182/200\n",
            "60000/60000 [==============================] - 0s 5us/step - loss: 0.0087 - acc: 0.9986\n",
            "Epoch 183/200\n",
            "60000/60000 [==============================] - 0s 5us/step - loss: 0.0204 - acc: 0.9934\n",
            "Epoch 184/200\n",
            "60000/60000 [==============================] - 0s 4us/step - loss: 0.0061 - acc: 0.9995\n",
            "Epoch 185/200\n",
            "60000/60000 [==============================] - 0s 5us/step - loss: 0.0061 - acc: 0.9995\n",
            "Epoch 186/200\n",
            "60000/60000 [==============================] - 0s 4us/step - loss: 0.0068 - acc: 0.9992\n",
            "Epoch 187/200\n",
            "60000/60000 [==============================] - 0s 4us/step - loss: 0.0159 - acc: 0.9958\n",
            "Epoch 188/200\n",
            "60000/60000 [==============================] - 0s 4us/step - loss: 0.0070 - acc: 0.9992\n",
            "Epoch 189/200\n",
            "60000/60000 [==============================] - 0s 5us/step - loss: 0.0056 - acc: 0.9995\n",
            "Epoch 190/200\n",
            "60000/60000 [==============================] - 0s 4us/step - loss: 0.0055 - acc: 0.9996\n",
            "Epoch 191/200\n",
            "60000/60000 [==============================] - 0s 4us/step - loss: 0.0057 - acc: 0.9996\n",
            "Epoch 192/200\n",
            "60000/60000 [==============================] - 0s 4us/step - loss: 0.0165 - acc: 0.9953\n",
            "Epoch 193/200\n",
            "60000/60000 [==============================] - 0s 5us/step - loss: 0.0066 - acc: 0.9992\n",
            "Epoch 194/200\n",
            "60000/60000 [==============================] - 0s 5us/step - loss: 0.0052 - acc: 0.9996\n",
            "Epoch 195/200\n",
            "60000/60000 [==============================] - 0s 4us/step - loss: 0.0053 - acc: 0.9997\n",
            "Epoch 196/200\n",
            "60000/60000 [==============================] - 0s 5us/step - loss: 0.0143 - acc: 0.9960\n",
            "Epoch 197/200\n",
            "60000/60000 [==============================] - 0s 4us/step - loss: 0.0090 - acc: 0.9980\n",
            "Epoch 198/200\n",
            "60000/60000 [==============================] - 0s 4us/step - loss: 0.0049 - acc: 0.9996\n",
            "Epoch 199/200\n",
            "60000/60000 [==============================] - 0s 4us/step - loss: 0.0049 - acc: 0.9997\n",
            "Epoch 200/200\n",
            "60000/60000 [==============================] - 0s 5us/step - loss: 0.0148 - acc: 0.9957\n"
          ],
          "name": "stdout"
        },
        {
          "output_type": "execute_result",
          "data": {
            "text/plain": [
              "<keras.callbacks.History at 0x7fba19830fd0>"
            ]
          },
          "metadata": {
            "tags": []
          },
          "execution_count": 31
        }
      ]
    },
    {
      "metadata": {
        "id": "vdykO1-tdSnc",
        "colab_type": "code",
        "colab": {
          "base_uri": "https://localhost:8080/",
          "height": 51
        },
        "outputId": "4d8d331b-0053-4629-c3c0-a806faddaa8b"
      },
      "cell_type": "code",
      "source": [
        "score = model.evaluate(x_test, y_test)\n",
        "print('Test accuracy:', score[1])"
      ],
      "execution_count": 32,
      "outputs": [
        {
          "output_type": "stream",
          "text": [
            "10000/10000 [==============================] - 0s 48us/step\n",
            "Test accuracy: 0.971\n"
          ],
          "name": "stdout"
        }
      ]
    }
  ]
}